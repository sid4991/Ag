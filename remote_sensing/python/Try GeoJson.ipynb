{
 "cells": [
  {
   "cell_type": "markdown",
   "metadata": {},
   "source": [
    "# Try GeoJson"
   ]
  },
  {
   "cell_type": "code",
   "execution_count": 7,
   "metadata": {},
   "outputs": [
    {
     "name": "stdout",
     "output_type": "stream",
     "text": [
      "Requirement already satisfied: shapely in /Users/hn/opt/anaconda3/lib/python3.7/site-packages (1.7.0)\n",
      "Note: you may need to restart the kernel to use updated packages.\n"
     ]
    }
   ],
   "source": [
    "pip install shapely"
   ]
  },
  {
   "cell_type": "code",
   "execution_count": 9,
   "metadata": {},
   "outputs": [
    {
     "name": "stdout",
     "output_type": "stream",
     "text": [
      "Collecting geopandas\n",
      "  Using cached https://files.pythonhosted.org/packages/52/4f/6440a63c9367d981a91de458467eed4a8e259a26f24158071b610a1ed1dd/geopandas-0.6.3-py2.py3-none-any.whl\n",
      "Requirement already satisfied: shapely in /Users/hn/opt/anaconda3/lib/python3.7/site-packages (from geopandas) (1.7.0)\n",
      "Collecting pyproj (from geopandas)\n",
      "  Using cached https://files.pythonhosted.org/packages/81/40/5e9c75b1b08fc5f91fb9f68afacd15144296a6cd58a8b3b0a8a23a56f181/pyproj-2.4.2.post1-cp37-cp37m-macosx_10_6_intel.whl\n",
      "Requirement already satisfied: pandas>=0.23.0 in /Users/hn/opt/anaconda3/lib/python3.7/site-packages (from geopandas) (0.25.1)\n",
      "Collecting fiona (from geopandas)\n",
      "  Using cached https://files.pythonhosted.org/packages/b2/9a/3cb5728fca91a642fdb1107dcb30c97ecffe25c841a7a4cfece680fd802a/Fiona-1.8.13-cp37-cp37m-macosx_10_6_intel.whl\n",
      "Requirement already satisfied: python-dateutil>=2.6.1 in /Users/hn/opt/anaconda3/lib/python3.7/site-packages (from pandas>=0.23.0->geopandas) (2.8.0)\n",
      "Requirement already satisfied: numpy>=1.13.3 in /Users/hn/opt/anaconda3/lib/python3.7/site-packages (from pandas>=0.23.0->geopandas) (1.17.2)\n",
      "Requirement already satisfied: pytz>=2017.2 in /Users/hn/opt/anaconda3/lib/python3.7/site-packages (from pandas>=0.23.0->geopandas) (2019.3)\n",
      "Requirement already satisfied: click<8,>=4.0 in /Users/hn/opt/anaconda3/lib/python3.7/site-packages (from fiona->geopandas) (7.0)\n",
      "Collecting munch (from fiona->geopandas)\n",
      "  Using cached https://files.pythonhosted.org/packages/cc/ab/85d8da5c9a45e072301beb37ad7f833cd344e04c817d97e0cc75681d248f/munch-2.5.0-py2.py3-none-any.whl\n",
      "Collecting cligj>=0.5 (from fiona->geopandas)\n",
      "  Using cached https://files.pythonhosted.org/packages/e4/be/30a58b4b0733850280d01f8bd132591b4668ed5c7046761098d665ac2174/cligj-0.5.0-py3-none-any.whl\n",
      "Collecting click-plugins>=1.0 (from fiona->geopandas)\n",
      "  Using cached https://files.pythonhosted.org/packages/e9/da/824b92d9942f4e472702488857914bdd50f73021efea15b4cad9aca8ecef/click_plugins-1.1.1-py2.py3-none-any.whl\n",
      "Requirement already satisfied: attrs>=17 in /Users/hn/opt/anaconda3/lib/python3.7/site-packages (from fiona->geopandas) (19.2.0)\n",
      "Requirement already satisfied: six>=1.7 in /Users/hn/opt/anaconda3/lib/python3.7/site-packages (from fiona->geopandas) (1.12.0)\n",
      "Installing collected packages: pyproj, munch, cligj, click-plugins, fiona, geopandas\n",
      "Successfully installed click-plugins-1.1.1 cligj-0.5.0 fiona-1.8.13 geopandas-0.6.3 munch-2.5.0 pyproj-2.4.2.post1\n",
      "Note: you may need to restart the kernel to use updated packages.\n"
     ]
    }
   ],
   "source": [
    "pip install geopandas"
   ]
  },
  {
   "cell_type": "code",
   "execution_count": 10,
   "metadata": {},
   "outputs": [
    {
     "name": "stdout",
     "output_type": "stream",
     "text": [
      "Collecting geojsonio\n",
      "Requirement already satisfied: six in /Users/hn/opt/anaconda3/lib/python3.7/site-packages (from geojsonio) (1.12.0)\n",
      "Collecting github3.py (from geojsonio)\n",
      "  Using cached https://files.pythonhosted.org/packages/a6/21/9055a739fbe7b22a8e99e42906f2c75ba02bab9fd193a85837cd1d6e55d3/github3.py-1.3.0-py2.py3-none-any.whl\n",
      "Collecting jwcrypto>=0.5.0 (from github3.py->geojsonio)\n",
      "  Using cached https://files.pythonhosted.org/packages/f0/0d/00173a6aee1025e529b21c365182c8d06e78b1beb98d5633f841da6f122e/jwcrypto-0.6.0-py2.py3-none-any.whl\n",
      "Collecting uritemplate>=3.0.0 (from github3.py->geojsonio)\n",
      "  Using cached https://files.pythonhosted.org/packages/bf/0c/60d82c077998feb631608dca3cc1fe19ac074e772bf0c24cf409b977b815/uritemplate-3.0.1-py2.py3-none-any.whl\n",
      "Requirement already satisfied: python-dateutil>=2.6.0 in /Users/hn/opt/anaconda3/lib/python3.7/site-packages (from github3.py->geojsonio) (2.8.0)\n",
      "Requirement already satisfied: requests>=2.18 in /Users/hn/opt/anaconda3/lib/python3.7/site-packages (from github3.py->geojsonio) (2.22.0)\n",
      "Requirement already satisfied: cryptography>=1.5 in /Users/hn/opt/anaconda3/lib/python3.7/site-packages (from jwcrypto>=0.5.0->github3.py->geojsonio) (2.7)\n",
      "Requirement already satisfied: chardet<3.1.0,>=3.0.2 in /Users/hn/opt/anaconda3/lib/python3.7/site-packages (from requests>=2.18->github3.py->geojsonio) (3.0.4)\n",
      "Requirement already satisfied: certifi>=2017.4.17 in /Users/hn/opt/anaconda3/lib/python3.7/site-packages (from requests>=2.18->github3.py->geojsonio) (2019.9.11)\n",
      "Requirement already satisfied: idna<2.9,>=2.5 in /Users/hn/opt/anaconda3/lib/python3.7/site-packages (from requests>=2.18->github3.py->geojsonio) (2.8)\n",
      "Requirement already satisfied: urllib3!=1.25.0,!=1.25.1,<1.26,>=1.21.1 in /Users/hn/opt/anaconda3/lib/python3.7/site-packages (from requests>=2.18->github3.py->geojsonio) (1.24.2)\n",
      "Requirement already satisfied: asn1crypto>=0.21.0 in /Users/hn/opt/anaconda3/lib/python3.7/site-packages (from cryptography>=1.5->jwcrypto>=0.5.0->github3.py->geojsonio) (1.0.1)\n",
      "Requirement already satisfied: cffi!=1.11.3,>=1.8 in /Users/hn/opt/anaconda3/lib/python3.7/site-packages (from cryptography>=1.5->jwcrypto>=0.5.0->github3.py->geojsonio) (1.12.3)\n",
      "Requirement already satisfied: pycparser in /Users/hn/opt/anaconda3/lib/python3.7/site-packages (from cffi!=1.11.3,>=1.8->cryptography>=1.5->jwcrypto>=0.5.0->github3.py->geojsonio) (2.19)\n",
      "Installing collected packages: jwcrypto, uritemplate, github3.py, geojsonio\n",
      "Successfully installed geojsonio-0.0.3 github3.py-1.3.0 jwcrypto-0.6.0 uritemplate-3.0.1\n",
      "Note: you may need to restart the kernel to use updated packages.\n"
     ]
    }
   ],
   "source": [
    "pip install geojsonio"
   ]
  },
  {
   "cell_type": "code",
   "execution_count": 11,
   "metadata": {},
   "outputs": [],
   "source": [
    "from shapely.geometry import Point, Polygon\n",
    "import geopandas as gpd"
   ]
  },
  {
   "cell_type": "code",
   "execution_count": 13,
   "metadata": {},
   "outputs": [
    {
     "name": "stdout",
     "output_type": "stream",
     "text": [
      "                                       id  \\\n",
      "0  20160326T185252_20160326T185704_T10TGT   \n",
      "1  20160326T185704_20160326T222258_T10TGT   \n",
      "2  20160408T190302_20160408T190712_T10TGT   \n",
      "3  20160408T190302_20160408T190712_T11TLN   \n",
      "4  20160408T190712_20160408T224435_T10TGT   \n",
      "\n",
      "                                        system:bands  system:time_start  \\\n",
      "0  {'B2': {'crs': 'EPSG:32610', 'crs_transform': ...      1459018624398   \n",
      "1  {'B2': {'crs': 'EPSG:32610', 'crs_transform': ...      1459018624398   \n",
      "2  {'B2': {'crs': 'EPSG:32610', 'crs_transform': ...      1460142432000   \n",
      "3  {'B2': {'crs': 'EPSG:32611', 'crs_transform': ...      1460142432000   \n",
      "4  {'B2': {'crs': 'EPSG:32610', 'crs_transform': ...      1460142432004   \n",
      "\n",
      "                                            geometry  \n",
      "0  POLYGON ((-180.00000 -90.00000, 180.00000 -90....  \n",
      "1  POLYGON ((-180.00000 -90.00000, 180.00000 -90....  \n",
      "2  POLYGON ((-180.00000 -90.00000, 180.00000 -90....  \n",
      "3  POLYGON ((-180.00000 -90.00000, 180.00000 -90....  \n",
      "4  POLYGON ((-180.00000 -90.00000, 180.00000 -90....  \n"
     ]
    }
   ],
   "source": [
    "Grant_1 = gpd.read_file('/Users/hn/Downloads/Grant_2018_IC_first_Gjson.geojson')\n",
    "print(Grant_1.head())"
   ]
  },
  {
   "cell_type": "code",
   "execution_count": 22,
   "metadata": {},
   "outputs": [
    {
     "name": "stdout",
     "output_type": "stream",
     "text": [
      "Index(['id', 'system:bands', 'system:time_start', 'geometry'], dtype='object')\n",
      "(246, 4)\n"
     ]
    }
   ],
   "source": [
    "print(Grant_1.columns)\n",
    "print(Grant_1.shape)"
   ]
  },
  {
   "cell_type": "code",
   "execution_count": 23,
   "metadata": {},
   "outputs": [
    {
     "data": {
      "text/plain": [
       "{'B2': {'crs': 'EPSG:32611',\n",
       "  'crs_transform': [10, 0, 300000, 0, -10, 5300040],\n",
       "  'data_type': {'max': 6.553500175476074,\n",
       "   'min': 0,\n",
       "   'precision': 'float',\n",
       "   'type': 'PixelType'},\n",
       "  'dimensions': [10980, 10980]},\n",
       " 'B3': {'crs': 'EPSG:32611',\n",
       "  'crs_transform': [10, 0, 300000, 0, -10, 5300040],\n",
       "  'data_type': {'max': 6.553500175476074,\n",
       "   'min': 0,\n",
       "   'precision': 'float',\n",
       "   'type': 'PixelType'},\n",
       "  'dimensions': [10980, 10980]},\n",
       " 'B4': {'crs': 'EPSG:32611',\n",
       "  'crs_transform': [10, 0, 300000, 0, -10, 5300040],\n",
       "  'data_type': {'max': 6.553500175476074,\n",
       "   'min': 0,\n",
       "   'precision': 'float',\n",
       "   'type': 'PixelType'},\n",
       "  'dimensions': [10980, 10980]},\n",
       " 'B8': {'crs': 'EPSG:32611',\n",
       "  'crs_transform': [10, 0, 300000, 0, -10, 5300040],\n",
       "  'data_type': {'max': 6.553500175476074,\n",
       "   'min': 0,\n",
       "   'precision': 'float',\n",
       "   'type': 'PixelType'},\n",
       "  'dimensions': [10980, 10980]},\n",
       " 'NDVI': {'crs': 'EPSG:32611',\n",
       "  'crs_transform': [10, 0, 300000, 0, -10, 5300040],\n",
       "  'data_type': {'max': 1,\n",
       "   'min': -1,\n",
       "   'precision': 'float',\n",
       "   'type': 'PixelType'},\n",
       "  'dimensions': [10980, 10980]},\n",
       " 'doy': {'crs': 'EPSG:4326',\n",
       "  'crs_transform': [1, 0, 0, 0, 1, 0],\n",
       "  'data_type': {'max': 65535,\n",
       "   'min': 0,\n",
       "   'precision': 'int',\n",
       "   'type': 'PixelType'}}}"
      ]
     },
     "execution_count": 23,
     "metadata": {},
     "output_type": "execute_result"
    }
   ],
   "source": [
    "Grant_1.loc[245, 'system:bands']"
   ]
  },
  {
   "cell_type": "code",
   "execution_count": null,
   "metadata": {},
   "outputs": [],
   "source": []
  }
 ],
 "metadata": {
  "kernelspec": {
   "display_name": "Python 3",
   "language": "python",
   "name": "python3"
  },
  "language_info": {
   "codemirror_mode": {
    "name": "ipython",
    "version": 3
   },
   "file_extension": ".py",
   "mimetype": "text/x-python",
   "name": "python",
   "nbconvert_exporter": "python",
   "pygments_lexer": "ipython3",
   "version": "3.7.4"
  }
 },
 "nbformat": 4,
 "nbformat_minor": 2
}
