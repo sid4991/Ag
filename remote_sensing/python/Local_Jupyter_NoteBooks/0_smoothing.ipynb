{
 "cells": [
  {
   "cell_type": "markdown",
   "metadata": {},
   "source": [
    "We are writing this notebook as first scratch of smoothing stuff to do double cropping classification.\n",
    "\n",
    "This notebook will eventually be running on Colab. And hopefully we can maitain a .py script in sublime editor."
   ]
  },
  {
   "cell_type": "markdown",
   "metadata": {},
   "source": [
    "# import libraries"
   ]
  },
  {
   "cell_type": "code",
   "execution_count": 3,
   "metadata": {},
   "outputs": [],
   "source": [
    "import numpy as np\n",
    "import pandas as pd\n",
    "import geopandas as gpd\n",
    "from IPython.display import Image\n",
    "from shapely.geometry import Point, Polygon\n",
    "\n",
    "import datetime\n",
    "import time\n",
    "\n",
    "from pprint import pprint\n",
    "import matplotlib.pyplot as plt\n",
    "import seaborn as sb"
   ]
  },
  {
   "cell_type": "markdown",
   "metadata": {},
   "source": [
    "## Define Functions"
   ]
  },
  {
   "cell_type": "code",
   "execution_count": 50,
   "metadata": {},
   "outputs": [],
   "source": [
    "def initial_clean(dt):\n",
    "    # remove the useles system:index column\n",
    "    if (\"system:index\" in list(grant_2018.columns)):\n",
    "        dt = dt.drop(columns=['system:index'])\n",
    "    \n",
    "    # Drop rows whith NA in NDVI column.\n",
    "    dt = dt[dt['NDVI'].notna()]\n",
    "    \n",
    "    # rename the column .geo to \"geo\"\n",
    "    dt = dt.rename(columns={\".geo\": \"geo\"})\n",
    "    return (dt)\n",
    "\n",
    "def short_polygon_ID(dt):\n",
    "    return (dt)"
   ]
  },
  {
   "cell_type": "code",
   "execution_count": null,
   "metadata": {},
   "outputs": [],
   "source": []
  },
  {
   "cell_type": "markdown",
   "metadata": {},
   "source": [
    "## Define directories\n",
    "Here we can define data or core.py directories"
   ]
  },
  {
   "cell_type": "code",
   "execution_count": 4,
   "metadata": {},
   "outputs": [],
   "source": [
    "data_dir = \"/Users/hn/Documents/01_research_data/Ag_check_point/remote_sensing/01_NDVI_TS/Grant/\""
   ]
  },
  {
   "cell_type": "code",
   "execution_count": null,
   "metadata": {},
   "outputs": [],
   "source": []
  },
  {
   "cell_type": "markdown",
   "metadata": {},
   "source": [
    "## Define some parameters"
   ]
  },
  {
   "cell_type": "code",
   "execution_count": 5,
   "metadata": {},
   "outputs": [],
   "source": [
    "file_names = [\"Grant_2018_TS.csv\"]"
   ]
  },
  {
   "cell_type": "markdown",
   "metadata": {},
   "source": [
    "## Read Data"
   ]
  },
  {
   "cell_type": "code",
   "execution_count": 40,
   "metadata": {},
   "outputs": [],
   "source": [
    "file_N = file_names[0]\n",
    "grant_2018 = pd.read_csv(data_dir + file_N)"
   ]
  },
  {
   "cell_type": "code",
   "execution_count": 41,
   "metadata": {},
   "outputs": [
    {
     "name": "stdout",
     "output_type": "stream",
     "text": [
      "the data before cleaning is of size (385, 24)\n",
      "the data after cleaning is of size (378, 23)\n"
     ]
    }
   ],
   "source": [
    "print (\"The data before cleaning is of size\", str(grant_2018.shape))\n",
    "grant_2018 = initial_clean(grant_2018)\n",
    "print (\"The data after cleaning is of size\", str(grant_2018.shape))"
   ]
  },
  {
   "cell_type": "code",
   "execution_count": 52,
   "metadata": {},
   "outputs": [
    {
     "name": "stdout",
     "output_type": "stream",
     "text": [
      "7\n",
      "378\n",
      "378\n"
     ]
    }
   ],
   "source": [
    "# Count distict values, use nunique:\n",
    "pprint (grant_2018['geo'].nunique())\n",
    "\n",
    "# Count only non-null values, use count:\n",
    "print (grant_2018['geo'].count())\n",
    "\n",
    "# Count total values including null values, use size attribute:\n",
    "print (grant_2018['geo'].size)"
   ]
  },
  {
   "cell_type": "code",
   "execution_count": null,
   "metadata": {},
   "outputs": [],
   "source": []
  },
  {
   "cell_type": "code",
   "execution_count": null,
   "metadata": {},
   "outputs": [],
   "source": []
  },
  {
   "cell_type": "code",
   "execution_count": null,
   "metadata": {},
   "outputs": [],
   "source": []
  }
 ],
 "metadata": {
  "kernelspec": {
   "display_name": "Python 3",
   "language": "python",
   "name": "python3"
  },
  "language_info": {
   "codemirror_mode": {
    "name": "ipython",
    "version": 3
   },
   "file_extension": ".py",
   "mimetype": "text/x-python",
   "name": "python",
   "nbconvert_exporter": "python",
   "pygments_lexer": "ipython3",
   "version": "3.7.4"
  }
 },
 "nbformat": 4,
 "nbformat_minor": 2
}
