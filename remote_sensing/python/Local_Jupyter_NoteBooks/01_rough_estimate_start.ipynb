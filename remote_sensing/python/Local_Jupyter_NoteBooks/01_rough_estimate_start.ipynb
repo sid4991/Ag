{
 "cells": [
  {
   "cell_type": "code",
   "execution_count": 1,
   "metadata": {},
   "outputs": [],
   "source": [
    "import numpy as np\n",
    "import pandas as pd\n",
    "import geopandas as gpd\n",
    "import sys\n",
    "from IPython.display import Image\n",
    "from shapely.geometry import Point, Polygon\n",
    "from math import factorial\n",
    "import datetime\n",
    "import time\n",
    "import scipy\n",
    "\n",
    "from statsmodels.sandbox.regression.predstd import wls_prediction_std\n",
    "from sklearn.linear_model import LinearRegression\n",
    "from patsy import cr\n",
    "\n",
    "from pprint import pprint\n",
    "import matplotlib.pyplot as plt\n",
    "import seaborn as sb"
   ]
  },
  {
   "cell_type": "code",
   "execution_count": 2,
   "metadata": {},
   "outputs": [],
   "source": [
    "import sys\n",
    "# search path for modules\n",
    "# look @ https://stackoverflow.com/questions/67631/how-to-import-a-module-given-the-full-path\n",
    "sys.path.append('/Users/hn/Documents/00_GitHub/Ag/remote_sensing/python/')\n",
    "import remote_sensing_core as remote_core"
   ]
  },
  {
   "cell_type": "markdown",
   "metadata": {},
   "source": [
    "# Plan for rough estimate:\n",
    "   1. perennials, and grasses and non irrigated (Why google slide doess not say annuals)\n",
    "    "
   ]
  },
  {
   "cell_type": "markdown",
   "metadata": {},
   "source": [
    "# Function definitions"
   ]
  },
  {
   "cell_type": "code",
   "execution_count": null,
   "metadata": {},
   "outputs": [],
   "source": []
  },
  {
   "cell_type": "markdown",
   "metadata": {},
   "source": [
    "# Directories"
   ]
  },
  {
   "cell_type": "code",
   "execution_count": 3,
   "metadata": {},
   "outputs": [],
   "source": [
    "data_dir = \"/Users/hn/Documents/01_research_data/Ag_check_point/remote_sensing/01_NDVI_TS/Grant/\""
   ]
  },
  {
   "cell_type": "markdown",
   "metadata": {},
   "source": [
    "# Data Reading"
   ]
  },
  {
   "cell_type": "code",
   "execution_count": 4,
   "metadata": {},
   "outputs": [],
   "source": [
    "file_names = [\"Grant_2018_TS.csv\"]\n",
    "file_N = file_names[0]"
   ]
  },
  {
   "cell_type": "code",
   "execution_count": 5,
   "metadata": {},
   "outputs": [
    {
     "data": {
      "text/html": [
       "<div>\n",
       "<style scoped>\n",
       "    .dataframe tbody tr th:only-of-type {\n",
       "        vertical-align: middle;\n",
       "    }\n",
       "\n",
       "    .dataframe tbody tr th {\n",
       "        vertical-align: top;\n",
       "    }\n",
       "\n",
       "    .dataframe thead th {\n",
       "        text-align: right;\n",
       "    }\n",
       "</style>\n",
       "<table border=\"1\" class=\"dataframe\">\n",
       "  <thead>\n",
       "    <tr style=\"text-align: right;\">\n",
       "      <th></th>\n",
       "      <th>Acres</th>\n",
       "      <th>B2</th>\n",
       "      <th>B3</th>\n",
       "      <th>B4</th>\n",
       "      <th>B8</th>\n",
       "      <th>CovrCrp</th>\n",
       "      <th>CropGrp</th>\n",
       "      <th>CropTyp</th>\n",
       "      <th>DataSrc</th>\n",
       "      <th>ExctAcr</th>\n",
       "      <th>...</th>\n",
       "      <th>NDVI</th>\n",
       "      <th>Notes</th>\n",
       "      <th>RtCrpTy</th>\n",
       "      <th>Shap_Ar</th>\n",
       "      <th>Shp_Lng</th>\n",
       "      <th>TRS</th>\n",
       "      <th>county</th>\n",
       "      <th>doy</th>\n",
       "      <th>year</th>\n",
       "      <th>geo</th>\n",
       "    </tr>\n",
       "  </thead>\n",
       "  <tbody>\n",
       "    <tr>\n",
       "      <td>0</td>\n",
       "      <td>30</td>\n",
       "      <td>0.743039</td>\n",
       "      <td>0.708845</td>\n",
       "      <td>0.805611</td>\n",
       "      <td>0.728629</td>\n",
       "      <td>NaN</td>\n",
       "      <td>Cereal Grain</td>\n",
       "      <td>Wheat</td>\n",
       "      <td>NASS</td>\n",
       "      <td>30.356486</td>\n",
       "      <td>...</td>\n",
       "      <td>-0.051402</td>\n",
       "      <td>Winter Wheat</td>\n",
       "      <td>Wheat Fallow</td>\n",
       "      <td>122848.340543</td>\n",
       "      <td>2265.483255</td>\n",
       "      <td>T23R26E2</td>\n",
       "      <td>Grant</td>\n",
       "      <td>2.0</td>\n",
       "      <td>2018.0</td>\n",
       "      <td>{\"type\":\"Polygon\",\"coordinates\":[[[-119.527755...</td>\n",
       "    </tr>\n",
       "    <tr>\n",
       "      <td>1</td>\n",
       "      <td>30</td>\n",
       "      <td>0.600203</td>\n",
       "      <td>0.556632</td>\n",
       "      <td>0.638710</td>\n",
       "      <td>0.617168</td>\n",
       "      <td>NaN</td>\n",
       "      <td>Cereal Grain</td>\n",
       "      <td>Wheat</td>\n",
       "      <td>NASS</td>\n",
       "      <td>30.356486</td>\n",
       "      <td>...</td>\n",
       "      <td>-0.015851</td>\n",
       "      <td>Winter Wheat</td>\n",
       "      <td>Wheat Fallow</td>\n",
       "      <td>122848.340543</td>\n",
       "      <td>2265.483255</td>\n",
       "      <td>T23R26E2</td>\n",
       "      <td>Grant</td>\n",
       "      <td>29.0</td>\n",
       "      <td>2018.0</td>\n",
       "      <td>{\"type\":\"Polygon\",\"coordinates\":[[[-119.527755...</td>\n",
       "    </tr>\n",
       "  </tbody>\n",
       "</table>\n",
       "<p>2 rows × 23 columns</p>\n",
       "</div>"
      ],
      "text/plain": [
       "   Acres        B2        B3        B4        B8  CovrCrp       CropGrp  \\\n",
       "0     30  0.743039  0.708845  0.805611  0.728629      NaN  Cereal Grain   \n",
       "1     30  0.600203  0.556632  0.638710  0.617168      NaN  Cereal Grain   \n",
       "\n",
       "  CropTyp DataSrc    ExctAcr  ...      NDVI         Notes       RtCrpTy  \\\n",
       "0   Wheat    NASS  30.356486  ... -0.051402  Winter Wheat  Wheat Fallow   \n",
       "1   Wheat    NASS  30.356486  ... -0.015851  Winter Wheat  Wheat Fallow   \n",
       "\n",
       "         Shap_Ar      Shp_Lng       TRS  county   doy    year  \\\n",
       "0  122848.340543  2265.483255  T23R26E2   Grant   2.0  2018.0   \n",
       "1  122848.340543  2265.483255  T23R26E2   Grant  29.0  2018.0   \n",
       "\n",
       "                                                 geo  \n",
       "0  {\"type\":\"Polygon\",\"coordinates\":[[[-119.527755...  \n",
       "1  {\"type\":\"Polygon\",\"coordinates\":[[[-119.527755...  \n",
       "\n",
       "[2 rows x 23 columns]"
      ]
     },
     "execution_count": 5,
     "metadata": {},
     "output_type": "execute_result"
    }
   ],
   "source": [
    "a_df = pd.read_csv(data_dir + file_N)\n",
    "a_df = remote_core.initial_clean(a_df)\n",
    "a_df.head(2)"
   ]
  },
  {
   "cell_type": "code",
   "execution_count": 6,
   "metadata": {},
   "outputs": [
    {
     "name": "stdout",
     "output_type": "stream",
     "text": [
      "7\n",
      "378\n",
      "378\n"
     ]
    }
   ],
   "source": [
    "# Count distict values, use nunique:\n",
    "pprint (a_df['geo'].nunique())\n",
    "\n",
    "# Count only non-null values, use count:\n",
    "print (a_df['geo'].count())\n",
    "\n",
    "# Count total values including null values, use size attribute:\n",
    "print (a_df['geo'].size)"
   ]
  },
  {
   "cell_type": "markdown",
   "metadata": {},
   "source": [
    "# Iterate through polygons and count peaks"
   ]
  },
  {
   "cell_type": "code",
   "execution_count": 7,
   "metadata": {},
   "outputs": [],
   "source": [
    "peak_dt = remote_core.generate_peak_df(a_df)"
   ]
  },
  {
   "cell_type": "code",
   "execution_count": 10,
   "metadata": {},
   "outputs": [
    {
     "data": {
      "text/plain": [
       "(378, 23)"
      ]
     },
     "execution_count": 10,
     "metadata": {},
     "output_type": "execute_result"
    }
   ],
   "source": [
    "polygon_list = a_df['geo'].unique()\n",
    "for a_poly in polygon_list:\n",
    "    curr_field = a_df[a_df['geo']==a_poly]\n",
    "    plot_TS(an_EE_TS_df, xp_axis='doy', yp_axis='NDVI')"
   ]
  },
  {
   "cell_type": "code",
   "execution_count": 42,
   "metadata": {},
   "outputs": [],
   "source": [
    "year = int(an_EE_TS_df['year'].unique())\n",
    "plant = an_EE_TS_df['CropTyp'].unique()[0]\n",
    "county = an_EE_TS_df['county'].unique()[0]"
   ]
  },
  {
   "cell_type": "code",
   "execution_count": 29,
   "metadata": {},
   "outputs": [
    {
     "data": {
      "text/plain": [
       "Index(['Acres', 'B2', 'B3', 'B4', 'B8', 'CovrCrp', 'CropGrp', 'CropTyp',\n",
       "       'DataSrc', 'ExctAcr', 'IntlSrD', 'Irrigtn', 'LstSrvD', 'NDVI', 'Notes',\n",
       "       'RtCrpTy', 'Shap_Ar', 'Shp_Lng', 'TRS', 'county', 'doy', 'year', 'geo'],\n",
       "      dtype='object')"
      ]
     },
     "execution_count": 29,
     "metadata": {},
     "output_type": "execute_result"
    }
   ],
   "source": [
    "curr_field.columns"
   ]
  },
  {
   "cell_type": "code",
   "execution_count": 30,
   "metadata": {},
   "outputs": [],
   "source": [
    "an_EE_TS_df['county'].unique()[0]"
   ]
  },
  {
   "cell_type": "code",
   "execution_count": 32,
   "metadata": {},
   "outputs": [],
   "source": [
    "xp_axis='doy'\n",
    "yp_axis='NDVI'"
   ]
  },
  {
   "cell_type": "code",
   "execution_count": 40,
   "metadata": {},
   "outputs": [
    {
     "data": {
      "image/png": "[encoded data removed]",
      "text/plain": [
       "<Figure size 432x288 with 1 Axes>"
      ]
     },
     "metadata": {},
     "output_type": "display_data"
    }
   ],
   "source": [
    "sb.set();\n",
    "\n",
    "TS_plot = plt.plot(an_EE_TS_df[xp_axis], an_EE_TS_df[yp_axis]);"
   ]
  },
  {
   "cell_type": "code",
   "execution_count": null,
   "metadata": {},
   "outputs": [],
   "source": []
  },
  {
   "cell_type": "code",
   "execution_count": null,
   "metadata": {},
   "outputs": [],
   "source": []
  },
  {
   "cell_type": "code",
   "execution_count": 50,
   "metadata": {},
   "outputs": [
    {
     "data": {
      "text/html": [
       "<div>\n",
       "<style scoped>\n",
       "    .dataframe tbody tr th:only-of-type {\n",
       "        vertical-align: middle;\n",
       "    }\n",
       "\n",
       "    .dataframe tbody tr th {\n",
       "        vertical-align: top;\n",
       "    }\n",
       "\n",
       "    .dataframe thead th {\n",
       "        text-align: right;\n",
       "    }\n",
       "</style>\n",
       "<table border=\"1\" class=\"dataframe\">\n",
       "  <thead>\n",
       "    <tr style=\"text-align: right;\">\n",
       "      <th></th>\n",
       "      <th>Acres</th>\n",
       "      <th>B2</th>\n",
       "      <th>B3</th>\n",
       "      <th>B4</th>\n",
       "      <th>B8</th>\n",
       "      <th>CovrCrp</th>\n",
       "      <th>CropGrp</th>\n",
       "      <th>CropTyp</th>\n",
       "      <th>DataSrc</th>\n",
       "      <th>ExctAcr</th>\n",
       "      <th>...</th>\n",
       "      <th>NDVI</th>\n",
       "      <th>Notes</th>\n",
       "      <th>RtCrpTy</th>\n",
       "      <th>Shap_Ar</th>\n",
       "      <th>Shp_Lng</th>\n",
       "      <th>TRS</th>\n",
       "      <th>county</th>\n",
       "      <th>doy</th>\n",
       "      <th>year</th>\n",
       "      <th>geo</th>\n",
       "    </tr>\n",
       "  </thead>\n",
       "  <tbody>\n",
       "    <tr>\n",
       "      <td>0</td>\n",
       "      <td>30</td>\n",
       "      <td>0.743039</td>\n",
       "      <td>0.708845</td>\n",
       "      <td>0.805611</td>\n",
       "      <td>0.728629</td>\n",
       "      <td>NaN</td>\n",
       "      <td>Cereal Grain</td>\n",
       "      <td>Wheat</td>\n",
       "      <td>NASS</td>\n",
       "      <td>30.356486</td>\n",
       "      <td>...</td>\n",
       "      <td>-0.051402</td>\n",
       "      <td>Winter Wheat</td>\n",
       "      <td>Wheat Fallow</td>\n",
       "      <td>122848.340543</td>\n",
       "      <td>2265.483255</td>\n",
       "      <td>T23R26E2</td>\n",
       "      <td>Grant</td>\n",
       "      <td>2.0</td>\n",
       "      <td>2018.0</td>\n",
       "      <td>{\"type\":\"Polygon\",\"coordinates\":[[[-119.527755...</td>\n",
       "    </tr>\n",
       "    <tr>\n",
       "      <td>1</td>\n",
       "      <td>30</td>\n",
       "      <td>0.600203</td>\n",
       "      <td>0.556632</td>\n",
       "      <td>0.638710</td>\n",
       "      <td>0.617168</td>\n",
       "      <td>NaN</td>\n",
       "      <td>Cereal Grain</td>\n",
       "      <td>Wheat</td>\n",
       "      <td>NASS</td>\n",
       "      <td>30.356486</td>\n",
       "      <td>...</td>\n",
       "      <td>-0.015851</td>\n",
       "      <td>Winter Wheat</td>\n",
       "      <td>Wheat Fallow</td>\n",
       "      <td>122848.340543</td>\n",
       "      <td>2265.483255</td>\n",
       "      <td>T23R26E2</td>\n",
       "      <td>Grant</td>\n",
       "      <td>29.0</td>\n",
       "      <td>2018.0</td>\n",
       "      <td>{\"type\":\"Polygon\",\"coordinates\":[[[-119.527755...</td>\n",
       "    </tr>\n",
       "    <tr>\n",
       "      <td>2</td>\n",
       "      <td>30</td>\n",
       "      <td>0.122759</td>\n",
       "      <td>0.112220</td>\n",
       "      <td>0.126724</td>\n",
       "      <td>0.175051</td>\n",
       "      <td>NaN</td>\n",
       "      <td>Cereal Grain</td>\n",
       "      <td>Wheat</td>\n",
       "      <td>NASS</td>\n",
       "      <td>30.356486</td>\n",
       "      <td>...</td>\n",
       "      <td>0.158425</td>\n",
       "      <td>Winter Wheat</td>\n",
       "      <td>Wheat Fallow</td>\n",
       "      <td>122848.340543</td>\n",
       "      <td>2265.483255</td>\n",
       "      <td>T23R26E2</td>\n",
       "      <td>Grant</td>\n",
       "      <td>42.0</td>\n",
       "      <td>2018.0</td>\n",
       "      <td>{\"type\":\"Polygon\",\"coordinates\":[[[-119.527755...</td>\n",
       "    </tr>\n",
       "    <tr>\n",
       "      <td>3</td>\n",
       "      <td>30</td>\n",
       "      <td>0.130238</td>\n",
       "      <td>0.119416</td>\n",
       "      <td>0.138850</td>\n",
       "      <td>0.182457</td>\n",
       "      <td>NaN</td>\n",
       "      <td>Cereal Grain</td>\n",
       "      <td>Wheat</td>\n",
       "      <td>NASS</td>\n",
       "      <td>30.356486</td>\n",
       "      <td>...</td>\n",
       "      <td>0.135200</td>\n",
       "      <td>Winter Wheat</td>\n",
       "      <td>Wheat Fallow</td>\n",
       "      <td>122848.340543</td>\n",
       "      <td>2265.483255</td>\n",
       "      <td>T23R26E2</td>\n",
       "      <td>Grant</td>\n",
       "      <td>52.0</td>\n",
       "      <td>2018.0</td>\n",
       "      <td>{\"type\":\"Polygon\",\"coordinates\":[[[-119.527755...</td>\n",
       "    </tr>\n",
       "    <tr>\n",
       "      <td>4</td>\n",
       "      <td>30</td>\n",
       "      <td>0.111967</td>\n",
       "      <td>0.091533</td>\n",
       "      <td>0.097551</td>\n",
       "      <td>0.129902</td>\n",
       "      <td>NaN</td>\n",
       "      <td>Cereal Grain</td>\n",
       "      <td>Wheat</td>\n",
       "      <td>NASS</td>\n",
       "      <td>30.356486</td>\n",
       "      <td>...</td>\n",
       "      <td>0.141652</td>\n",
       "      <td>Winter Wheat</td>\n",
       "      <td>Wheat Fallow</td>\n",
       "      <td>122848.340543</td>\n",
       "      <td>2265.483255</td>\n",
       "      <td>T23R26E2</td>\n",
       "      <td>Grant</td>\n",
       "      <td>64.0</td>\n",
       "      <td>2018.0</td>\n",
       "      <td>{\"type\":\"Polygon\",\"coordinates\":[[[-119.527755...</td>\n",
       "    </tr>\n",
       "  </tbody>\n",
       "</table>\n",
       "<p>5 rows × 23 columns</p>\n",
       "</div>"
      ],
      "text/plain": [
       "   Acres        B2        B3        B4        B8  CovrCrp       CropGrp  \\\n",
       "0     30  0.743039  0.708845  0.805611  0.728629      NaN  Cereal Grain   \n",
       "1     30  0.600203  0.556632  0.638710  0.617168      NaN  Cereal Grain   \n",
       "2     30  0.122759  0.112220  0.126724  0.175051      NaN  Cereal Grain   \n",
       "3     30  0.130238  0.119416  0.138850  0.182457      NaN  Cereal Grain   \n",
       "4     30  0.111967  0.091533  0.097551  0.129902      NaN  Cereal Grain   \n",
       "\n",
       "  CropTyp DataSrc    ExctAcr  ...      NDVI         Notes       RtCrpTy  \\\n",
       "0   Wheat    NASS  30.356486  ... -0.051402  Winter Wheat  Wheat Fallow   \n",
       "1   Wheat    NASS  30.356486  ... -0.015851  Winter Wheat  Wheat Fallow   \n",
       "2   Wheat    NASS  30.356486  ...  0.158425  Winter Wheat  Wheat Fallow   \n",
       "3   Wheat    NASS  30.356486  ...  0.135200  Winter Wheat  Wheat Fallow   \n",
       "4   Wheat    NASS  30.356486  ...  0.141652  Winter Wheat  Wheat Fallow   \n",
       "\n",
       "         Shap_Ar      Shp_Lng       TRS  county   doy    year  \\\n",
       "0  122848.340543  2265.483255  T23R26E2   Grant   2.0  2018.0   \n",
       "1  122848.340543  2265.483255  T23R26E2   Grant  29.0  2018.0   \n",
       "2  122848.340543  2265.483255  T23R26E2   Grant  42.0  2018.0   \n",
       "3  122848.340543  2265.483255  T23R26E2   Grant  52.0  2018.0   \n",
       "4  122848.340543  2265.483255  T23R26E2   Grant  64.0  2018.0   \n",
       "\n",
       "                                                 geo  \n",
       "0  {\"type\":\"Polygon\",\"coordinates\":[[[-119.527755...  \n",
       "1  {\"type\":\"Polygon\",\"coordinates\":[[[-119.527755...  \n",
       "2  {\"type\":\"Polygon\",\"coordinates\":[[[-119.527755...  \n",
       "3  {\"type\":\"Polygon\",\"coordinates\":[[[-119.527755...  \n",
       "4  {\"type\":\"Polygon\",\"coordinates\":[[[-119.527755...  \n",
       "\n",
       "[5 rows x 23 columns]"
      ]
     },
     "execution_count": 50,
     "metadata": {},
     "output_type": "execute_result"
    }
   ],
   "source": [
    "an_EE_TS_df.head(5)"
   ]
  },
  {
   "cell_type": "code",
   "execution_count": 53,
   "metadata": {},
   "outputs": [],
   "source": [
    "plot_title = county + \", \" + plant + \", \" + str(year) + \", (\" + TRS + \")\""
   ]
  },
  {
   "cell_type": "code",
   "execution_count": 56,
   "metadata": {},
   "outputs": [
    {
     "data": {
      "image/png": "[encoded data removed]",
      "text/plain": [
       "<Figure size 432x288 with 1 Axes>"
      ]
     },
     "metadata": {},
     "output_type": "display_data"
    }
   ],
   "source": []
  },
  {
   "cell_type": "code",
   "execution_count": null,
   "metadata": {},
   "outputs": [],
   "source": []
  },
  {
   "cell_type": "code",
   "execution_count": null,
   "metadata": {},
   "outputs": [],
   "source": []
  },
  {
   "cell_type": "code",
   "execution_count": null,
   "metadata": {},
   "outputs": [],
   "source": []
  },
  {
   "cell_type": "code",
   "execution_count": null,
   "metadata": {},
   "outputs": [],
   "source": []
  },
  {
   "cell_type": "code",
   "execution_count": null,
   "metadata": {},
   "outputs": [],
   "source": []
  },
  {
   "cell_type": "code",
   "execution_count": null,
   "metadata": {},
   "outputs": [],
   "source": []
  },
  {
   "cell_type": "code",
   "execution_count": null,
   "metadata": {},
   "outputs": [],
   "source": []
  },
  {
   "cell_type": "code",
   "execution_count": null,
   "metadata": {},
   "outputs": [],
   "source": []
  },
  {
   "cell_type": "code",
   "execution_count": null,
   "metadata": {},
   "outputs": [],
   "source": []
  },
  {
   "cell_type": "code",
   "execution_count": null,
   "metadata": {},
   "outputs": [],
   "source": []
  },
  {
   "cell_type": "code",
   "execution_count": null,
   "metadata": {},
   "outputs": [],
   "source": []
  }
 ],
 "metadata": {
  "kernelspec": {
   "display_name": "Python 3",
   "language": "python",
   "name": "python3"
  },
  "language_info": {
   "codemirror_mode": {
    "name": "ipython",
    "version": 3
   },
   "file_extension": ".py",
   "mimetype": "text/x-python",
   "name": "python",
   "nbconvert_exporter": "python",
   "pygments_lexer": "ipython3",
   "version": "3.7.4"
  }
 },
 "nbformat": 4,
 "nbformat_minor": 2
}
