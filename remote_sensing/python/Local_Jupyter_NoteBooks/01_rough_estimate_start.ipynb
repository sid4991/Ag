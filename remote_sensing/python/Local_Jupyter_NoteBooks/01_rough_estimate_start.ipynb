{
 "cells": [
  {
   "cell_type": "code",
   "execution_count": 1,
   "metadata": {},
   "outputs": [],
   "source": [
    "import numpy as np\n",
    "import pandas as pd\n",
    "import geopandas as gpd\n",
    "import sys\n",
    "from IPython.display import Image\n",
    "from shapely.geometry import Point, Polygon\n",
    "from math import factorial\n",
    "import datetime\n",
    "import time\n",
    "import scipy\n",
    "\n",
    "from statsmodels.sandbox.regression.predstd import wls_prediction_std\n",
    "from sklearn.linear_model import LinearRegression\n",
    "from patsy import cr\n",
    "\n",
    "from pprint import pprint\n",
    "import matplotlib.pyplot as plt\n",
    "import seaborn as sb"
   ]
  },
  {
   "cell_type": "markdown",
   "metadata": {},
   "source": [
    "# Plan for rough estimate:\n",
    "   1. perennials, and grasses and non irrigated (Why google slide doess not say annuals)\n",
    "    "
   ]
  },
  {
   "cell_type": "markdown",
   "metadata": {},
   "source": [
    "# Function definitions"
   ]
  },
  {
   "cell_type": "code",
   "execution_count": 157,
   "metadata": {},
   "outputs": [],
   "source": [
    "def filter_out_unwanted(dt_df):\n",
    "    unwanted_plants = [\"Almond\", \"Apple\", \"Alfalfa/Grass Hay\",\n",
    "                       \"Apricot\", \"Asparagus\", \"Berry, Unknown\",  \n",
    "                       \"Blueberry\", \"Cherry\", \"Grape, Juice\", \n",
    "                       \"Grape, Table\", \"Grape, Unknown\", \n",
    "                       \"Grape, Wine\", \"Hops\", \"Mint\", \n",
    "                       \"Nectarine/Peach\", \"Orchard, Unknown\", \n",
    "                       \"Pear\", \"Plum\", \"Strawberry\", \"Walnut\"]\n",
    "    \n",
    "    # filter unwanted plants\n",
    "    dt_df = dt_df[~(dt_df['CropTyp'].isin(unwanted_plants))]\n",
    "    \n",
    "    # filter non-irrigated\n",
    "    \"\"\"\n",
    "    # These two lines can replace the following two lines\n",
    "    non_irrigations = [\"Unknown\", \"None\", \"None/Rill\", \"None/Sprinkler\", \n",
    "                       \"None/Sprinkler/Wheel Line\", \n",
    "                       \"None/Wheel Line\", \"Drip/None\", \"Center Pivot/None\"]\n",
    "    \n",
    "    dt_df = dt_df[~(dt_df['Irrigtn'].isin(non_irrigations))]\n",
    "    \"\"\"\n",
    "    dt_df = dt_df[~dt_df['Irrigtn'].str.contains(\"None\")]\n",
    "    dt_df = dt_df[~dt_df['Irrigtn'].str.contains(\"Unknown\")]\n",
    "    \n",
    "    return dt_df\n",
    "    \n",
    "def initial_clean(dt):\n",
    "    # remove the useles system:index column\n",
    "    if (\"system:index\" in list(grant_2018.columns)):\n",
    "        dt = dt.drop(columns=['system:index'])\n",
    "    \n",
    "    # Drop rows whith NA in NDVI column.\n",
    "    dt = dt[dt['NDVI'].notna()]\n",
    "    \n",
    "    # rename the column .geo to \"geo\"\n",
    "    dt = dt.rename(columns={\".geo\": \"geo\"})\n",
    "    \n",
    "    # clean non-irrigated and perrinials\n",
    "    dt = filter_out_unwanted(dt)\n",
    "    return (dt)\n",
    "\n",
    "def order_by_doy(dt):\n",
    "    return dt.sort_values(by='doy', axis=0, ascending=True)"
   ]
  },
  {
   "cell_type": "code",
   "execution_count": 2,
   "metadata": {},
   "outputs": [],
   "source": []
  },
  {
   "cell_type": "markdown",
   "metadata": {},
   "source": [
    "# Directories"
   ]
  },
  {
   "cell_type": "code",
   "execution_count": 5,
   "metadata": {},
   "outputs": [],
   "source": [
    "data_dir = \"/Users/hn/Documents/01_research_data/Ag_check_point/remote_sensing/01_NDVI_TS/Grant/\""
   ]
  },
  {
   "cell_type": "markdown",
   "metadata": {},
   "source": [
    "# Data Reading"
   ]
  },
  {
   "cell_type": "code",
   "execution_count": 137,
   "metadata": {},
   "outputs": [],
   "source": [
    "file_names = [\"Grant_2018_TS.csv\"]"
   ]
  },
  {
   "cell_type": "code",
   "execution_count": 138,
   "metadata": {},
   "outputs": [],
   "source": [
    "file_N = file_names[0]\n",
    "grant_2018 = pd.read_csv(data_dir + file_N)"
   ]
  },
  {
   "cell_type": "code",
   "execution_count": 140,
   "metadata": {},
   "outputs": [
    {
     "name": "stdout",
     "output_type": "stream",
     "text": [
      "7\n",
      "385\n",
      "385\n"
     ]
    }
   ],
   "source": [
    "# Count distict values, use nunique:\n",
    "pprint (grant_2018['.geo'].nunique())\n",
    "\n",
    "# Count only non-null values, use count:\n",
    "print (grant_2018['.geo'].count())\n",
    "\n",
    "# Count total values including null values, use size attribute:\n",
    "print (grant_2018['.geo'].size)"
   ]
  },
  {
   "cell_type": "markdown",
   "metadata": {},
   "source": [
    "#### List of unique polygons"
   ]
  },
  {
   "cell_type": "code",
   "execution_count": 141,
   "metadata": {},
   "outputs": [],
   "source": [
    "polygon_list = grant_2018['.geo'].unique()"
   ]
  },
  {
   "cell_type": "markdown",
   "metadata": {},
   "source": [
    "# Pick one of the polygons"
   ]
  },
  {
   "cell_type": "code",
   "execution_count": 150,
   "metadata": {},
   "outputs": [],
   "source": [
    "a_grant_2018_field = grant_2018[grant_2018['.geo']==polygon_list[3]]\n",
    "a_grant_2018_field = order_by_doy(a_grant_2018_field)\n",
    "a_grant_2018_field.loc[165, 'CropTyp'] = \"Almond\""
   ]
  },
  {
   "cell_type": "code",
   "execution_count": 152,
   "metadata": {},
   "outputs": [
    {
     "name": "stdout",
     "output_type": "stream",
     "text": [
      "(57, 24)\n"
     ]
    }
   ],
   "source": [
    "print(a_grant_2018_field.shape)"
   ]
  },
  {
   "cell_type": "code",
   "execution_count": 158,
   "metadata": {},
   "outputs": [
    {
     "name": "stdout",
     "output_type": "stream",
     "text": [
      "The data before cleaning is of size (57, 24)\n",
      "The data after cleaning is of size (0, 23)\n"
     ]
    }
   ],
   "source": [
    "print (\"The data before cleaning is of size\", str(a_grant_2018_field.shape))\n",
    "grant_2018_cleaned = initial_clean(a_grant_2018_field)\n",
    "print (\"The data after cleaning is of size\", str(grant_2018_cleaned.shape))"
   ]
  },
  {
   "cell_type": "code",
   "execution_count": 159,
   "metadata": {},
   "outputs": [
    {
     "data": {
      "text/plain": [
       "Series([], Name: Irrigtn, dtype: object)"
      ]
     },
     "execution_count": 159,
     "metadata": {},
     "output_type": "execute_result"
    }
   ],
   "source": [
    "grant_2018_cleaned['Irrigtn']"
   ]
  },
  {
   "cell_type": "code",
   "execution_count": 160,
   "metadata": {},
   "outputs": [
    {
     "data": {
      "text/plain": [
       "Index(['Acres', 'B2', 'B3', 'B4', 'B8', 'CovrCrp', 'CropGrp', 'CropTyp',\n",
       "       'DataSrc', 'ExctAcr', 'IntlSrD', 'Irrigtn', 'LstSrvD', 'NDVI', 'Notes',\n",
       "       'RtCrpTy', 'Shap_Ar', 'Shp_Lng', 'TRS', 'county', 'doy', 'year', 'geo'],\n",
       "      dtype='object')"
      ]
     },
     "execution_count": 160,
     "metadata": {},
     "output_type": "execute_result"
    }
   ],
   "source": [
    "grant_2018_cleaned.columns"
   ]
  },
  {
   "cell_type": "code",
   "execution_count": null,
   "metadata": {},
   "outputs": [],
   "source": []
  }
 ],
 "metadata": {
  "kernelspec": {
   "display_name": "Python 3",
   "language": "python",
   "name": "python3"
  },
  "language_info": {
   "codemirror_mode": {
    "name": "ipython",
    "version": 3
   },
   "file_extension": ".py",
   "mimetype": "text/x-python",
   "name": "python",
   "nbconvert_exporter": "python",
   "pygments_lexer": "ipython3",
   "version": "3.7.4"
  }
 },
 "nbformat": 4,
 "nbformat_minor": 2
}
