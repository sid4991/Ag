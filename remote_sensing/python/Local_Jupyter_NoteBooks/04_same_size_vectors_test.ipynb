{
 "cells": [
  {
   "cell_type": "code",
   "execution_count": 1,
   "metadata": {},
   "outputs": [],
   "source": [
    "import csv\n",
    "import numpy as np\n",
    "import pandas as pd\n",
    "import geopandas as gpd\n",
    "import sys\n",
    "from IPython.display import Image\n",
    "from shapely.geometry import Point, Polygon\n",
    "from math import factorial\n",
    "import datetime\n",
    "import time\n",
    "import scipy\n",
    "import os, os.path\n",
    "\n",
    "from statsmodels.sandbox.regression.predstd import wls_prediction_std\n",
    "import statsmodels.api as sm\n",
    "from sklearn.linear_model import LinearRegression\n",
    "from patsy import cr\n",
    "from patsy import dmatrix \n",
    "\n",
    "from pprint import pprint\n",
    "import matplotlib.pyplot as plt\n",
    "import seaborn as sb\n",
    "\n",
    "from sklearn.metrics import mean_squared_error\n",
    "from math import sqrt\n",
    "\n",
    "\n",
    "import sys\n",
    "# search path for modules\n",
    "# look @ https://stackoverflow.com/questions/67631/how-to-import-a-module-given-the-full-path\n",
    "sys.path.append('/Users/hn/Documents/00_GitHub/Ag/remote_sensing/python/')\n",
    "import remote_sensing_core as rc\n",
    "import remote_sensing_core as rcp\n",
    "\n",
    "start = time.time()"
   ]
  },
  {
   "cell_type": "markdown",
   "metadata": {},
   "source": [
    "# Directories"
   ]
  },
  {
   "cell_type": "code",
   "execution_count": 2,
   "metadata": {},
   "outputs": [],
   "source": [
    "data_dir = \"/Users/hn/Documents/01_research_data/\" + \\\n",
    "           \"remote_sensing/01_NDVI_TS/no_ID/Grant/No_EVI/Grant_10_cloud/Grant_2017/\""
   ]
  },
  {
   "cell_type": "code",
   "execution_count": 3,
   "metadata": {},
   "outputs": [],
   "source": [
    "output_dir = data_dir\n",
    "plot_dir_base = data_dir + \"plots/\""
   ]
  },
  {
   "cell_type": "markdown",
   "metadata": {},
   "source": [
    "# Data reading"
   ]
  },
  {
   "cell_type": "code",
   "execution_count": 4,
   "metadata": {},
   "outputs": [
    {
     "data": {
      "text/html": [
       "<div>\n",
       "<style scoped>\n",
       "    .dataframe tbody tr th:only-of-type {\n",
       "        vertical-align: middle;\n",
       "    }\n",
       "\n",
       "    .dataframe tbody tr th {\n",
       "        vertical-align: top;\n",
       "    }\n",
       "\n",
       "    .dataframe thead th {\n",
       "        text-align: right;\n",
       "    }\n",
       "</style>\n",
       "<table border=\"1\" class=\"dataframe\">\n",
       "  <thead>\n",
       "    <tr style=\"text-align: right;\">\n",
       "      <th></th>\n",
       "      <th>Acres</th>\n",
       "      <th>B2</th>\n",
       "      <th>B3</th>\n",
       "      <th>B4</th>\n",
       "      <th>B8</th>\n",
       "      <th>CropGrp</th>\n",
       "      <th>CropTyp</th>\n",
       "      <th>ExctAcr</th>\n",
       "      <th>IntlSrD</th>\n",
       "      <th>Irrigtn</th>\n",
       "      <th>...</th>\n",
       "      <th>Shap_Ar</th>\n",
       "      <th>Shp_Lng</th>\n",
       "      <th>Source</th>\n",
       "      <th>TRS</th>\n",
       "      <th>county</th>\n",
       "      <th>doy</th>\n",
       "      <th>year</th>\n",
       "      <th>geo</th>\n",
       "      <th>CovrCrp</th>\n",
       "      <th>DataSrc</th>\n",
       "    </tr>\n",
       "  </thead>\n",
       "  <tbody>\n",
       "    <tr>\n",
       "      <td>0</td>\n",
       "      <td>36</td>\n",
       "      <td>0.092407</td>\n",
       "      <td>0.070650</td>\n",
       "      <td>0.071444</td>\n",
       "      <td>0.109662</td>\n",
       "      <td>Herb</td>\n",
       "      <td>Mint</td>\n",
       "      <td>35.813572</td>\n",
       "      <td>2003/07/01 00:00:00</td>\n",
       "      <td>Drip</td>\n",
       "      <td>...</td>\n",
       "      <td>144932.383795</td>\n",
       "      <td>1572.482519</td>\n",
       "      <td>WSDA</td>\n",
       "      <td>T16R27E23</td>\n",
       "      <td>Grant</td>\n",
       "      <td>62.0</td>\n",
       "      <td>2017.0</td>\n",
       "      <td>{\"type\":\"Polygon\",\"coordinates\":[[[-119.404844...</td>\n",
       "      <td>NA</td>\n",
       "      <td>NA</td>\n",
       "    </tr>\n",
       "    <tr>\n",
       "      <td>1</td>\n",
       "      <td>36</td>\n",
       "      <td>0.105605</td>\n",
       "      <td>0.107085</td>\n",
       "      <td>0.075052</td>\n",
       "      <td>0.436749</td>\n",
       "      <td>Herb</td>\n",
       "      <td>Mint</td>\n",
       "      <td>35.813572</td>\n",
       "      <td>2003/07/01 00:00:00</td>\n",
       "      <td>Drip</td>\n",
       "      <td>...</td>\n",
       "      <td>144932.383795</td>\n",
       "      <td>1572.482519</td>\n",
       "      <td>WSDA</td>\n",
       "      <td>T16R27E23</td>\n",
       "      <td>Grant</td>\n",
       "      <td>119.0</td>\n",
       "      <td>2017.0</td>\n",
       "      <td>{\"type\":\"Polygon\",\"coordinates\":[[[-119.404844...</td>\n",
       "      <td>NA</td>\n",
       "      <td>NA</td>\n",
       "    </tr>\n",
       "  </tbody>\n",
       "</table>\n",
       "<p>2 rows × 24 columns</p>\n",
       "</div>"
      ],
      "text/plain": [
       "   Acres        B2        B3        B4        B8 CropGrp CropTyp    ExctAcr  \\\n",
       "0     36  0.092407  0.070650  0.071444  0.109662    Herb    Mint  35.813572   \n",
       "1     36  0.105605  0.107085  0.075052  0.436749    Herb    Mint  35.813572   \n",
       "\n",
       "               IntlSrD Irrigtn  ...        Shap_Ar      Shp_Lng Source  \\\n",
       "0  2003/07/01 00:00:00    Drip  ...  144932.383795  1572.482519   WSDA   \n",
       "1  2003/07/01 00:00:00    Drip  ...  144932.383795  1572.482519   WSDA   \n",
       "\n",
       "         TRS  county    doy    year  \\\n",
       "0  T16R27E23   Grant   62.0  2017.0   \n",
       "1  T16R27E23   Grant  119.0  2017.0   \n",
       "\n",
       "                                                 geo CovrCrp  DataSrc  \n",
       "0  {\"type\":\"Polygon\",\"coordinates\":[[[-119.404844...      NA       NA  \n",
       "1  {\"type\":\"Polygon\",\"coordinates\":[[[-119.404844...      NA       NA  \n",
       "\n",
       "[2 rows x 24 columns]"
      ]
     },
     "execution_count": 4,
     "metadata": {},
     "output_type": "execute_result"
    }
   ],
   "source": [
    "file_names = [\"Grant_2017_TS.csv\"]\n",
    "file_N = file_names[0]\n",
    "a_df = pd.read_csv(data_dir + file_N)\n",
    "\n",
    "# The following columns do not exist in the old data\n",
    "a_df['CovrCrp'] = \"NA\" \n",
    "a_df['DataSrc'] = \"NA\" \n",
    "\n",
    "a_df = rc.initial_clean_NDVI(a_df)\n",
    "a_df.head(2)"
   ]
  },
  {
   "cell_type": "code",
   "execution_count": 5,
   "metadata": {},
   "outputs": [
    {
     "name": "stdout",
     "output_type": "stream",
     "text": [
      "32\n"
     ]
    }
   ],
   "source": [
    "an_EE_TS = a_df.copy()\n",
    "an_EE_TS = an_EE_TS.iloc[1:1000]\n",
    "\n",
    "# an_EE_TS = rc.initial_clean_NDVI(an_EE_TS)\n",
    "\n",
    "### List of unique polygons\n",
    "polygon_list = an_EE_TS['geo'].unique()\n",
    "print(len(polygon_list))\n",
    "\n",
    "output_columns = ['Acres', 'CovrCrp', 'CropGrp', 'CropTyp',\n",
    "                  'DataSrc', 'ExctAcr', 'IntlSrD', 'Irrigtn', 'LstSrvD', 'Notes',\n",
    "                  'RtCrpTy', 'Shap_Ar', 'Shp_Lng', 'TRS', 'county', 'year', 'geo',\n",
    "                  'peak_Doy', 'peak_value']\n",
    "\n",
    "all_polygons_and_their_peaks = pd.DataFrame(data=None, \n",
    "                                            index=np.arange(3*len(an_EE_TS)), \n",
    "                                            columns=output_columns)\n",
    "\n",
    "double_columns = ['Acres', 'CovrCrp', 'CropGrp', 'CropTyp',\n",
    "                  'DataSrc', 'ExctAcr', 'IntlSrD', 'Irrigtn', 'LstSrvD', 'Notes',\n",
    "                  'RtCrpTy', 'Shap_Ar', 'Shp_Lng', 'TRS', 'county', 'year', 'geo']\n",
    "\n",
    "double_polygons = pd.DataFrame(data=None, \n",
    "                               index=np.arange(2*len(an_EE_TS)), \n",
    "                               columns=double_columns)"
   ]
  },
  {
   "cell_type": "code",
   "execution_count": 6,
   "metadata": {},
   "outputs": [],
   "source": [
    "pointer = 0\n",
    "double_pointer = 0\n",
    "counter = 0\n",
    "\n",
    "a_poly = polygon_list[0]\n",
    "\n",
    "counter += 1\n",
    "curr_field = an_EE_TS[an_EE_TS['geo']==a_poly]\n",
    "\n",
    "year = int(curr_field['year'].unique())\n",
    "plant = curr_field['CropTyp'].unique()[0]\n",
    "\n",
    "plant = plant.replace(\"/\", \"_\")\n",
    "plant = plant.replace(\",\", \"_\")\n",
    "plant = plant.replace(\" \", \"_\")\n",
    "\n",
    "county = curr_field['county'].unique()[0]\n",
    "TRS = curr_field['TRS'].unique()[0]\n",
    "\n",
    "### \n",
    "###  There is a chance that a polygon is repeated twice?\n",
    "###\n",
    "\n",
    "X = curr_field['doy']\n",
    "y = curr_field['NDVI']\n",
    "freedom_df = 10\n",
    "#############################################\n",
    "###\n",
    "###             Smoothen\n",
    "###\n",
    "#############################################\n",
    "\n",
    "# Generate spline basis with \"freedom_df\" degrees of freedom\n",
    "x_basis = cr(X, df=freedom_df, constraints='center')\n",
    "\n",
    "# Fit model to the data\n",
    "model = LinearRegression().fit(x_basis, y)\n",
    "\n",
    "# Get estimates\n",
    "y_predic = model.predict(x_basis)"
   ]
  },
  {
   "cell_type": "code",
   "execution_count": 7,
   "metadata": {},
   "outputs": [],
   "source": [
    "X_const = np.arange(start=1, stop=365, step=14)\n",
    "x_const_basis = cr(X_const, df=(freedom_df), constraints='center')\n",
    "x_const_basis = pd.DataFrame(x_const_basis)\n",
    "y_const_pred = model.predict(x_const_basis)"
   ]
  },
  {
   "cell_type": "raw",
   "metadata": {},
   "source": [
    "peaks_spline = rc.peakdetect(y_predic, lookahead=5, delta=0)\n",
    "max_peaks =  peaks_spline[0]\n",
    "peaks_spline = rc.form_xs_ys_from_peakdetect(max_peak_list = max_peaks, doy_vect=X)\n",
    "# print(peaks_spline)\n",
    "DoYs_series = pd.Series(peaks_spline[0])\n",
    "peaks_series = pd.Series(peaks_spline[1])\n",
    "\n",
    "peaks_spline_const = rc.peakdetect(y_const_pred, lookahead = 10, delta=0)\n",
    "max_peaks_const =  peaks_spline_const[0]\n",
    "peaks_spline_const = rc.form_xs_ys_from_peakdetect(max_peak_list = max_peaks_const, doy_vect=X_const)\n",
    "# print(peaks_spline)\n",
    "DoYs_series_const = pd.Series(peaks_spline_const[0])\n",
    "peaks_series_const = pd.Series(peaks_spline_const[1])\n",
    "\n",
    "####### plot\n",
    "plot_title = county + \", \" + plant + \", \" + str(year) + \" (\" + TRS + \")\"\n",
    "# sb.set();\n",
    "fig, ax = plt.subplots(figsize=(8,6));\n",
    "# ax.plot(X, y, label=\"NDVI data\");\n",
    "ax.scatter(X, y, s=10, c='b', marker='o', label=\"NDVI data\");\n",
    "\n",
    "ax.plot(X, y_predic, 'r', label=\"cr smoothing spline\")\n",
    "# ax.scatter(X, y_predic, s=10, c='r', marker='o', label=\"smoothing spline\");\n",
    "\n",
    "# ax.plot(X_const, y_const_pred, 'g', label=\"smoothing spline const.\")\n",
    "ax.scatter(X_const, y_const_pred, s=10, c='k', marker='o', label=\"cr smoothing spline const.\");\n",
    "\n",
    "ax.scatter(DoYs_series, peaks_series, s=100, c='r', marker='*');\n",
    "ax.set_title(plot_title);\n",
    "ax.set(xlabel='DoY', ylabel='NDVI')\n",
    "ax.legend(loc=\"best\");\n",
    "\n",
    "# sb.despine() # removes top and right axis/frame (when we have not done sb.set(); and background is white)\n",
    "fig_name = \"/Users/hn/Desktop/\" + 'cr_df_10.png'\n",
    "plt.savefig(fname = fig_name, \\\n",
    "            dpi=300, \n",
    "            bbox_inches='tight')"
   ]
  },
  {
   "cell_type": "markdown",
   "metadata": {},
   "source": [
    "# Natural Cubic Spline"
   ]
  },
  {
   "cell_type": "code",
   "execution_count": 8,
   "metadata": {},
   "outputs": [
    {
     "name": "stdout",
     "output_type": "stream",
     "text": [
      "0.06590564990535319\n"
     ]
    }
   ],
   "source": [
    "train_y = y\n",
    "# Generating natural cubic spline\n",
    "transformed_x3 = dmatrix(\"cr(train, df = 10)\", {\"train\": X}, return_type='dataframe')\n",
    "\n",
    "fit3 = sm.GLM(train_y, transformed_x3).fit()\n",
    "\n",
    "# Prediction on validation set\n",
    "pred3 = fit3.predict(dmatrix(\"cr(valid, df=10)\", {\"valid\": X}, return_type='dataframe'))\n",
    "\n",
    "# Calculating RMSE value\n",
    "rms = sqrt(mean_squared_error(train_y, pred3))\n",
    "print(rms)"
   ]
  },
  {
   "cell_type": "code",
   "execution_count": 13,
   "metadata": {},
   "outputs": [],
   "source": [
    "pred_constant = fit3.predict(dmatrix(\"cr(valid, df=10)\", {\"valid\": X_const}, return_type='dataframe'))"
   ]
  },
  {
   "cell_type": "code",
   "execution_count": null,
   "metadata": {},
   "outputs": [],
   "source": []
  },
  {
   "cell_type": "code",
   "execution_count": 16,
   "metadata": {},
   "outputs": [
    {
     "data": {
      "image/png": "[encoded data removed]",
      "text/plain": [
       "<Figure size 576x432 with 1 Axes>"
      ]
     },
     "metadata": {
      "needs_background": "light"
     },
     "output_type": "display_data"
    }
   ],
   "source": [
    "LA = 5\n",
    "de = 0.1\n",
    "peaks_spline = rc.peakdetect(pred3, lookahead=LA, delta=de)\n",
    "max_peaks =  peaks_spline[0]\n",
    "peaks_spline = rc.form_xs_ys_from_peakdetect(max_peak_list = max_peaks, doy_vect=X)\n",
    "# print(peaks_spline)\n",
    "DoYs_series = pd.Series(peaks_spline[0])\n",
    "peaks_series = pd.Series(peaks_spline[1])\n",
    "\n",
    "peaks_spline_const = rc.peakdetect(y_const_pred, lookahead = 10, delta=0)\n",
    "max_peaks_const =  peaks_spline_const[0]\n",
    "peaks_spline_const = rc.form_xs_ys_from_peakdetect(max_peak_list = max_peaks_const, doy_vect=X_const)\n",
    "# print(peaks_spline)\n",
    "DoYs_series_const = pd.Series(peaks_spline_const[0])\n",
    "peaks_series_const = pd.Series(peaks_spline_const[1])\n",
    "\n",
    "##############\n",
    "############## plot\n",
    "##############\n",
    "\n",
    "plot_title = county + \", \" + plant + \", \" + str(year) + \" (\" + TRS + \")\"\n",
    "# sb.set();\n",
    "fig, ax = plt.subplots(figsize=(8,6));\n",
    "# ax.plot(X, y, label=\"NDVI data\");\n",
    "ax.scatter(X, y, s=10, c='b', marker='o', label=\"NDVI data\");\n",
    "\n",
    "ax.plot(X, pred3, 'r', label=\"natural smoothing spline\")\n",
    "# ax.scatter(X, y_predic, s=10, c='r', marker='o', label=\"smoothing spline\");\n",
    "\n",
    "# ax.plot(X_const, y_const_pred, 'g', label=\"smoothing spline const.\")\n",
    "ax.scatter(X_const, pred_constant, s=10, c='k', marker='o', label=\"natural smoothing spline const.\");\n",
    "\n",
    "ax.scatter(DoYs_series, peaks_series, s=100, c='r', marker='*');\n",
    "ax.set_title(plot_title);\n",
    "ax.set(xlabel='DoY', ylabel='NDVI')\n",
    "ax.legend(loc=\"best\");\n",
    "\n",
    "# sb.despine() # removes top and right axis/frame (when we have not done sb.set(); and background is white)\n",
    "fig_name = \"/Users/hn/Desktop/\" + 'natural_df_' + str(freedom_df) + \"_LA_\" + str(LA) + '_delta_' + str(de) + '.png'\n",
    "plt.savefig(fname = fig_name, \\\n",
    "            dpi=300, \n",
    "            bbox_inches='tight')"
   ]
  },
  {
   "cell_type": "code",
   "execution_count": 10,
   "metadata": {},
   "outputs": [
    {
     "data": {
      "text/plain": [
       "[[[142.0, 1.0115540379700318], [234.0, 0.8291076923998333]],\n",
       " [[182.0, 0.22377758577208162], [269.0, 0.22087757064816366]]]"
      ]
     },
     "execution_count": 10,
     "metadata": {},
     "output_type": "execute_result"
    }
   ],
   "source": [
    "rc.my_peakdetect(y_axis=pred3, x_axis=X, delta=.1)"
   ]
  },
  {
   "cell_type": "code",
   "execution_count": 17,
   "metadata": {},
   "outputs": [
    {
     "data": {
      "text/plain": [
       "[[[3, 1.0115540379700318], [14, 0.6581392846690826], [21, 0.8291076923998333]],\n",
       " [[7, 0.22377758577208162],\n",
       "  [17, 0.6054110655132637],\n",
       "  [26, 0.22087757064816366]]]"
      ]
     },
     "execution_count": 17,
     "metadata": {},
     "output_type": "execute_result"
    }
   ],
   "source": [
    "LA = 5\n",
    "de = 0.1\n",
    "peaks_spline = rc.peakdetect(pred3, lookahead=LA, delta=0.)\n",
    "peaks_spline"
   ]
  },
  {
   "cell_type": "code",
   "execution_count": 18,
   "metadata": {},
   "outputs": [
    {
     "data": {
      "text/plain": [
       "1     0.662407\n",
       "2     0.727148\n",
       "3     0.867011\n",
       "4     1.011554\n",
       "5     0.761589\n",
       "6     0.669022\n",
       "7     0.238571\n",
       "8     0.223778\n",
       "9     0.301327\n",
       "10    0.414849\n",
       "11    0.487472\n",
       "12    0.532564\n",
       "13    0.590311\n",
       "14    0.620457\n",
       "15    0.658139\n",
       "16    0.635449\n",
       "17    0.612996\n",
       "18    0.605411\n",
       "19    0.618374\n",
       "20    0.646756\n",
       "21    0.750912\n",
       "22    0.829108\n",
       "23    0.826930\n",
       "24    0.736749\n",
       "25    0.679881\n",
       "26    0.287987\n",
       "27    0.220878\n",
       "28    0.249980\n",
       "29    0.271453\n",
       "30    0.284953\n",
       "31    0.351157\n",
       "33    0.298152\n",
       "34    0.251277\n",
       "dtype: float64"
      ]
     },
     "execution_count": 18,
     "metadata": {},
     "output_type": "execute_result"
    }
   ],
   "source": [
    "pred3"
   ]
  },
  {
   "cell_type": "code",
   "execution_count": null,
   "metadata": {},
   "outputs": [],
   "source": []
  },
  {
   "cell_type": "code",
   "execution_count": null,
   "metadata": {},
   "outputs": [],
   "source": []
  },
  {
   "cell_type": "code",
   "execution_count": null,
   "metadata": {},
   "outputs": [],
   "source": []
  },
  {
   "cell_type": "code",
   "execution_count": null,
   "metadata": {},
   "outputs": [],
   "source": []
  },
  {
   "cell_type": "code",
   "execution_count": null,
   "metadata": {},
   "outputs": [],
   "source": [
    "x_basis"
   ]
  },
  {
   "cell_type": "code",
   "execution_count": null,
   "metadata": {},
   "outputs": [],
   "source": []
  },
  {
   "cell_type": "code",
   "execution_count": null,
   "metadata": {},
   "outputs": [],
   "source": [
    "pointer = 0\n",
    "double_pointer = 0\n",
    "counter = 0\n",
    "\n",
    "for a_poly in polygon_list:\n",
    "    if (counter%1000 == 0):\n",
    "        print (counter)\n",
    "    counter += 1\n",
    "    curr_field = an_EE_TS[an_EE_TS['geo']==a_poly]\n",
    "\n",
    "    year = int(curr_field['year'].unique())\n",
    "    plant = curr_field['CropTyp'].unique()[0]\n",
    "    \n",
    "    plant = plant.replace(\"/\", \"_\")\n",
    "    plant = plant.replace(\",\", \"_\")\n",
    "    plant = plant.replace(\" \", \"_\")\n",
    "    \n",
    "    county = curr_field['county'].unique()[0]\n",
    "    TRS = curr_field['TRS'].unique()[0]\n",
    "\n",
    "    ### \n",
    "    ###  There is a chance that a polygon is repeated twice?\n",
    "    ###\n",
    "\n",
    "    X = curr_field['doy']\n",
    "    y = curr_field['NDVI']\n",
    "    freedom_df = 10\n",
    "    #############################################\n",
    "    ###\n",
    "    ###             Smoothen\n",
    "    ###\n",
    "    #############################################\n",
    "\n",
    "    # Generate spline basis with \"freedom_df\" degrees of freedom\n",
    "    x_basis = cr(X, df=freedom_df, constraints='center')\n",
    "\n",
    "    # Fit model to the data\n",
    "    model = LinearRegression().fit(x_basis, y)\n",
    "\n",
    "    # Get estimates\n",
    "    y_predic = model.predict(x_basis)\n",
    "\n",
    "\n",
    "    #############################################\n",
    "    ###\n",
    "    ###             find peaks\n",
    "    ###\n",
    "    #############################################\n",
    "    # peaks_LWLS_1 = peakdetect(LWLS_1[:, 1], lookahead = 10, delta=0)\n",
    "    # max_peaks = peaks_LWLS_1[0]\n",
    "    # peaks_LWLS_1 = form_xs_ys_from_peakdetect(max_peak_list = max_peaks, doy_vect=X)\n",
    "\n",
    "    peaks_spline = rc.peakdetect(y_predic, lookahead = 10, delta=0)\n",
    "    max_peaks =  peaks_spline[0]\n",
    "    peaks_spline = rc.form_xs_ys_from_peakdetect(max_peak_list = max_peaks, doy_vect=X)\n",
    "    # print(peaks_spline)\n",
    "    DoYs_series = pd.Series(peaks_spline[0])\n",
    "    peaks_series = pd.Series(peaks_spline[1])\n",
    "\n",
    "    peak_df = pd.DataFrame({ \n",
    "                       'peak_Doy': DoYs_series,\n",
    "                       'peak_value': peaks_series\n",
    "                      }) \n",
    "\n",
    "\n",
    "    WSDA_df = rc.keep_WSDA_columns(curr_field)\n",
    "    WSDA_df = WSDA_df.drop_duplicates()\n",
    "    \n",
    "    if (len(peak_df)>0):\n",
    "        WSDA_df = pd.concat([WSDA_df]*peak_df.shape[0]).reset_index()\n",
    "        # WSDA_df = pd.concat([WSDA_df, peak_df], axis=1, ignore_index=True)\n",
    "        WSDA_df = WSDA_df.join(peak_df)\n",
    "        if (\"index\" in WSDA_df.columns):\n",
    "            WSDA_df = WSDA_df.drop(columns=['index'])\n",
    "\n",
    "        # all_polygons_and_their_peaks = all_polygons_and_their_peaks.append(WSDA_df, sort=False)\n",
    "\n",
    "        \"\"\"\n",
    "        copy the .values. Otherwise the index inconsistency between\n",
    "        WSDA_df and all_poly... will prevent the copying.\n",
    "        \"\"\"\n",
    "        all_polygons_and_their_peaks.iloc[pointer:(pointer + len(WSDA_df))] = WSDA_df.values\n",
    "        #\n",
    "        #  if we have double peaks add them to the double_polygons\n",
    "        #\n",
    "        if (len(WSDA_df) == 2):\n",
    "            print(plant, county, year, counter)\n",
    "            WSDA_df = WSDA_df.drop(columns=['peak_Doy', 'peak_value'])\n",
    "            WSDA_df = WSDA_df.drop_duplicates()\n",
    "            double_polygons.iloc[double_pointer:(double_pointer + len(WSDA_df))] = WSDA_df.values\n",
    "            double_pointer += len(WSDA_df)\n",
    "\n",
    "        pointer += len(WSDA_df)\n",
    "        \n",
    "        #############################################\n",
    "        ###\n",
    "        ###             plot\n",
    "        ###\n",
    "        #############################################\n",
    "        sub_out = \"/\" + plant + \"/\"\n",
    "        plot_path = plot_dir_base + sub_out\n",
    "        os.makedirs(plot_path, exist_ok=True)\n",
    "        if (len(os.listdir(plot_path))<100):\n",
    "            plot_title = county + \", \" + plant + \", \" + str(year) + \" (\" + TRS + \")\"\n",
    "            sb.set();\n",
    "            fig, ax = plt.subplots(figsize=(8,6));\n",
    "            ax.plot(X, y, label=\"NDVI data\");\n",
    "            ax.plot(X, y_predic, 'r', label=\"smoothing spline result\")\n",
    "            ax.scatter(DoYs_series, peaks_series, s=100, c='g', marker='*');\n",
    "            ax.set_title(plot_title);\n",
    "            ax.set(xlabel='DoY', ylabel='NDVI')\n",
    "            ax.legend(loc=\"best\");\n",
    "\n",
    "            fig_name = plot_path + county + \"_\" + plant + \"_\" + str(year) + \"_\" + str(counter) + '.png'\n",
    "            plt.savefig(fname = fig_name, \\\n",
    "                        dpi=500, \n",
    "                        bbox_inches='tight')\n",
    "            del(plot_path, sub_out, county, plant, year)\n",
    "            plt.close()\n",
    "\n",
    "        # to make sure the reference by address thing \n",
    "        # will not cause any problem.\n",
    "    del(WSDA_df)\n",
    "\n",
    "all_polygons_and_their_peaks = all_polygons_and_their_peaks[0:(pointer+1)]\n",
    "double_polygons = double_polygons[0:(double_pointer+1)]\n",
    "\n",
    "out_name = output_dir + 'all_polygons_and_their_peaks.csv'\n",
    "all_polygons_and_their_peaks.to_csv(out_name, index = False)\n",
    "\n",
    "out_name = output_dir + 'double_polygons.csv'\n",
    "double_polygons.to_csv(out_name, index = False)"
   ]
  },
  {
   "cell_type": "code",
   "execution_count": null,
   "metadata": {},
   "outputs": [],
   "source": []
  },
  {
   "cell_type": "code",
   "execution_count": null,
   "metadata": {},
   "outputs": [],
   "source": []
  },
  {
   "cell_type": "code",
   "execution_count": null,
   "metadata": {},
   "outputs": [],
   "source": []
  },
  {
   "cell_type": "code",
   "execution_count": null,
   "metadata": {},
   "outputs": [],
   "source": []
  },
  {
   "cell_type": "code",
   "execution_count": null,
   "metadata": {},
   "outputs": [],
   "source": []
  },
  {
   "cell_type": "code",
   "execution_count": null,
   "metadata": {},
   "outputs": [],
   "source": []
  },
  {
   "cell_type": "code",
   "execution_count": null,
   "metadata": {},
   "outputs": [],
   "source": []
  },
  {
   "cell_type": "code",
   "execution_count": null,
   "metadata": {},
   "outputs": [],
   "source": [
    "x_axis, y_axis = rc._datacheck_peakdetect(X, pred3)\n",
    "lookahead=6\n",
    "delta=0"
   ]
  },
  {
   "cell_type": "code",
   "execution_count": null,
   "metadata": {},
   "outputs": [],
   "source": [
    "max_peaks = []\n",
    "min_peaks = []\n",
    "dump = []\n",
    "# store data length for later use\n",
    "length = len(y_axis)\n",
    "mn, mx = np.Inf, -np.Inf"
   ]
  },
  {
   "cell_type": "code",
   "execution_count": null,
   "metadata": {},
   "outputs": [],
   "source": [
    "index = 2\n",
    "x = x_axis[index]\n",
    "y = y_axis[index]\n",
    "if y > mx:\n",
    "    mx = y\n",
    "    mxpos = x\n",
    "if y < mn:\n",
    "    mn = y\n",
    "    mnpos = x\n",
    "\n",
    "#### look for max ####\n",
    "if y < mx-delta and mx != np.Inf:\n",
    "    # Maxima peak candidate found\n",
    "    # look ahead in signal to ensure that this is a peak and not jitter\n",
    "    if y_axis[index:index+lookahead].max() < mx:\n",
    "        max_peaks.append([mxpos, mx])\n",
    "        dump.append(True)\n",
    "\n",
    "        # set algorithm to only find minima now\n",
    "        mx = np.Inf\n",
    "        mn = np.Inf\n",
    "\n",
    "if y > mn+delta and mn != -np.Inf:\n",
    "    if y_axis[index:index+lookahead].min() > mn:\n",
    "        min_peaks.append([mnpos, mn])\n",
    "        dump.append(False)\n",
    "        mn = -np.Inf\n",
    "        mx = -np.Inf"
   ]
  },
  {
   "cell_type": "code",
   "execution_count": null,
   "metadata": {},
   "outputs": [],
   "source": [
    "mx"
   ]
  },
  {
   "cell_type": "code",
   "execution_count": null,
   "metadata": {},
   "outputs": [],
   "source": []
  },
  {
   "cell_type": "code",
   "execution_count": null,
   "metadata": {},
   "outputs": [],
   "source": []
  },
  {
   "cell_type": "code",
   "execution_count": null,
   "metadata": {},
   "outputs": [],
   "source": []
  },
  {
   "cell_type": "code",
   "execution_count": null,
   "metadata": {},
   "outputs": [],
   "source": []
  },
  {
   "cell_type": "code",
   "execution_count": null,
   "metadata": {},
   "outputs": [],
   "source": []
  }
 ],
 "metadata": {
  "kernelspec": {
   "display_name": "Python 3",
   "language": "python",
   "name": "python3"
  },
  "language_info": {
   "codemirror_mode": {
    "name": "ipython",
    "version": 3
   },
   "file_extension": ".py",
   "mimetype": "text/x-python",
   "name": "python",
   "nbconvert_exporter": "python",
   "pygments_lexer": "ipython3",
   "version": "3.7.4"
  }
 },
 "nbformat": 4,
 "nbformat_minor": 2
}
