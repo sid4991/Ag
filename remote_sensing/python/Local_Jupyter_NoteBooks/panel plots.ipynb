{
 "cells": [
  {
   "cell_type": "markdown",
   "metadata": {},
   "source": [
    "# Panel Plots\n",
    "We are creating this notebook in order to practice creating panel plots\n",
    "for Savitzky smoothing method and see how different parameters affect our estimates."
   ]
  },
  {
   "cell_type": "code",
   "execution_count": 1,
   "metadata": {},
   "outputs": [],
   "source": [
    "import csv\n",
    "import numpy as np\n",
    "import pandas as pd\n",
    "# import geopandas as gpd\n",
    "from IPython.display import Image\n",
    "# from shapely.geometry import Point, Polygon\n",
    "from math import factorial\n",
    "import datetime\n",
    "import time\n",
    "import scipy\n",
    "import scipy.signal\n",
    "import os, os.path\n",
    "\n",
    "from statsmodels.sandbox.regression.predstd import wls_prediction_std\n",
    "from sklearn.linear_model import LinearRegression\n",
    "from patsy import cr\n",
    "\n",
    "# from pprint import pprint\n",
    "import matplotlib.pyplot as plt\n",
    "import seaborn as sb\n",
    "\n",
    "\n",
    "import sys\n",
    "start_time = time.time()"
   ]
  },
  {
   "cell_type": "code",
   "execution_count": 5,
   "metadata": {},
   "outputs": [],
   "source": [
    "# search path for modules\n",
    "# look @ https://stackoverflow.com/questions/67631/how-to-import-a-module-given-the-full-path\n",
    "\n",
    "\n",
    "####################################################################################\n",
    "###\n",
    "###                      Local\n",
    "###\n",
    "####################################################################################\n",
    "\n",
    "################\n",
    "###\n",
    "### Core path\n",
    "###\n",
    "\n",
    "sys.path.append('/Users/hn/Documents/00_GitHub/Ag/remote_sensing/python/')\n",
    "\n",
    "################\n",
    "###\n",
    "### Directories\n",
    "###\n",
    "data_dir = \"/Users/hn/Documents/01_research_data\" + \\\n",
    "           \"/remote_sensing/01_NDVI_TS/00_Eastern_WA_withYear/\"\n",
    "\n",
    "param_dir = \"/Users/hn/Documents/00_GitHub/Ag/remote_sensing/parameters/\"\n",
    "####################################################################################\n",
    "###\n",
    "###                      Aeolus Core path\n",
    "###\n",
    "####################################################################################\n",
    "\n",
    "# sys.path.append('/home/hnoorazar/remote_sensing_codes/')\n",
    "\n",
    "####################################################################################\n",
    "###\n",
    "###                   Aeolus Directories\n",
    "###\n",
    "####################################################################################\n",
    "\n",
    "# data_dir = \"/data/hydro/users/Hossein/remote_sensing/01_NDVI_TS/00_Eastern_WA_EE/\"\n",
    "# param_dir = \"/home/hnoorazar/remote_sensing_codes/parameters/\"\n",
    "\n",
    "####################################################################################\n",
    "###\n",
    "###                   Import remote cores\n",
    "###\n",
    "####################################################################################\n",
    "\n",
    "import remote_sensing_core as rc\n",
    "import remote_sensing_core as rcp\n"
   ]
  },
  {
   "cell_type": "code",
   "execution_count": 6,
   "metadata": {},
   "outputs": [
    {
     "name": "stdout",
     "output_type": "stream",
     "text": [
      "delta = 0.1.\n"
     ]
    }
   ],
   "source": [
    "####################################################################################\n",
    "###\n",
    "###      Parameters                   \n",
    "###\n",
    "####################################################################################\n",
    "freedom_df = 7\n",
    "\n",
    "Sav_win_size = 9\n",
    "sav_order = 1\n",
    "delt = 0.1\n",
    "indeks = \"EVI\"\n",
    "irrigated_only = 0\n",
    "\n",
    "# Sav_win_size = int(sys.argv[1])\n",
    "# sav_order = int(sys.argv[2])\n",
    "# delt = float(sys.argv[3])\n",
    "# indeks = sys.argv[4]\n",
    "# irrigated_only = sys.argv[5]\n",
    "irrigated_only = 0\n",
    "\n",
    "print (\"delta = {fileShape}.\".format(fileShape=delt))\n"
   ]
  },
  {
   "cell_type": "code",
   "execution_count": 40,
   "metadata": {},
   "outputs": [],
   "source": [
    "####################################################################################\n",
    "###\n",
    "###                   process data\n",
    "###\n",
    "####################################################################################\n",
    "f_name = \"Eastern_WA_2017_70cloud_selectors.csv\"\n",
    "f_name = \"Grant2017_4_Kirti_plot_TS_70cloud_selectors.csv\"\n",
    "a_df = pd.read_csv(data_dir + f_name, low_memory=False)\n",
    "\n",
    "\n",
    "##################################################################\n",
    "##################################################################\n",
    "####\n",
    "####  plots has to be exact. So, we need \n",
    "#### to filter out NASS, and filter by last survey date\n",
    "####\n",
    "##################################################################\n",
    "##################################################################\n",
    "\n",
    "a_df = a_df[a_df['county']== \"Grant\"] # Filter Grant\n",
    "a_df = rc.filter_out_NASS(a_df) # Toss NASS\n",
    "a_df = rc.filter_by_lastSurvey(a_df, year = 2017) # filter by last survey date\n",
    "a_df['year'] = 2017\n",
    "\n",
    "if irrigated_only == True:\n",
    "    filter_out_nonIrrigated = filter_out_nonIrrigated(filter_out_nonIrrigated)\n",
    "    output_Irr = \"irrigated\"\n",
    "else:\n",
    "    output_Irr = \"non_irrigated\""
   ]
  },
  {
   "cell_type": "code",
   "execution_count": null,
   "metadata": {},
   "outputs": [],
   "source": [
    "output_dir = \"/data/hydro/users/Hossein/remote_sensing/01_NDVI_TS/01_Eastern_WA_plots_tbls/plots/Grant_2017/\" + \\\n",
    "             output_Irr + \"/savitzky_\" + indeks + \"/\" + \\\n",
    "             \"/delta\" + str(delt) + \"_Sav_win\" + str(Sav_win_size) + \"_Order\"  + str(sav_order) + \"/\"\n",
    "\n",
    "plot_dir_base = output_dir\n",
    "print (\"plot_dir_base is \" + plot_dir_base)\n",
    "\n",
    "os.makedirs(output_dir, exist_ok=True)\n",
    "os.makedirs(plot_dir_base, exist_ok=True)"
   ]
  },
  {
   "cell_type": "code",
   "execution_count": 47,
   "metadata": {},
   "outputs": [
    {
     "name": "stdout",
     "output_type": "stream",
     "text": [
      "Data source is being set to NA\n"
     ]
    }
   ],
   "source": [
    "######################\n",
    "\n",
    "# The following columns do not exist in the old data\n",
    "#\n",
    "if not('DataSrc' in a_df.columns):\n",
    "    print (\"Data source is being set to NA\")\n",
    "    a_df['DataSrc'] = \"NA\"\n",
    "\n",
    "if not('CovrCrp' in a_df.columns):\n",
    "    print (\"Data source is being set to NA\")\n",
    "    a_df['CovrCrp'] = \"NA\"\n",
    "\n",
    "if (indeks == \"EVI\"):\n",
    "    a_df = rc.initial_clean_EVI(a_df)\n",
    "else:\n",
    "    a_df = rc.initial_clean_NDVI(a_df)\n",
    "\n",
    "a_df.head(2)\n",
    "an_EE_TS = a_df.copy()"
   ]
  },
  {
   "cell_type": "code",
   "execution_count": 50,
   "metadata": {},
   "outputs": [
    {
     "name": "stdout",
     "output_type": "stream",
     "text": [
      "1768\n"
     ]
    }
   ],
   "source": [
    "### List of unique polygons\n",
    "polygon_list = an_EE_TS['ID'].unique()\n",
    "print(len(polygon_list))"
   ]
  },
  {
   "cell_type": "code",
   "execution_count": null,
   "metadata": {},
   "outputs": [],
   "source": []
  },
  {
   "cell_type": "code",
   "execution_count": null,
   "metadata": {},
   "outputs": [],
   "source": []
  },
  {
   "cell_type": "code",
   "execution_count": null,
   "metadata": {},
   "outputs": [],
   "source": []
  }
 ],
 "metadata": {
  "kernelspec": {
   "display_name": "Python 3",
   "language": "python",
   "name": "python3"
  },
  "language_info": {
   "codemirror_mode": {
    "name": "ipython",
    "version": 3
   },
   "file_extension": ".py",
   "mimetype": "text/x-python",
   "name": "python",
   "nbconvert_exporter": "python",
   "pygments_lexer": "ipython3",
   "version": "3.7.4"
  }
 },
 "nbformat": 4,
 "nbformat_minor": 2
}
