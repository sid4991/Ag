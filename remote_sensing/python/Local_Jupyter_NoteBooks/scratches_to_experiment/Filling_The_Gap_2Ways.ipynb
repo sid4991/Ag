{
 "cells": [
  {
   "cell_type": "markdown",
   "metadata": {},
   "source": [
    "# Goal\n",
    "\n",
    "Our goal in this notebook is to take a time series and fill the gap. We will do this in 3 ways.\n",
    "   \n",
    "   1. Let $g_1$, $g_2$, $\\cdots$, $g_5$ be the 5 gaps. $T_0$ and $T_6$ be the two data points before and after $g_1$ and $g_5$. A linear line is drawn from $T_0$ to $T_6$ and then those gaps follow that line.\n",
    "   2. figure out what is time series linear regression and implement it. or, perhaps it is already."
   ]
  },
  {
   "cell_type": "code",
   "execution_count": 1,
   "metadata": {},
   "outputs": [],
   "source": [
    "import csv\n",
    "import numpy as np\n",
    "import pandas as pd\n",
    "# import geopandas as gpd\n",
    "from IPython.display import Image\n",
    "# from shapely.geometry import Point, Polygon\n",
    "from math import factorial\n",
    "import scipy\n",
    "import scipy.signal\n",
    "import os, os.path\n",
    "\n",
    "from datetime import date\n",
    "import datetime\n",
    "import time\n",
    "\n",
    "from statsmodels.sandbox.regression.predstd import wls_prediction_std\n",
    "from sklearn.linear_model import LinearRegression\n",
    "from patsy import cr\n",
    "\n",
    "# from pprint import pprint\n",
    "import matplotlib.pyplot as plt\n",
    "import seaborn as sb\n",
    "\n",
    "\n",
    "import sys\n",
    "\n",
    "sys.path.append('/Users/hn/Documents/00_GitHub/Ag/remote_sensing/python/')\n",
    "import remote_sensing_core as rc\n",
    "import remote_sensing_core as rcp\n"
   ]
  },
  {
   "cell_type": "code",
   "execution_count": 2,
   "metadata": {},
   "outputs": [],
   "source": [
    "data_dir =  \"/Users/hn/Documents/01_research_data/remote_sensing/test_data/\""
   ]
  },
  {
   "cell_type": "code",
   "execution_count": 101,
   "metadata": {},
   "outputs": [],
   "source": [
    "f_name = \"a_regularized_TS.csv\"\n",
    "a_regularized_TS = pd.read_csv(data_dir + f_name, low_memory=False)\n",
    "a_regularized_TS.sort_values(by=['image_year', 'doy'], inplace=True)"
   ]
  },
  {
   "cell_type": "markdown",
   "metadata": {},
   "source": [
    "# Parameters"
   ]
  },
  {
   "cell_type": "code",
   "execution_count": 102,
   "metadata": {},
   "outputs": [],
   "source": [
    "indeks = \"EVI\"\n",
    "SF_year = 2017"
   ]
  },
  {
   "cell_type": "markdown",
   "metadata": {},
   "source": [
    "# Linear Line"
   ]
  },
  {
   "cell_type": "code",
   "execution_count": 103,
   "metadata": {},
   "outputs": [
    {
     "data": {
      "text/html": [
       "<div>\n",
       "<style scoped>\n",
       "    .dataframe tbody tr th:only-of-type {\n",
       "        vertical-align: middle;\n",
       "    }\n",
       "\n",
       "    .dataframe tbody tr th {\n",
       "        vertical-align: top;\n",
       "    }\n",
       "\n",
       "    .dataframe thead th {\n",
       "        text-align: right;\n",
       "    }\n",
       "</style>\n",
       "<table border=\"1\" class=\"dataframe\">\n",
       "  <thead>\n",
       "    <tr style=\"text-align: right;\">\n",
       "      <th></th>\n",
       "      <th>ID</th>\n",
       "      <th>Acres</th>\n",
       "      <th>county</th>\n",
       "      <th>CropGrp</th>\n",
       "      <th>CropTyp</th>\n",
       "      <th>DataSrc</th>\n",
       "      <th>ExctAcr</th>\n",
       "      <th>IntlSrD</th>\n",
       "      <th>Irrigtn</th>\n",
       "      <th>LstSrvD</th>\n",
       "      <th>Notes</th>\n",
       "      <th>RtCrpTy</th>\n",
       "      <th>Shap_Ar</th>\n",
       "      <th>Shp_Lng</th>\n",
       "      <th>TRS</th>\n",
       "      <th>image_year</th>\n",
       "      <th>SF_year</th>\n",
       "      <th>doy</th>\n",
       "      <th>EVI</th>\n",
       "    </tr>\n",
       "  </thead>\n",
       "  <tbody>\n",
       "    <tr>\n",
       "      <td>0</td>\n",
       "      <td>115184_WSDA_SF_2017</td>\n",
       "      <td>72.0</td>\n",
       "      <td>Grant</td>\n",
       "      <td>Orchard</td>\n",
       "      <td>apple</td>\n",
       "      <td>wsda</td>\n",
       "      <td>72.371199</td>\n",
       "      <td>2006/08/31</td>\n",
       "      <td>micro-sprinkler</td>\n",
       "      <td>2017/04/24</td>\n",
       "      <td>NaN</td>\n",
       "      <td>NaN</td>\n",
       "      <td>292875.850894</td>\n",
       "      <td>3308.620365</td>\n",
       "      <td>T13R24E4</td>\n",
       "      <td>2016</td>\n",
       "      <td>2017</td>\n",
       "      <td>274</td>\n",
       "      <td>0.417561</td>\n",
       "    </tr>\n",
       "    <tr>\n",
       "      <td>1</td>\n",
       "      <td>115184_WSDA_SF_2017</td>\n",
       "      <td>72.0</td>\n",
       "      <td>Grant</td>\n",
       "      <td>Orchard</td>\n",
       "      <td>apple</td>\n",
       "      <td>wsda</td>\n",
       "      <td>72.371199</td>\n",
       "      <td>2006/08/31</td>\n",
       "      <td>micro-sprinkler</td>\n",
       "      <td>2017/04/24</td>\n",
       "      <td>NaN</td>\n",
       "      <td>NaN</td>\n",
       "      <td>292875.850894</td>\n",
       "      <td>3308.620365</td>\n",
       "      <td>T13R24E4</td>\n",
       "      <td>2016</td>\n",
       "      <td>2017</td>\n",
       "      <td>284</td>\n",
       "      <td>-2.000000</td>\n",
       "    </tr>\n",
       "  </tbody>\n",
       "</table>\n",
       "</div>"
      ],
      "text/plain": [
       "                    ID  Acres county  CropGrp CropTyp DataSrc    ExctAcr  \\\n",
       "0  115184_WSDA_SF_2017   72.0  Grant  Orchard   apple    wsda  72.371199   \n",
       "1  115184_WSDA_SF_2017   72.0  Grant  Orchard   apple    wsda  72.371199   \n",
       "\n",
       "      IntlSrD          Irrigtn     LstSrvD  Notes  RtCrpTy        Shap_Ar  \\\n",
       "0  2006/08/31  micro-sprinkler  2017/04/24    NaN      NaN  292875.850894   \n",
       "1  2006/08/31  micro-sprinkler  2017/04/24    NaN      NaN  292875.850894   \n",
       "\n",
       "       Shp_Lng       TRS  image_year  SF_year  doy       EVI  \n",
       "0  3308.620365  T13R24E4        2016     2017  274  0.417561  \n",
       "1  3308.620365  T13R24E4        2016     2017  284 -2.000000  "
      ]
     },
     "execution_count": 103,
     "metadata": {},
     "output_type": "execute_result"
    }
   ],
   "source": [
    "a_regularized_TS.head(2)"
   ]
  },
  {
   "cell_type": "code",
   "execution_count": 104,
   "metadata": {},
   "outputs": [
    {
     "data": {
      "text/plain": [
       "array([ 0.4175614 , -2.        ,  0.74173785,  0.72328165,  0.24971688,\n",
       "       -2.        ,  0.45789181, -2.        ,  0.37367702, -2.        ,\n",
       "       -2.        , -2.        , -2.        , -2.        ,  0.24103474,\n",
       "        0.22458873, -2.        , -2.        ,  0.24738865,  0.41210467,\n",
       "        0.49268638,  0.58170796,  0.54144885,  0.62809484,  0.75182253,\n",
       "        0.72722519,  0.8272405 ,  0.88276165,  0.86827636,  0.73957461,\n",
       "        0.66953682,  0.72046171,  0.63967863,  0.64954225,  0.69626907,\n",
       "        0.72598694,  0.72678947, -2.        ,  0.73320505,  0.7036713 ,\n",
       "        0.70267974,  0.48580156,  0.54348966, -2.        ,  0.4343211 ,\n",
       "        0.36825969, -2.        ,  0.32663178,  0.21325563,  0.30671939,\n",
       "       -2.        ,  0.30430575,  0.3123942 ,  0.26554537])"
      ]
     },
     "execution_count": 104,
     "metadata": {},
     "output_type": "execute_result"
    }
   ],
   "source": [
    "x_axis = rc.extract_XValues_of_RegularizedTS_3Yrs(regularized_TS = a_regularized_TS, \\\n",
    "                                                  SF_yr = SF_year)\n",
    "TS_array = a_regularized_TS[indeks].copy().values\n",
    "TS_array"
   ]
  },
  {
   "cell_type": "code",
   "execution_count": 33,
   "metadata": {},
   "outputs": [
    {
     "data": {
      "text/plain": [
       "(54,)"
      ]
     },
     "execution_count": 33,
     "metadata": {},
     "output_type": "execute_result"
    }
   ],
   "source": [
    "TS_array[0] = -2\n",
    "TS_array[51] = -2\n",
    "TS_array[52] = -2\n",
    "TS_array[53] = -2\n",
    "TS_array.shape"
   ]
  },
  {
   "cell_type": "code",
   "execution_count": 105,
   "metadata": {},
   "outputs": [
    {
     "name": "stdout",
     "output_type": "stream",
     "text": [
      "[ 1  5  7  9 10 11 12 13 16 17 37 43 46 50]\n",
      "[ 0  2  3  4  6  8 14 15 18 19 20 21 22 23 24 25 26 27 28 29 30 31 32 33\n",
      " 34 35 36 38 39 40 41 42 44 45 47 48 49 51 52 53]\n"
     ]
    }
   ],
   "source": [
    "missing_indicies = np.where(TS_array == -2)[0]\n",
    "Notmissing_indicies = np.where(TS_array != -2)[0]\n",
    "print(missing_indicies)\n",
    "print(Notmissing_indicies)"
   ]
  },
  {
   "cell_type": "code",
   "execution_count": 107,
   "metadata": {},
   "outputs": [],
   "source": [
    "missing_indicies = np.where(TS_array == -2)[0]\n",
    "Notmissing_indicies = np.where(TS_array != -2)[0]\n",
    "\n",
    "#\n",
    "#    Check if the first or last k values are missing\n",
    "#    if so, replace them with proper number and shorten the task\n",
    "#\n",
    "left_pointer = Notmissing_indicies[0]\n",
    "right_pointer = Notmissing_indicies[-1]\n",
    "\n",
    "if left_pointer > 0:\n",
    "    TS_array[:left_pointer] = TS_array[left_pointer]\n",
    "\n",
    "if right_pointer < (len(TS_array) - 1):\n",
    "    TS_array[right_pointer:] = TS_array[right_pointer]\n",
    "#    \n",
    "# update indexes.\n",
    "#\n",
    "missing_indicies = np.where(TS_array == -2)[0]\n",
    "Notmissing_indicies = np.where(TS_array != -2)[0]\n",
    "\n",
    "# left_pointer = Notmissing_indicies[0]\n",
    "stop = right_pointer\n",
    "right_pointer = left_pointer + 1\n"
   ]
  },
  {
   "cell_type": "code",
   "execution_count": 109,
   "metadata": {},
   "outputs": [],
   "source": [
    "missing_indicies = np.where(TS_array == -2)[0]\n",
    "\n",
    "while len(missing_indicies) > 0:\n",
    "    left_pointer = missing_indicies[0] - 1\n",
    "    left_value = TS_array[left_pointer]\n",
    "    \n",
    "    right_pointer = missing_indicies[0]\n",
    "    \n",
    "    while TS_array[right_pointer] == -2:\n",
    "        right_pointer += 1\n",
    "    \n",
    "    right_value = TS_array[right_pointer]\n",
    "    \n",
    "    if (right_pointer - left_pointer) == 2:\n",
    "        # if there is a single gap, then we have just average of the\n",
    "        # values\n",
    "        # Avoid extra computation!\n",
    "        #\n",
    "        TS_array[left_pointer + 1] = 0.5 * (TS_array[left_pointer] + TS_array[right_pointer])\n",
    "    else:\n",
    "        # form y= ax + b\n",
    "        slope = (right_value - left_value) / (x_axis[right_pointer] - x_axis[left_pointer]) # a\n",
    "        b = right_value - (slope * x_axis[right_pointer])\n",
    "        TS_array[left_pointer+1 : right_pointer] = slope * x_axis[left_pointer+1 : right_pointer] + b\n",
    "        missing_indicies = np.where(TS_array == -2)[0]\n",
    "        \n",
    "    \n",
    "a_regularized_TS[indeks] = TS_array"
   ]
  },
  {
   "cell_type": "code",
   "execution_count": 111,
   "metadata": {},
   "outputs": [],
   "source": []
  },
  {
   "cell_type": "code",
   "execution_count": null,
   "metadata": {},
   "outputs": [],
   "source": []
  },
  {
   "cell_type": "code",
   "execution_count": null,
   "metadata": {},
   "outputs": [],
   "source": []
  },
  {
   "cell_type": "code",
   "execution_count": null,
   "metadata": {},
   "outputs": [],
   "source": []
  },
  {
   "cell_type": "code",
   "execution_count": null,
   "metadata": {},
   "outputs": [],
   "source": []
  },
  {
   "cell_type": "code",
   "execution_count": null,
   "metadata": {},
   "outputs": [],
   "source": []
  },
  {
   "cell_type": "code",
   "execution_count": null,
   "metadata": {},
   "outputs": [],
   "source": []
  },
  {
   "cell_type": "code",
   "execution_count": null,
   "metadata": {},
   "outputs": [],
   "source": []
  },
  {
   "cell_type": "code",
   "execution_count": null,
   "metadata": {},
   "outputs": [],
   "source": []
  },
  {
   "cell_type": "code",
   "execution_count": null,
   "metadata": {},
   "outputs": [],
   "source": []
  },
  {
   "cell_type": "code",
   "execution_count": null,
   "metadata": {},
   "outputs": [],
   "source": []
  },
  {
   "cell_type": "code",
   "execution_count": null,
   "metadata": {},
   "outputs": [],
   "source": []
  },
  {
   "cell_type": "code",
   "execution_count": null,
   "metadata": {},
   "outputs": [],
   "source": []
  },
  {
   "cell_type": "code",
   "execution_count": null,
   "metadata": {},
   "outputs": [],
   "source": []
  },
  {
   "cell_type": "code",
   "execution_count": null,
   "metadata": {},
   "outputs": [],
   "source": []
  },
  {
   "cell_type": "code",
   "execution_count": null,
   "metadata": {},
   "outputs": [],
   "source": []
  },
  {
   "cell_type": "code",
   "execution_count": null,
   "metadata": {},
   "outputs": [],
   "source": []
  },
  {
   "cell_type": "markdown",
   "metadata": {},
   "source": [
    "# Time Series Linear Regression"
   ]
  },
  {
   "cell_type": "code",
   "execution_count": null,
   "metadata": {},
   "outputs": [],
   "source": []
  },
  {
   "cell_type": "code",
   "execution_count": null,
   "metadata": {},
   "outputs": [],
   "source": []
  }
 ],
 "metadata": {
  "kernelspec": {
   "display_name": "Python 3",
   "language": "python",
   "name": "python3"
  },
  "language_info": {
   "codemirror_mode": {
    "name": "ipython",
    "version": 3
   },
   "file_extension": ".py",
   "mimetype": "text/x-python",
   "name": "python",
   "nbconvert_exporter": "python",
   "pygments_lexer": "ipython3",
   "version": "3.7.4"
  }
 },
 "nbformat": 4,
 "nbformat_minor": 2
}
