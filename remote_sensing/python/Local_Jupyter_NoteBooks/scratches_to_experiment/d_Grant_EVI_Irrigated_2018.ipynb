{
 "cells": [
  {
   "cell_type": "code",
   "execution_count": 1,
   "metadata": {},
   "outputs": [],
   "source": [
    "import csv\n",
    "import numpy as np\n",
    "import pandas as pd\n",
    "# import geopandas as gpd\n",
    "from IPython.display import Image\n",
    "# from shapely.geometry import Point, Polygon\n",
    "from math import factorial\n",
    "import datetime\n",
    "import time\n",
    "import scipy\n",
    "import os, os.path\n",
    "\n",
    "from statsmodels.sandbox.regression.predstd import wls_prediction_std\n",
    "from sklearn.linear_model import LinearRegression\n",
    "from patsy import cr\n",
    "\n",
    "# from pprint import pprint\n",
    "import matplotlib.pyplot as plt\n",
    "import seaborn as sb\n",
    "\n",
    "\n",
    "import sys\n",
    "start_time = time.time()"
   ]
  },
  {
   "cell_type": "code",
   "execution_count": 2,
   "metadata": {},
   "outputs": [],
   "source": [
    "sys.path.append('/Users/hn/Documents/00_GitHub/Ag/remote_sensing/python/')\n",
    "sys.path.append('/home/hnoorazar/remote_sensing_codes/')\n",
    "\n",
    "import remote_sensing_core as rc\n",
    "import remote_sensing_core as rcp\n"
   ]
  },
  {
   "cell_type": "code",
   "execution_count": 3,
   "metadata": {},
   "outputs": [],
   "source": [
    "data_dir = \"/Users/hn/Documents/01_research_data/remote_sensing/\" + \\\n",
    "           \"01_NDVI_TS/04_Irrigated_eastern_Cloud70/Grant_2018_irrigated/\"\n"
   ]
  },
  {
   "cell_type": "code",
   "execution_count": 4,
   "metadata": {},
   "outputs": [
    {
     "name": "stdout",
     "output_type": "stream",
     "text": [
      "delta = 0.3.\n"
     ]
    }
   ],
   "source": [
    "####################################################################################\n",
    "###\n",
    "###      Parameters                   \n",
    "###\n",
    "####################################################################################\n",
    "freedom_df = 7\n",
    "Sav_win_size = 5\n",
    "sav_order = 2\n",
    "\n",
    "delt = 0.3\n",
    "print (\"delta = {fileShape}.\".format(fileShape=delt))"
   ]
  },
  {
   "cell_type": "code",
   "execution_count": 5,
   "metadata": {},
   "outputs": [
    {
     "name": "stdout",
     "output_type": "stream",
     "text": [
      "After filtering out non-irrigated, a_df is of dimension (1592272, 39).\n",
      "4\n",
      "NassIn_NotCorrectYears\n",
      "filter_NASS is False\n",
      "filter_lastSurDate is False\n",
      "plot_dir_base is /Users/hn/Documents/01_research_data/remote_sensing/01_NDVI_TS/04_Irrigated_eastern_Cloud70/Grant_2018_irrigated//savitzky/Grant_Irrigated_EVI_2018_NassIn_NotCorrectYears/delta0.3_Sav_win5_Order2/\n",
      "17706\n"
     ]
    }
   ],
   "source": [
    "f_name = \"Grant_2018_allFs_notCorrectYrs_70cloud.csv\"\n",
    "a_df = pd.read_csv(data_dir + f_name, low_memory=False)\n",
    "a_df = rc.filter_out_nonIrrigated(a_df)\n",
    "print (\"After filtering out non-irrigated, a_df is of dimension {fileShape}.\".format(fileShape=a_df.shape))\n",
    "\n",
    "\n",
    "filter_NASS = False\n",
    "filter_lastSurDate = False\n",
    "\n",
    "if filter_NASS == True:\n",
    "    if filter_lastSurDate == True:\n",
    "        print (\"1\")\n",
    "        last_part_name = \"NassOut_CorrectYear\"\n",
    "    elif filter_lastSurDate == False:\n",
    "        print (\"2\")\n",
    "        last_part_name = \"NassOut_NotCorrectYear\"\n",
    "\n",
    "if filter_NASS == False:\n",
    "    if filter_lastSurDate == True:\n",
    "        print (\"3\")\n",
    "        last_part_name = \"NassIn_CorrectYears\"\n",
    "    elif filter_lastSurDate == False:\n",
    "        print (\"4\")\n",
    "        last_part_name = \"NassIn_NotCorrectYears\"\n",
    "\n",
    "print(last_part_name)\n",
    "print (\"filter_NASS is \" + str(filter_NASS))\n",
    "print (\"filter_lastSurDate is \" + str(filter_lastSurDate))\n",
    "\n",
    "\n",
    "if (filter_NASS == True):\n",
    "    a_df = rc.filter_by_lastSurvey(dt_df_surv = a_df, year=2018)\n",
    "    print (\"After filtering by last survey date, a_df is of dimension {fileShape}.\".format(fileShape=a_df.shape))\n",
    "\n",
    "if (filter_lastSurDate == True):\n",
    "    a_df = rc.filter_out_NASS(dt_df_NASS = a_df)\n",
    "    print (\"After filtering out NASS, a_df is of dimension {fileShape}.\".format(fileShape=a_df.shape))\n",
    "######################\n",
    "output_dir = data_dir + \"/savitzky/Grant_Irrigated_EVI_2018_\" + last_part_name + \\\n",
    "             \"/delta\" + str(delt) + \"_Sav_win\" + str(Sav_win_size) + \"_Order\"  + str(sav_order) + \"/\"\n",
    "\n",
    "plot_dir_base = output_dir\n",
    "print (\"plot_dir_base is \" + plot_dir_base)\n",
    "\n",
    "os.makedirs(output_dir, exist_ok=True)\n",
    "os.makedirs(plot_dir_base, exist_ok=True)\n",
    "\n",
    "######################\n",
    "a_df['year'] = 2018\n",
    "\n",
    "# The following columns do not exist in the old data\n",
    "#\n",
    "if not('DataSrc' in a_df.columns):\n",
    "    print (\"Data source is being set to NA\")\n",
    "    a_df['DataSrc'] = \"NA\"\n",
    "\n",
    "if not('CovrCrp' in a_df.columns):\n",
    "    print (\"Data source is being set to NA\")\n",
    "    a_df['CovrCrp'] = \"NA\"\n",
    "\n",
    "a_df = rc.initial_clean_EVI(a_df)\n",
    "a_df.head(2)\n",
    "an_EE_TS = a_df.copy()\n",
    "\n",
    "### List of unique polygons\n",
    "polygon_list = an_EE_TS['geo'].unique()\n",
    "print(len(polygon_list))\n",
    "\n",
    "max_output_columns = ['ID', 'Acres', 'CovrCrp', 'CropGrp', 'CropTyp',\n",
    "                      'DataSrc', 'ExctAcr', 'IntlSrD', 'Irrigtn', 'LstSrvD', 'Notes',\n",
    "                      'RtCrpTy', 'Shap_Ar', 'Shp_Lng', 'TRS', 'county', 'year', 'geo',\n",
    "                      'max_Doy', 'max_value', 'max_count']\n",
    "\n",
    "all_poly_and_maxs_spline = pd.DataFrame(data=None, \n",
    "                                        index=np.arange(3*len(an_EE_TS)), \n",
    "                                        columns=max_output_columns)\n",
    "\n",
    "all_poly_and_maxs_savitzky = pd.DataFrame(data=None, \n",
    "                                          index=np.arange(3*len(an_EE_TS)), \n",
    "                                          columns=max_output_columns)\n",
    "\n",
    "\n",
    "min_output_columns = ['ID', 'Acres', 'CovrCrp', 'CropGrp', 'CropTyp',\n",
    "                      'DataSrc', 'ExctAcr', 'IntlSrD', 'Irrigtn', 'LstSrvD', 'Notes',\n",
    "                      'RtCrpTy', 'Shap_Ar', 'Shp_Lng', 'TRS', 'county', 'year', 'geo',\n",
    "                      'min_Doy', 'min_value', 'min_count']\n",
    "\n",
    "all_poly_and_mins_spline = pd.DataFrame(data=None, \n",
    "                                        index=np.arange(3*len(an_EE_TS)), \n",
    "                                        columns=min_output_columns)\n",
    "\n",
    "all_poly_and_mins_savitzky = pd.DataFrame(data=None, \n",
    "                                          index=np.arange(3*len(an_EE_TS)), \n",
    "                                          columns=min_output_columns)"
   ]
  },
  {
   "cell_type": "code",
   "execution_count": 6,
   "metadata": {},
   "outputs": [],
   "source": [
    "a_poly = polygon_list[0]"
   ]
  },
  {
   "cell_type": "code",
   "execution_count": 7,
   "metadata": {},
   "outputs": [],
   "source": [
    "curr_field = an_EE_TS[an_EE_TS['geo']==a_poly].copy()\n",
    "################################################################\n",
    "# Sort by DoY (sanitary check)\n",
    "curr_field.sort_values(by=['doy'], inplace=True)\n",
    "\n",
    "################################################################\n",
    "\n"
   ]
  },
  {
   "cell_type": "code",
   "execution_count": 8,
   "metadata": {},
   "outputs": [],
   "source": [
    "year = int(curr_field['year'].unique())\n",
    "plant = curr_field['CropTyp'].unique()[0]\n",
    "\n",
    "# Take care of names, replace \"/\" and \",\" and \" \" by \"_\"\n",
    "plant = plant.replace(\"/\", \"_\")\n",
    "plant = plant.replace(\",\", \"_\")\n",
    "plant = plant.replace(\" \", \"_\")\n",
    "plant = plant.replace(\"__\", \"_\")\n",
    "\n",
    "county = curr_field['county'].unique()[0]\n",
    "ID = curr_field['ID'].unique()[0]\n",
    "\n",
    "### \n",
    "###  There is a chance that a polygon is repeated twice?\n",
    "###\n",
    "\n",
    "X = curr_field['doy'].copy()\n",
    "y = curr_field['EVI'].copy()"
   ]
  },
  {
   "cell_type": "code",
   "execution_count": 9,
   "metadata": {},
   "outputs": [
    {
     "ename": "AttributeError",
     "evalue": "module 'remote_sensing_core' has no attribute 'savitzky_golay'",
     "output_type": "error",
     "traceback": [
      "\u001b[0;31m---------------------------------------------------------------------------\u001b[0m",
      "\u001b[0;31mAttributeError\u001b[0m                            Traceback (most recent call last)",
      "\u001b[0;32m<ipython-input-9-d544d9491d04>\u001b[0m in \u001b[0;36m<module>\u001b[0;34m\u001b[0m\n\u001b[0;32m----> 1\u001b[0;31m \u001b[0mmy_savitzky_pred\u001b[0m \u001b[0;34m=\u001b[0m \u001b[0mrc\u001b[0m\u001b[0;34m.\u001b[0m\u001b[0msavitzky_golay\u001b[0m\u001b[0;34m(\u001b[0m\u001b[0my\u001b[0m\u001b[0;34m,\u001b[0m \u001b[0mwindow_size\u001b[0m\u001b[0;34m=\u001b[0m\u001b[0mSav_win_size\u001b[0m\u001b[0;34m,\u001b[0m \u001b[0morder\u001b[0m\u001b[0;34m=\u001b[0m\u001b[0msav_order\u001b[0m\u001b[0;34m)\u001b[0m\u001b[0;34m\u001b[0m\u001b[0;34m\u001b[0m\u001b[0m\n\u001b[0m",
      "\u001b[0;31mAttributeError\u001b[0m: module 'remote_sensing_core' has no attribute 'savitzky_golay'"
     ]
    }
   ],
   "source": [
    "my_savitzky_pred = rc.savitzky_golay(y, window_size=Sav_win_size, order=sav_order)"
   ]
  },
  {
   "cell_type": "code",
   "execution_count": 11,
   "metadata": {},
   "outputs": [],
   "source": []
  },
  {
   "cell_type": "code",
   "execution_count": 12,
   "metadata": {},
   "outputs": [],
   "source": [
    "savitzky_pred = scipy.signal.savgol_filter(y, window_length = Sav_win_size, polyorder = sav_order)"
   ]
  },
  {
   "cell_type": "code",
   "execution_count": 13,
   "metadata": {},
   "outputs": [
    {
     "data": {
      "text/plain": [
       "73"
      ]
     },
     "execution_count": 13,
     "metadata": {},
     "output_type": "execute_result"
    }
   ],
   "source": [
    "len(my_savitzky_pred)"
   ]
  },
  {
   "cell_type": "code",
   "execution_count": 14,
   "metadata": {},
   "outputs": [
    {
     "data": {
      "text/plain": [
       "73"
      ]
     },
     "execution_count": 14,
     "metadata": {},
     "output_type": "execute_result"
    }
   ],
   "source": [
    "len(savitzky_pred)"
   ]
  },
  {
   "cell_type": "code",
   "execution_count": null,
   "metadata": {},
   "outputs": [],
   "source": []
  },
  {
   "cell_type": "code",
   "execution_count": null,
   "metadata": {},
   "outputs": [],
   "source": []
  },
  {
   "cell_type": "code",
   "execution_count": null,
   "metadata": {},
   "outputs": [],
   "source": []
  }
 ],
 "metadata": {
  "kernelspec": {
   "display_name": "Python 3",
   "language": "python",
   "name": "python3"
  },
  "language_info": {
   "codemirror_mode": {
    "name": "ipython",
    "version": 3
   },
   "file_extension": ".py",
   "mimetype": "text/x-python",
   "name": "python",
   "nbconvert_exporter": "python",
   "pygments_lexer": "ipython3",
   "version": "3.7.4"
  }
 },
 "nbformat": 4,
 "nbformat_minor": 2
}
