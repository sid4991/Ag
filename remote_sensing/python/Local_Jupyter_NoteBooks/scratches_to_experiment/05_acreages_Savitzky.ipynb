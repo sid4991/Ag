{
 "cells": [
  {
   "cell_type": "code",
   "execution_count": 1,
   "metadata": {},
   "outputs": [],
   "source": [
    "\"\"\"\n",
    "Compute acreage per cultivar for double peak data\n",
    "Do this for all cultivars labeled as double peaked, and then, also, filter\n",
    "the cultivars by those that are potentially double cropped. (i.e. Filter out orchard stuff.)\n",
    "And then filter those with distance between peaks greater than a threshold.\n",
    "\"\"\"\n",
    "\n",
    "import csv\n",
    "import numpy as np\n",
    "import pandas as pd\n",
    "# import geopandas as gpd\n",
    "from IPython.display import Image\n",
    "# from shapely.geometry import Point, Polygon\n",
    "from math import factorial\n",
    "import datetime\n",
    "import time\n",
    "import scipy\n",
    "import os, os.path\n",
    "\n",
    "from statsmodels.sandbox.regression.predstd import wls_prediction_std\n",
    "from sklearn.linear_model import LinearRegression\n",
    "from patsy import cr\n",
    "\n",
    "# from pprint import pprint\n",
    "import matplotlib.pyplot as plt\n",
    "import seaborn as sb\n",
    "\n",
    "\n",
    "import sys"
   ]
  },
  {
   "cell_type": "markdown",
   "metadata": {},
   "source": [
    "# Directories"
   ]
  },
  {
   "cell_type": "code",
   "execution_count": 5,
   "metadata": {},
   "outputs": [],
   "source": [
    "data_dir = \"/Users/hn/Documents/01_research_data/remote_sensing\" + \\\n",
    "           \"/02_peaks_and_plots/peaks_savitzky/\"\n",
    "\n",
    "param_dir = \"/Users/hn/Documents/00_GitHub/Ag/remote_sensing/parameters/\"\n",
    "\n",
    "sys.path.append('/Users/hn/Documents/00_GitHub/Ag/remote_sensing/python/')\n",
    "import remote_sensing_core as rc\n",
    "import remote_sensing_core as rcp"
   ]
  },
  {
   "cell_type": "markdown",
   "metadata": {},
   "source": [
    "# Read data"
   ]
  },
  {
   "cell_type": "code",
   "execution_count": 66,
   "metadata": {},
   "outputs": [],
   "source": [
    "# read parameter\n",
    "double_crop_potentials = pd.read_csv(param_dir + \"double_crop_potential_plants.csv\")\n",
    "dbl_crop_potentials = double_crop_potentials['Crop_Type'].unique()"
   ]
  },
  {
   "cell_type": "code",
   "execution_count": null,
   "metadata": {},
   "outputs": [],
   "source": []
  },
  {
   "cell_type": "code",
   "execution_count": 36,
   "metadata": {},
   "outputs": [
    {
     "name": "stdout",
     "output_type": "stream",
     "text": [
      "number of rows is: 20732\n",
      "number of rows is: 20731\n"
     ]
    }
   ],
   "source": [
    "file_name = \"all_poly_and_maxs_savitzky.csv\"\n",
    "\n",
    "all_poly_and_maxs_savitzky = pd.read_csv(data_dir + file_name)\n",
    "\n",
    "n_rows = len(all_poly_and_maxs_savitzky)\n",
    "print (\"number of rows is: \" + str(n_rows))\n",
    "\n",
    "\n",
    "# we have an extra row at the end\n",
    "# all_poly_and_maxs_savitzky.dropna(subset=['max_count'], inplace=True)\n",
    "all_poly_and_maxs_savitzky = all_poly_and_maxs_savitzky[0:(n_rows-1)]\n",
    "n_rows = len(all_poly_and_maxs_savitzky)\n",
    "print (\"number of rows is: \" + str(n_rows))"
   ]
  },
  {
   "cell_type": "code",
   "execution_count": null,
   "metadata": {},
   "outputs": [],
   "source": [
    "all_poly_and_maxs_savitzky = all_poly_and_maxs_savitzky.astype({\"year\": int, \"max_count\":int})\n",
    "\n",
    "g_vec = [\"county\", \"year\", \"CropTyp\"]"
   ]
  },
  {
   "cell_type": "markdown",
   "metadata": {},
   "source": [
    "# Acreage per cultivar\n",
    "\n",
    "This cannot be true. We did not save those with no peaks. Do this in R using shapefile."
   ]
  },
  {
   "cell_type": "raw",
   "metadata": {},
   "source": [
    "# acreage_per_cultivar_all = all_poly_and_maxs_savitzky.groupby(g_vec).ExctAcr.sum().reset_index()\n",
    "acreage_per_cultivar_all.shape"
   ]
  },
  {
   "cell_type": "code",
   "execution_count": 149,
   "metadata": {},
   "outputs": [],
   "source": [
    "triple_peaks_df = all_poly_and_maxs_savitzky[all_poly_and_maxs_savitzky.max_count.isin([3, 4])] "
   ]
  },
  {
   "cell_type": "code",
   "execution_count": 102,
   "metadata": {},
   "outputs": [
    {
     "data": {
      "text/plain": [
       "array(['Alfalfa Hay', 'Fallow', 'Timothy', 'Wheat', 'Corn, Field',\n",
       "       'Wheat Fallow', 'Alfalfa/Grass Hay', 'Pasture', 'Bean, Dry',\n",
       "       'Grass Hay', 'Mint', 'Potato', 'Unknown', 'Pea, Green',\n",
       "       'Corn, Sweet', 'Grass Seed, Other'], dtype=object)"
      ]
     },
     "execution_count": 102,
     "metadata": {},
     "output_type": "execute_result"
    }
   ],
   "source": [
    "triple_peaks_df.CropTyp.unique()"
   ]
  },
  {
   "cell_type": "markdown",
   "metadata": {},
   "source": [
    "#  Filter those with two peaks\n",
    "\n",
    "This is probably useless. So we do not save it."
   ]
  },
  {
   "cell_type": "code",
   "execution_count": 155,
   "metadata": {},
   "outputs": [
    {
     "data": {
      "text/plain": [
       "array([2])"
      ]
     },
     "execution_count": 155,
     "metadata": {},
     "output_type": "execute_result"
    }
   ],
   "source": [
    "double_peaks = all_poly_and_maxs_savitzky[all_poly_and_maxs_savitzky.max_count.isin([2])]\n",
    "acreage_per_double_peaks = double_peaks.groupby(g_vec).ExctAcr.sum().reset_index()\n",
    "\n",
    "double_peaks.max_count.unique()"
   ]
  },
  {
   "cell_type": "code",
   "execution_count": null,
   "metadata": {},
   "outputs": [],
   "source": []
  },
  {
   "cell_type": "markdown",
   "metadata": {},
   "source": [
    "# Filter potential crops"
   ]
  },
  {
   "cell_type": "code",
   "execution_count": 157,
   "metadata": {},
   "outputs": [
    {
     "name": "stdout",
     "output_type": "stream",
     "text": [
      "There are [108] crops that have potential of being double cropped.\n",
      "There are [42] crops in current (county, year) that have potential of being double cropped.\n"
     ]
    }
   ],
   "source": [
    "double_crop_poten_df = all_poly_and_maxs_savitzky[all_poly_and_maxs_savitzky.CropTyp.isin(dbl_crop_potentials)]\n",
    "\n",
    "A = len(double_crop_poten_df.CropTyp.unique())\n",
    "print (\"There are [{}] crops that have potential of being double cropped.\".format(len(dbl_crop_potentials)))\n",
    "print (\"There are [{}] crops in current (county, year) that have potential of being double cropped.\".format(A))\n",
    "\n",
    "# acerage per cultivar that has potential of bein double cropped.\n",
    "acr_per_potential_cults = double_crop_poten_df.groupby(g_vec).ExctAcr.sum().reset_index()"
   ]
  },
  {
   "cell_type": "code",
   "execution_count": 153,
   "metadata": {},
   "outputs": [
    {
     "data": {
      "text/plain": [
       "array([1, 2, 3])"
      ]
     },
     "execution_count": 153,
     "metadata": {},
     "output_type": "execute_result"
    }
   ],
   "source": [
    "double_crop_poten_df.max_count.unique()"
   ]
  },
  {
   "cell_type": "markdown",
   "metadata": {},
   "source": [
    "# Filter double peaked out of double potentials"
   ]
  },
  {
   "cell_type": "code",
   "execution_count": 158,
   "metadata": {},
   "outputs": [],
   "source": [
    "dbl_peaks_dbl_poten = double_crop_poten_df[double_crop_poten_df.max_count.isin([2])]\n",
    "acr_per_dbl_peaks_doubl_poten = dbl_peaks_dbl_poten.groupby(g_vec).ExctAcr.sum().reset_index()"
   ]
  },
  {
   "cell_type": "code",
   "execution_count": 159,
   "metadata": {},
   "outputs": [
    {
     "data": {
      "text/plain": [
       "array([2])"
      ]
     },
     "execution_count": 159,
     "metadata": {},
     "output_type": "execute_result"
    }
   ],
   "source": [
    "dbl_peaks_dbl_poten.max_count.unique()"
   ]
  },
  {
   "cell_type": "code",
   "execution_count": null,
   "metadata": {},
   "outputs": [],
   "source": []
  },
  {
   "cell_type": "markdown",
   "metadata": {},
   "source": [
    "# save the tables"
   ]
  },
  {
   "cell_type": "code",
   "execution_count": 84,
   "metadata": {},
   "outputs": [],
   "source": [
    "out_dir = data_dir + \"/acreage_tables/\"\n",
    "os.makedirs(out_dir, exist_ok=True)"
   ]
  },
  {
   "cell_type": "code",
   "execution_count": 86,
   "metadata": {},
   "outputs": [],
   "source": [
    "path_name = out_dir + \"acr_per_dbl_peaks_doubl_poten.csv\"\n",
    "acr_per_dbl_peaks_doubl_poten.to_csv(path_name, index = False)"
   ]
  },
  {
   "cell_type": "code",
   "execution_count": 89,
   "metadata": {},
   "outputs": [],
   "source": [
    "path_name = out_dir + \"acr_per_potential_cults.csv\"\n",
    "acr_per_potential_cults.to_csv(path_name, index = False)"
   ]
  },
  {
   "cell_type": "code",
   "execution_count": null,
   "metadata": {},
   "outputs": [],
   "source": []
  },
  {
   "cell_type": "markdown",
   "metadata": {},
   "source": [
    "# Filter further by the distance between peaks"
   ]
  },
  {
   "cell_type": "markdown",
   "metadata": {},
   "source": [
    "### Double peaks and double potentials|"
   ]
  },
  {
   "cell_type": "code",
   "execution_count": 239,
   "metadata": {},
   "outputs": [],
   "source": [
    "min_diff = 60\n",
    "dbl_peak_poly_list = dbl_peaks_dbl_poten['geo'].unique()\n",
    "\n",
    "dbl_potent_dbl_peak_good_dist = pd.DataFrame(data = None, \n",
    "                                             index = np.arange(len(dbl_peaks_dbl_poten)), \n",
    "                                             columns = dbl_peaks_dbl_poten.columns)\n",
    "pointer = 0"
   ]
  },
  {
   "cell_type": "code",
   "execution_count": 240,
   "metadata": {
    "scrolled": false
   },
   "outputs": [],
   "source": [
    "for a_poly in dbl_peak_poly_list:\n",
    "    curr_df = dbl_peaks_dbl_poten[dbl_peaks_dbl_poten['geo']==a_poly]\n",
    "    \n",
    "    # Sanity check. Sort the dataframe according to max_DoY\n",
    "    curr_df = curr_df.sort_values([\"max_Doy\"], ascending = (True))\n",
    "    # print (len(curr_ldf))\n",
    "    \n",
    "    # compute difference between DoY of peaks\n",
    "    # diffs = curr_df.max_Doy[1:len(curr_df)].values - curr_df.max_Doy[0:len(curr_df)-1].values\n",
    "    diff = max(curr_df.max_Doy) - min(curr_df.max_Doy)\n",
    "    \n",
    "    # check if there is any difference greater than min_diff\n",
    "    # if (sum(diffs > min_diff)) > 0:\n",
    "    if (diff > min_diff):\n",
    "        dbl_potent_dbl_peak_good_dist.iloc[pointer:(pointer + len(curr_df))] = curr_df.values\n",
    "        pointer += len(curr_df)\n",
    "\n",
    "        \n",
    "dbl_potent_dbl_peak_good_dist = dbl_potent_dbl_peak_good_dist[0:pointer]"
   ]
  },
  {
   "cell_type": "code",
   "execution_count": 246,
   "metadata": {},
   "outputs": [],
   "source": []
  },
  {
   "cell_type": "code",
   "execution_count": 248,
   "metadata": {},
   "outputs": [],
   "source": [
    "path_name = out_dir + \"acr_per_potential_dbl_peaked_\" + str(min_diff) +\"_apart.csv\"\n",
    "dbl_potent_dbl_peak_good_dist.to_csv(path_name, index = False)"
   ]
  },
  {
   "cell_type": "code",
   "execution_count": 249,
   "metadata": {},
   "outputs": [
    {
     "data": {
      "text/plain": [
       "'/Users/hn/Documents/01_research_data/remote_sensing/02_peaks_and_plots/peaks_savitzky//acreage_tables/'"
      ]
     },
     "execution_count": 249,
     "metadata": {},
     "output_type": "execute_result"
    }
   ],
   "source": [
    "out_dir"
   ]
  },
  {
   "cell_type": "code",
   "execution_count": null,
   "metadata": {},
   "outputs": [],
   "source": []
  }
 ],
 "metadata": {
  "kernelspec": {
   "display_name": "Python 3",
   "language": "python",
   "name": "python3"
  },
  "language_info": {
   "codemirror_mode": {
    "name": "ipython",
    "version": 3
   },
   "file_extension": ".py",
   "mimetype": "text/x-python",
   "name": "python",
   "nbconvert_exporter": "python",
   "pygments_lexer": "ipython3",
   "version": "3.7.4"
  }
 },
 "nbformat": 4,
 "nbformat_minor": 2
}
