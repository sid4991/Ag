{
 "cells": [
  {
   "cell_type": "code",
   "execution_count": 1,
   "metadata": {},
   "outputs": [],
   "source": [
    "import csv\n",
    "import numpy as np\n",
    "import pandas as pd\n",
    "# import geopandas as gpd\n",
    "from IPython.display import Image\n",
    "# from shapely.geometry import Point, Polygon\n",
    "from math import factorial\n",
    "import datetime\n",
    "import time\n",
    "import scipy\n",
    "import os, os.path\n",
    "\n",
    "from statsmodels.sandbox.regression.predstd import wls_prediction_std\n",
    "from sklearn.linear_model import LinearRegression\n",
    "from patsy import cr\n",
    "\n",
    "# from pprint import pprint\n",
    "import matplotlib.pyplot as plt\n",
    "import seaborn as sb\n",
    "\n",
    "\n",
    "import sys\n",
    "start_time = time.time()"
   ]
  },
  {
   "cell_type": "code",
   "execution_count": 2,
   "metadata": {},
   "outputs": [],
   "source": [
    "sys.path.append('/Users/hn/Documents/00_GitHub/Ag/remote_sensing/python/')\n",
    "sys.path.append('/home/hnoorazar/remote_sensing_codes/')\n",
    "\n",
    "import remote_sensing_core as rc\n",
    "import remote_sensing_core as rcp\n"
   ]
  },
  {
   "cell_type": "code",
   "execution_count": 29,
   "metadata": {},
   "outputs": [],
   "source": [
    "data_base = \"/Users/hn/Documents/01_research_data/remote_sensing/01_NDVI_TS/\" + \\\n",
    "            \"04_Irrigated_eastern_Cloud70/Grant_2018_irrigated/\" + \\\n",
    "            \"Grant_Irrigated_EVI_2018_NassIn_NotCorrectYears/\" + \\\n",
    "            \"Grant_Irrigated_EVI_2018_NassIn_NotCorrectYears/\"\n",
    "\n",
    "param_dir = \"/Users/hn/Documents/00_GitHub/Ag/remote_sensing/parameters/\"\n",
    "\n",
    "double_crop_potens = pd.read_csv(param_dir + \"double_crop_potential_plants.csv\")"
   ]
  },
  {
   "cell_type": "code",
   "execution_count": 7,
   "metadata": {},
   "outputs": [],
   "source": [
    "# Sav_win_size, sav_order, delt\n",
    "parameters = [(3, 1, 0.1), (3, 1, 0.2), (3, 1, 0.3), (3, 1, 0.4),\n",
    "              (5, 1, 0.1), (5, 1, 0.2), (5, 1, 0.3), (5, 1, 0.4),\n",
    "              (7, 1, 0.1), (7, 1, 0.2), (7, 1, 0.3), (7, 1, 0.4),\n",
    "              (9, 1, 0.1), (9, 1, 0.2), (9, 1, 0.3), (9, 1, 0.4),\n",
    "\n",
    "              (3, 2, 0.1), (3, 2, 0.2), (3, 2, 0.3), (3, 2, 0.4),\n",
    "              (5, 2, 0.1), (5, 2, 0.2), (5, 2, 0.3), (5, 2, 0.4),\n",
    "              (7, 2, 0.1), (7, 2, 0.2), (7, 2, 0.3), (7, 2, 0.4),\n",
    "              (9, 2, 0.1), (9, 2, 0.2), (9, 2, 0.3), (9, 2, 0.4),\n",
    "\n",
    "              # (3, 3, 0.1), (3, 3, 0.2), (3, 3, 0.3), (3, 3, 0.4),\n",
    "              (5, 3, 0.1), (5, 3, 0.2), (5, 3, 0.3), (5, 3, 0.4),\n",
    "              (7, 3, 0.1), (7, 3, 0.2), (7, 3, 0.3), (7, 3, 0.4),\n",
    "              (9, 3, 0.1), (9, 3, 0.2), (9, 3, 0.3), (9, 3, 0.4)]\n"
   ]
  },
  {
   "cell_type": "code",
   "execution_count": 26,
   "metadata": {},
   "outputs": [],
   "source": [
    "# form a data table for output.\n",
    "output_columns = ['params',\n",
    "                  'NassIn_AllFields_AllYears', 'Nassout_AllFields_AllYears',\n",
    "                  'NassIn_AllFields_CorrectYear', 'Nassout_AllFields_CorrectYear',\n",
    "                      \n",
    "                  'NassIn_DoublePoten_AllYears', 'Nassout_DoublePoten_AllYears',\n",
    "                  'NassIn_DoublePoten_CorrectYear', 'Nassout_DoublePoten_CorrectYear',\n",
    "                     ]\n",
    "\n",
    "output_df = pd.DataFrame(data=None,\n",
    "                         index=np.arange(len(parameters)), \n",
    "                         columns = output_columns)\n",
    "output_df['params'] = parameters"
   ]
  },
  {
   "cell_type": "code",
   "execution_count": 28,
   "metadata": {},
   "outputs": [
    {
     "data": {
      "text/html": [
       "<div>\n",
       "<style scoped>\n",
       "    .dataframe tbody tr th:only-of-type {\n",
       "        vertical-align: middle;\n",
       "    }\n",
       "\n",
       "    .dataframe tbody tr th {\n",
       "        vertical-align: top;\n",
       "    }\n",
       "\n",
       "    .dataframe thead th {\n",
       "        text-align: right;\n",
       "    }\n",
       "</style>\n",
       "<table border=\"1\" class=\"dataframe\">\n",
       "  <thead>\n",
       "    <tr style=\"text-align: right;\">\n",
       "      <th></th>\n",
       "      <th>params</th>\n",
       "      <th>NassIn_AllFields_AllYears</th>\n",
       "      <th>Nassout_AllFields_AllYears</th>\n",
       "      <th>NassIn_AllFields_CorrectYear</th>\n",
       "      <th>Nassout_AllFields_CorrectYear</th>\n",
       "      <th>NassIn_DoublePoten_AllYears</th>\n",
       "      <th>Nassout_DoublePoten_AllYears</th>\n",
       "      <th>NassIn_DoublePoten_CorrectYear</th>\n",
       "      <th>Nassout_DoublePoten_CorrectYear</th>\n",
       "    </tr>\n",
       "  </thead>\n",
       "  <tbody>\n",
       "    <tr>\n",
       "      <td>0</td>\n",
       "      <td>(3, 1, 0.1)</td>\n",
       "      <td>NaN</td>\n",
       "      <td>NaN</td>\n",
       "      <td>NaN</td>\n",
       "      <td>NaN</td>\n",
       "      <td>NaN</td>\n",
       "      <td>NaN</td>\n",
       "      <td>NaN</td>\n",
       "      <td>NaN</td>\n",
       "    </tr>\n",
       "  </tbody>\n",
       "</table>\n",
       "</div>"
      ],
      "text/plain": [
       "        params NassIn_AllFields_AllYears Nassout_AllFields_AllYears  \\\n",
       "0  (3, 1, 0.1)                       NaN                        NaN   \n",
       "\n",
       "  NassIn_AllFields_CorrectYear Nassout_AllFields_CorrectYear  \\\n",
       "0                          NaN                           NaN   \n",
       "\n",
       "  NassIn_DoublePoten_AllYears Nassout_DoublePoten_AllYears  \\\n",
       "0                         NaN                          NaN   \n",
       "\n",
       "  NassIn_DoublePoten_CorrectYear Nassout_DoublePoten_CorrectYear  \n",
       "0                            NaN                             NaN  "
      ]
     },
     "execution_count": 28,
     "metadata": {},
     "output_type": "execute_result"
    }
   ],
   "source": [
    "output_df.head(1)"
   ]
  },
  {
   "cell_type": "code",
   "execution_count": null,
   "metadata": {},
   "outputs": [],
   "source": [
    "for param in parameters:\n",
    "    Sav_win_size = param[0]\n",
    "    sav_order = param[1]\n",
    "    delt = param[2]\n",
    "    \n",
    "    data_dir = data_base + \"delta\" + str(delt) + \"_Sav_win\" + str(Sav_win_size) + \"_Order\" + str(sav_order) + \"/\"\n",
    "    curr_table = pd.read_csv(data_dir + \"all_poly_and_maxs_savitzky.csv\", low_memory=False)\n",
    "    curr_table_double_poten = curr_table[curr_table.CropTyp.isin(double_crop_potens['Crop_Type'])]\n",
    "    \n",
    "    NassIn_AllFields_AllYears = \n",
    "    Nassout_AllFields_AllYears = \n",
    "    NassIn_AllFields_CorrectYear = \n",
    "    Nassout_AllFields_CorrectYear = \n",
    "    NassIn_DoublePoten_AllYears = \n",
    "    Nassout_DoublePoten_AllYears = \n",
    "    NassIn_DoublePoten_CorrectYear = \n",
    "    Nassout_DoublePoten_CorrectYear = \n",
    "    "
   ]
  },
  {
   "cell_type": "code",
   "execution_count": 31,
   "metadata": {},
   "outputs": [],
   "source": [
    "param = parameters[0]\n",
    "Sav_win_size = param[0]\n",
    "sav_order = param[1]\n",
    "delt = param[2]\n",
    "\n",
    "data_dir = data_base + \"delta\" + str(delt) + \"_Sav_win\" + str(Sav_win_size) + \"_Order\" + str(sav_order) + \"/\"\n",
    "curr_table = pd.read_csv(data_dir + \"all_poly_and_maxs_savitzky.csv\", low_memory=False)\n",
    "curr_table_double_poten = curr_table[curr_table.CropTyp.isin(double_crop_potens['Crop_Type'])]"
   ]
  },
  {
   "cell_type": "code",
   "execution_count": 33,
   "metadata": {},
   "outputs": [
    {
     "data": {
      "text/plain": [
       "(10636, 20)"
      ]
     },
     "execution_count": 33,
     "metadata": {},
     "output_type": "execute_result"
    }
   ],
   "source": [
    "curr_table_double_poten.shape"
   ]
  },
  {
   "cell_type": "code",
   "execution_count": 34,
   "metadata": {},
   "outputs": [
    {
     "data": {
      "text/plain": [
       "(40492, 20)"
      ]
     },
     "execution_count": 34,
     "metadata": {},
     "output_type": "execute_result"
    }
   ],
   "source": [
    "curr_table.shape"
   ]
  },
  {
   "cell_type": "code",
   "execution_count": 36,
   "metadata": {},
   "outputs": [
    {
     "data": {
      "text/plain": [
       "Acres         True\n",
       "CovrCrp      False\n",
       "CropGrp       True\n",
       "CropTyp       True\n",
       "DataSrc       True\n",
       "ExctAcr       True\n",
       "IntlSrD       True\n",
       "Irrigtn       True\n",
       "LstSrvD       True\n",
       "Notes        False\n",
       "RtCrpTy       True\n",
       "Shap_Ar       True\n",
       "Shp_Lng       True\n",
       "TRS           True\n",
       "county        True\n",
       "year          True\n",
       "geo           True\n",
       "max_Doy       True\n",
       "max_value     True\n",
       "max_count     True\n",
       "Name: 0, dtype: bool"
      ]
     },
     "execution_count": 36,
     "metadata": {},
     "output_type": "execute_result"
    }
   ],
   "source": [
    "curr_table.iloc[0] == curr_table_double_poten.iloc[0]"
   ]
  },
  {
   "cell_type": "code",
   "execution_count": null,
   "metadata": {},
   "outputs": [],
   "source": []
  }
 ],
 "metadata": {
  "kernelspec": {
   "display_name": "Python 3",
   "language": "python",
   "name": "python3"
  },
  "language_info": {
   "codemirror_mode": {
    "name": "ipython",
    "version": 3
   },
   "file_extension": ".py",
   "mimetype": "text/x-python",
   "name": "python",
   "nbconvert_exporter": "python",
   "pygments_lexer": "ipython3",
   "version": "3.7.4"
  }
 },
 "nbformat": 4,
 "nbformat_minor": 2
}
