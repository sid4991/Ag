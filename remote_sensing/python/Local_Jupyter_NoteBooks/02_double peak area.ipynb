{
 "cells": [
  {
   "cell_type": "markdown",
   "metadata": {},
   "source": [
    "# Double peak area\n",
    "read the csv file of double peaked fields, and compute their area"
   ]
  },
  {
   "cell_type": "code",
   "execution_count": 59,
   "metadata": {},
   "outputs": [],
   "source": [
    "import numpy as np\n",
    "import pandas as pd\n",
    "import geopandas as gpd\n",
    "import sys\n",
    "from IPython.display import Image\n",
    "from shapely.geometry import Point, Polygon\n",
    "from math import factorial\n",
    "import datetime\n",
    "import time\n",
    "import scipy\n",
    "\n",
    "import os, os.path\n",
    "\n",
    "from statsmodels.sandbox.regression.predstd import wls_prediction_std\n",
    "from sklearn.linear_model import LinearRegression\n",
    "from patsy import cr\n",
    "\n",
    "from pprint import pprint\n",
    "import matplotlib.pyplot as plt\n",
    "import seaborn as sb"
   ]
  },
  {
   "cell_type": "code",
   "execution_count": 3,
   "metadata": {},
   "outputs": [],
   "source": [
    "data_dir_base = \"/Users/hn/Documents/01_research_data/remote_sensing/02_peaks_and_plots/\"\n",
    "param_dir = \"/Users/hn/Documents/00_GitHub/Ag/remote_sensing/parameters/\""
   ]
  },
  {
   "cell_type": "markdown",
   "metadata": {},
   "source": [
    "# Define Parameters"
   ]
  },
  {
   "cell_type": "code",
   "execution_count": 37,
   "metadata": {},
   "outputs": [
    {
     "data": {
      "text/html": [
       "<div>\n",
       "<style scoped>\n",
       "    .dataframe tbody tr th:only-of-type {\n",
       "        vertical-align: middle;\n",
       "    }\n",
       "\n",
       "    .dataframe tbody tr th {\n",
       "        vertical-align: top;\n",
       "    }\n",
       "\n",
       "    .dataframe thead th {\n",
       "        text-align: right;\n",
       "    }\n",
       "</style>\n",
       "<table border=\"1\" class=\"dataframe\">\n",
       "  <thead>\n",
       "    <tr style=\"text-align: right;\">\n",
       "      <th></th>\n",
       "      <th>Crop_Type</th>\n",
       "      <th>Category</th>\n",
       "    </tr>\n",
       "  </thead>\n",
       "  <tbody>\n",
       "    <tr>\n",
       "      <td>0</td>\n",
       "      <td>Artichoke</td>\n",
       "      <td>Annual</td>\n",
       "    </tr>\n",
       "    <tr>\n",
       "      <td>1</td>\n",
       "      <td>Barley</td>\n",
       "      <td>Annual</td>\n",
       "    </tr>\n",
       "  </tbody>\n",
       "</table>\n",
       "</div>"
      ],
      "text/plain": [
       "   Crop_Type Category\n",
       "0  Artichoke   Annual\n",
       "1     Barley   Annual"
      ]
     },
     "execution_count": 37,
     "metadata": {},
     "output_type": "execute_result"
    }
   ],
   "source": [
    "double_crop_potential_plants = pd.read_csv(param_dir + \"double_crop_potential_plants.csv\")\n",
    "double_crop_potential_plants.head(2)"
   ]
  },
  {
   "cell_type": "code",
   "execution_count": 6,
   "metadata": {},
   "outputs": [],
   "source": [
    "county = \"Grant\"\n",
    "year = 2016"
   ]
  },
  {
   "cell_type": "code",
   "execution_count": 65,
   "metadata": {},
   "outputs": [],
   "source": [
    "#\n",
    "#  function parameters\n",
    "#\n",
    "look_ahead = 8\n",
    "freedom_dg = 9\n",
    "data_dir = data_dir_base + county + \"_\" + str(year) + \"/\""
   ]
  },
  {
   "cell_type": "markdown",
   "metadata": {},
   "source": [
    "# Read data"
   ]
  },
  {
   "cell_type": "code",
   "execution_count": 66,
   "metadata": {},
   "outputs": [
    {
     "data": {
      "text/html": [
       "<div>\n",
       "<style scoped>\n",
       "    .dataframe tbody tr th:only-of-type {\n",
       "        vertical-align: middle;\n",
       "    }\n",
       "\n",
       "    .dataframe tbody tr th {\n",
       "        vertical-align: top;\n",
       "    }\n",
       "\n",
       "    .dataframe thead th {\n",
       "        text-align: right;\n",
       "    }\n",
       "</style>\n",
       "<table border=\"1\" class=\"dataframe\">\n",
       "  <thead>\n",
       "    <tr style=\"text-align: right;\">\n",
       "      <th></th>\n",
       "      <th>Acres</th>\n",
       "      <th>CovrCrp</th>\n",
       "      <th>CropGrp</th>\n",
       "      <th>CropTyp</th>\n",
       "      <th>DataSrc</th>\n",
       "      <th>ExctAcr</th>\n",
       "      <th>IntlSrD</th>\n",
       "      <th>Irrigtn</th>\n",
       "      <th>LstSrvD</th>\n",
       "      <th>Notes</th>\n",
       "      <th>RtCrpTy</th>\n",
       "      <th>Shap_Ar</th>\n",
       "      <th>Shp_Lng</th>\n",
       "      <th>TRS</th>\n",
       "      <th>county</th>\n",
       "      <th>year</th>\n",
       "      <th>geo</th>\n",
       "    </tr>\n",
       "  </thead>\n",
       "  <tbody>\n",
       "    <tr>\n",
       "      <td>8</td>\n",
       "      <td>88.0</td>\n",
       "      <td>NaN</td>\n",
       "      <td>Hay/Silage</td>\n",
       "      <td>Alfalfa Hay</td>\n",
       "      <td>NaN</td>\n",
       "      <td>88.395109</td>\n",
       "      <td>2003/07/01 00:00:00</td>\n",
       "      <td>Center Pivot</td>\n",
       "      <td>2016/12/31 00:00:00</td>\n",
       "      <td>NaN</td>\n",
       "      <td>Corn, Field</td>\n",
       "      <td>357722.315126</td>\n",
       "      <td>2289.389918</td>\n",
       "      <td>T19R29E29</td>\n",
       "      <td>Grant</td>\n",
       "      <td>2016.0</td>\n",
       "      <td>{\"type\":\"Polygon\",\"coordinates\":[[[-119.205228...</td>\n",
       "    </tr>\n",
       "    <tr>\n",
       "      <td>9</td>\n",
       "      <td>NaN</td>\n",
       "      <td>NaN</td>\n",
       "      <td>NaN</td>\n",
       "      <td>NaN</td>\n",
       "      <td>NaN</td>\n",
       "      <td>NaN</td>\n",
       "      <td>NaN</td>\n",
       "      <td>NaN</td>\n",
       "      <td>NaN</td>\n",
       "      <td>NaN</td>\n",
       "      <td>NaN</td>\n",
       "      <td>NaN</td>\n",
       "      <td>NaN</td>\n",
       "      <td>NaN</td>\n",
       "      <td>NaN</td>\n",
       "      <td>NaN</td>\n",
       "      <td>NaN</td>\n",
       "    </tr>\n",
       "  </tbody>\n",
       "</table>\n",
       "</div>"
      ],
      "text/plain": [
       "   Acres  CovrCrp     CropGrp      CropTyp  DataSrc    ExctAcr  \\\n",
       "8   88.0      NaN  Hay/Silage  Alfalfa Hay      NaN  88.395109   \n",
       "9    NaN      NaN         NaN          NaN      NaN        NaN   \n",
       "\n",
       "               IntlSrD       Irrigtn              LstSrvD Notes      RtCrpTy  \\\n",
       "8  2003/07/01 00:00:00  Center Pivot  2016/12/31 00:00:00   NaN  Corn, Field   \n",
       "9                  NaN           NaN                  NaN   NaN          NaN   \n",
       "\n",
       "         Shap_Ar      Shp_Lng        TRS county    year  \\\n",
       "8  357722.315126  2289.389918  T19R29E29  Grant  2016.0   \n",
       "9            NaN          NaN        NaN    NaN     NaN   \n",
       "\n",
       "                                                 geo  \n",
       "8  {\"type\":\"Polygon\",\"coordinates\":[[[-119.205228...  \n",
       "9                                                NaN  "
      ]
     },
     "execution_count": 66,
     "metadata": {},
     "output_type": "execute_result"
    }
   ],
   "source": [
    "double_dt = pd.read_csv(data_dir + \"LA_\" + str(look_ahead) + \"_df_\" + str(freedom_dg) + \"_double_polygons.csv\")\n",
    "double_dt.tail(2)"
   ]
  },
  {
   "cell_type": "code",
   "execution_count": 32,
   "metadata": {},
   "outputs": [
    {
     "data": {
      "text/html": [
       "<div>\n",
       "<style scoped>\n",
       "    .dataframe tbody tr th:only-of-type {\n",
       "        vertical-align: middle;\n",
       "    }\n",
       "\n",
       "    .dataframe tbody tr th {\n",
       "        vertical-align: top;\n",
       "    }\n",
       "\n",
       "    .dataframe thead th {\n",
       "        text-align: right;\n",
       "    }\n",
       "</style>\n",
       "<table border=\"1\" class=\"dataframe\">\n",
       "  <thead>\n",
       "    <tr style=\"text-align: right;\">\n",
       "      <th></th>\n",
       "      <th>Acres</th>\n",
       "      <th>CovrCrp</th>\n",
       "      <th>CropGrp</th>\n",
       "      <th>CropTyp</th>\n",
       "      <th>DataSrc</th>\n",
       "      <th>ExctAcr</th>\n",
       "      <th>IntlSrD</th>\n",
       "      <th>Irrigtn</th>\n",
       "      <th>LstSrvD</th>\n",
       "      <th>Notes</th>\n",
       "      <th>RtCrpTy</th>\n",
       "      <th>Shap_Ar</th>\n",
       "      <th>Shp_Lng</th>\n",
       "      <th>TRS</th>\n",
       "      <th>county</th>\n",
       "      <th>year</th>\n",
       "      <th>geo</th>\n",
       "    </tr>\n",
       "  </thead>\n",
       "  <tbody>\n",
       "    <tr>\n",
       "      <td>7</td>\n",
       "      <td>59.0</td>\n",
       "      <td>NaN</td>\n",
       "      <td>Other</td>\n",
       "      <td>Unknown</td>\n",
       "      <td>NaN</td>\n",
       "      <td>58.999775</td>\n",
       "      <td>2003/07/01 00:00:00</td>\n",
       "      <td>Center Pivot</td>\n",
       "      <td>2016/12/31 00:00:00</td>\n",
       "      <td>NaN</td>\n",
       "      <td>Corn, Field</td>\n",
       "      <td>238763.617994</td>\n",
       "      <td>2114.872186</td>\n",
       "      <td>T17R29E35</td>\n",
       "      <td>Grant</td>\n",
       "      <td>2016</td>\n",
       "      <td>{\"type\":\"Polygon\",\"coordinates\":[[[-119.141463...</td>\n",
       "    </tr>\n",
       "    <tr>\n",
       "      <td>8</td>\n",
       "      <td>88.0</td>\n",
       "      <td>NaN</td>\n",
       "      <td>Hay/Silage</td>\n",
       "      <td>Alfalfa Hay</td>\n",
       "      <td>NaN</td>\n",
       "      <td>88.395109</td>\n",
       "      <td>2003/07/01 00:00:00</td>\n",
       "      <td>Center Pivot</td>\n",
       "      <td>2016/12/31 00:00:00</td>\n",
       "      <td>NaN</td>\n",
       "      <td>Corn, Field</td>\n",
       "      <td>357722.315126</td>\n",
       "      <td>2289.389918</td>\n",
       "      <td>T19R29E29</td>\n",
       "      <td>Grant</td>\n",
       "      <td>2016</td>\n",
       "      <td>{\"type\":\"Polygon\",\"coordinates\":[[[-119.205228...</td>\n",
       "    </tr>\n",
       "  </tbody>\n",
       "</table>\n",
       "</div>"
      ],
      "text/plain": [
       "   Acres  CovrCrp     CropGrp      CropTyp  DataSrc    ExctAcr  \\\n",
       "7   59.0      NaN       Other      Unknown      NaN  58.999775   \n",
       "8   88.0      NaN  Hay/Silage  Alfalfa Hay      NaN  88.395109   \n",
       "\n",
       "               IntlSrD       Irrigtn              LstSrvD Notes      RtCrpTy  \\\n",
       "7  2003/07/01 00:00:00  Center Pivot  2016/12/31 00:00:00   NaN  Corn, Field   \n",
       "8  2003/07/01 00:00:00  Center Pivot  2016/12/31 00:00:00   NaN  Corn, Field   \n",
       "\n",
       "         Shap_Ar      Shp_Lng        TRS county  year  \\\n",
       "7  238763.617994  2114.872186  T17R29E35  Grant  2016   \n",
       "8  357722.315126  2289.389918  T19R29E29  Grant  2016   \n",
       "\n",
       "                                                 geo  \n",
       "7  {\"type\":\"Polygon\",\"coordinates\":[[[-119.141463...  \n",
       "8  {\"type\":\"Polygon\",\"coordinates\":[[[-119.205228...  "
      ]
     },
     "execution_count": 32,
     "metadata": {},
     "output_type": "execute_result"
    }
   ],
   "source": [
    "last_row_id = double_dt.shape[0] - 1\n",
    "double_dt = double_dt.drop([last_row_id], axis=0)\n",
    "double_dt = double_dt.astype({\"year\": int})\n",
    "double_dt.tail(2)"
   ]
  },
  {
   "cell_type": "markdown",
   "metadata": {},
   "source": [
    "# Compute acreage of each double peaked cultivar"
   ]
  },
  {
   "cell_type": "code",
   "execution_count": 36,
   "metadata": {},
   "outputs": [],
   "source": [
    "acreage_per_cultivar_all = double_dt.groupby([\"county\", \"year\", \"CropTyp\"]).ExctAcr.sum().reset_index()"
   ]
  },
  {
   "cell_type": "markdown",
   "metadata": {},
   "source": [
    "# Filter the double-peaked cultivars \n",
    "by those that actually might be double-cropped. In other words, toss orchards and those that cannot be doubled-cropped"
   ]
  },
  {
   "cell_type": "code",
   "execution_count": 53,
   "metadata": {},
   "outputs": [],
   "source": [
    "double_crop_poten = double_dt[double_dt.CropTyp.isin(double_crop_potential_plants['Crop_Type'])]"
   ]
  },
  {
   "cell_type": "markdown",
   "metadata": {},
   "source": [
    "# Compute acreage of potential double-cropped from double-peaked \n",
    "This is a subset of above table already"
   ]
  },
  {
   "cell_type": "code",
   "execution_count": 57,
   "metadata": {},
   "outputs": [
    {
     "data": {
      "text/html": [
       "<div>\n",
       "<style scoped>\n",
       "    .dataframe tbody tr th:only-of-type {\n",
       "        vertical-align: middle;\n",
       "    }\n",
       "\n",
       "    .dataframe tbody tr th {\n",
       "        vertical-align: top;\n",
       "    }\n",
       "\n",
       "    .dataframe thead th {\n",
       "        text-align: right;\n",
       "    }\n",
       "</style>\n",
       "<table border=\"1\" class=\"dataframe\">\n",
       "  <thead>\n",
       "    <tr style=\"text-align: right;\">\n",
       "      <th></th>\n",
       "      <th>county</th>\n",
       "      <th>year</th>\n",
       "      <th>CropTyp</th>\n",
       "      <th>ExctAcr</th>\n",
       "    </tr>\n",
       "  </thead>\n",
       "  <tbody>\n",
       "    <tr>\n",
       "      <td>0</td>\n",
       "      <td>Grant</td>\n",
       "      <td>2016</td>\n",
       "      <td>Pea, Green</td>\n",
       "      <td>87.664966</td>\n",
       "    </tr>\n",
       "  </tbody>\n",
       "</table>\n",
       "</div>"
      ],
      "text/plain": [
       "  county  year     CropTyp    ExctAcr\n",
       "0  Grant  2016  Pea, Green  87.664966"
      ]
     },
     "execution_count": 57,
     "metadata": {},
     "output_type": "execute_result"
    }
   ],
   "source": [
    "acr_per_potential_doubles = double_crop_poten.groupby([\"county\", \"year\", \"CropTyp\"]).ExctAcr.sum().reset_index()\n",
    "acr_per_potential_doubles.head(2)"
   ]
  },
  {
   "cell_type": "markdown",
   "metadata": {},
   "source": [
    "# Save the data"
   ]
  },
  {
   "cell_type": "code",
   "execution_count": 60,
   "metadata": {},
   "outputs": [],
   "source": [
    "# Saving path\n",
    "out_dir = data_dir + \"/acreage_tables/\"\n",
    "os.makedirs(out_dir, exist_ok=True)"
   ]
  },
  {
   "cell_type": "code",
   "execution_count": 63,
   "metadata": {},
   "outputs": [],
   "source": [
    "all_acr_path_name = out_dir + \"all_cult_acr_LA_\" + str(look_ahead) + \"_df_\"  + str(freedom_dg) + \".csv\"\n",
    "\n",
    "potential_double_acr_path_name = out_dir + \"potential_cult_acr_LA_\" + \\\n",
    "                                 str(look_ahead) + \"_df_\"  + str(freedom_dg) + \".csv\""
   ]
  },
  {
   "cell_type": "code",
   "execution_count": 64,
   "metadata": {},
   "outputs": [],
   "source": [
    "acreage_per_cultivar_all.to_csv(all_acr_path_name, index = False)\n",
    "acr_per_potential_doubles.to_csv(potential_double_acr_path_name, index = False)"
   ]
  },
  {
   "cell_type": "code",
   "execution_count": null,
   "metadata": {},
   "outputs": [],
   "source": []
  }
 ],
 "metadata": {
  "kernelspec": {
   "display_name": "Python 3",
   "language": "python",
   "name": "python3"
  },
  "language_info": {
   "codemirror_mode": {
    "name": "ipython",
    "version": 3
   },
   "file_extension": ".py",
   "mimetype": "text/x-python",
   "name": "python",
   "nbconvert_exporter": "python",
   "pygments_lexer": "ipython3",
   "version": "3.7.4"
  }
 },
 "nbformat": 4,
 "nbformat_minor": 2
}
