{
  "nbformat": 4,
  "nbformat_minor": 0,
  "metadata": {
    "colab": {
      "name": "Read_shapefiles_get_EE_images.ipynb",
      "provenance": [],
      "collapsed_sections": [],
      "toc_visible": true,
      "include_colab_link": true
    },
    "kernelspec": {
      "name": "python3",
      "display_name": "Python 3"
    }
  },
  "cells": [
    {
      "cell_type": "markdown",
      "metadata": {
        "id": "view-in-github",
        "colab_type": "text"
      },
      "source": [
        "<a href=\"https://colab.research.google.com/github/HNoorazar/Ag/blob/master/remote_sensing/Read_shapefiles_get_EE_images.ipynb\" target=\"_parent\"><img src=\"https://colab.research.google.com/assets/colab-badge.svg\" alt=\"Open In Colab\"/></a>"
      ]
    },
    {
      "cell_type": "code",
      "metadata": {
        "id": "GbHpob8Nd832",
        "colab_type": "code",
        "colab": {}
      },
      "source": [
        ""
      ],
      "execution_count": 0,
      "outputs": []
    },
    {
      "cell_type": "markdown",
      "metadata": {
        "id": "nJ0sDg79eA3e",
        "colab_type": "text"
      },
      "source": [
        "# Read shapefiles and use them to get images off EE."
      ]
    },
    {
      "cell_type": "code",
      "metadata": {
        "id": "l3jTWKA_eAEd",
        "colab_type": "code",
        "outputId": "dccd7966-0220-4afb-820b-c9b198017284",
        "colab": {
          "base_uri": "https://localhost:8080/",
          "height": 175
        }
      },
      "source": [
        "import ee\n",
        "ee.Authenticate()"
      ],
      "execution_count": 47,
      "outputs": [
        {
          "output_type": "stream",
          "text": [
            "To authorize access needed by Earth Engine, open the following URL in a web browser and follow the instructions. If the web browser does not start automatically, please manually browse the URL below.\n",
            "\n",
            "    https://accounts.google.com/o/oauth2/auth?client_id=517222506229-vsmmajv00ul0bs7p89v5m89qs8eb9359.apps.googleusercontent.com&scope=https%3A%2F%2Fwww.googleapis.com%2Fauth%2Fearthengine+https%3A%2F%2Fwww.googleapis.com%2Fauth%2Fdevstorage.full_control&redirect_uri=urn%3Aietf%3Awg%3Aoauth%3A2.0%3Aoob&response_type=code\n",
            "\n",
            "The authorization workflow will generate a code, which you should paste in the box below. \n",
            "Enter verification code: 4/vgEj_Nodf9HnGhOExX49I0zDn82pz9MlSFs0B-q63p89UEbkgF7L1O8\n",
            "\n",
            "Successfully saved authorization token.\n"
          ],
          "name": "stdout"
        }
      ]
    },
    {
      "cell_type": "markdown",
      "metadata": {
        "id": "vrscZDs5UPlD",
        "colab_type": "text"
      },
      "source": [
        "# Initialize the Earth Engine"
      ]
    },
    {
      "cell_type": "code",
      "metadata": {
        "id": "LYnq6jpveKdE",
        "colab_type": "code",
        "colab": {}
      },
      "source": [
        "# Initialize the library.\n",
        "ee.Initialize()"
      ],
      "execution_count": 0,
      "outputs": []
    },
    {
      "cell_type": "code",
      "metadata": {
        "id": "KD5yTgi20IxZ",
        "colab_type": "code",
        "colab": {
          "base_uri": "https://localhost:8080/",
          "height": 279
        },
        "outputId": "79f6f48d-8e55-4ea4-eb2e-96a976afdadd"
      },
      "source": [
        "!pip install geopandas"
      ],
      "execution_count": 49,
      "outputs": [
        {
          "output_type": "stream",
          "text": [
            "Requirement already satisfied: geopandas in /usr/local/lib/python3.6/dist-packages (0.6.2)\n",
            "Requirement already satisfied: fiona in /usr/local/lib/python3.6/dist-packages (from geopandas) (1.8.13)\n",
            "Requirement already satisfied: pandas>=0.23.0 in /usr/local/lib/python3.6/dist-packages (from geopandas) (0.25.3)\n",
            "Requirement already satisfied: shapely in /usr/local/lib/python3.6/dist-packages (from geopandas) (1.6.4.post2)\n",
            "Requirement already satisfied: pyproj in /usr/local/lib/python3.6/dist-packages (from geopandas) (2.4.2.post1)\n",
            "Requirement already satisfied: attrs>=17 in /usr/local/lib/python3.6/dist-packages (from fiona->geopandas) (19.3.0)\n",
            "Requirement already satisfied: cligj>=0.5 in /usr/local/lib/python3.6/dist-packages (from fiona->geopandas) (0.5.0)\n",
            "Requirement already satisfied: munch in /usr/local/lib/python3.6/dist-packages (from fiona->geopandas) (2.5.0)\n",
            "Requirement already satisfied: click<8,>=4.0 in /usr/local/lib/python3.6/dist-packages (from fiona->geopandas) (7.0)\n",
            "Requirement already satisfied: click-plugins>=1.0 in /usr/local/lib/python3.6/dist-packages (from fiona->geopandas) (1.1.1)\n",
            "Requirement already satisfied: six>=1.7 in /usr/local/lib/python3.6/dist-packages (from fiona->geopandas) (1.12.0)\n",
            "Requirement already satisfied: pytz>=2017.2 in /usr/local/lib/python3.6/dist-packages (from pandas>=0.23.0->geopandas) (2018.9)\n",
            "Requirement already satisfied: numpy>=1.13.3 in /usr/local/lib/python3.6/dist-packages (from pandas>=0.23.0->geopandas) (1.17.5)\n",
            "Requirement already satisfied: python-dateutil>=2.6.1 in /usr/local/lib/python3.6/dist-packages (from pandas>=0.23.0->geopandas) (2.6.1)\n"
          ],
          "name": "stdout"
        }
      ]
    },
    {
      "cell_type": "markdown",
      "metadata": {
        "id": "ixNtYMgfeYHj",
        "colab_type": "text"
      },
      "source": [
        "# Import libraries"
      ]
    },
    {
      "cell_type": "code",
      "metadata": {
        "id": "Qi2up_kFeU0h",
        "colab_type": "code",
        "colab": {}
      },
      "source": [
        "# Import libraries\n",
        "import numpy as np\n",
        "import tensorflow as tp\n",
        "from IPython.display import Image\n",
        "import folium\n",
        "import matplotlib.pyplot as plt\n",
        "\n",
        "import pandas as pd\n",
        "import geopandas as gpd\n",
        "import datetime\n",
        "import time\n",
        "\n",
        "from shapely.geometry import Point, Polygon"
      ],
      "execution_count": 0,
      "outputs": []
    },
    {
      "cell_type": "markdown",
      "metadata": {
        "id": "tb3PTt-LeW0F",
        "colab_type": "text"
      },
      "source": [
        "# Test API"
      ]
    },
    {
      "cell_type": "code",
      "metadata": {
        "id": "pQQsbdPpfD2F",
        "colab_type": "code",
        "outputId": "4488ad0b-b8cc-49ad-eef4-25007c967bef",
        "colab": {
          "base_uri": "https://localhost:8080/",
          "height": 35
        }
      },
      "source": [
        "# Test the API\n",
        "# Print the elevation of Mount Everest.\n",
        "dem = ee.Image('USGS/SRTMGL1_003')\n",
        "xy = ee.Geometry.Point([86.9250, 27.9881])\n",
        "elev = dem.sample(xy, 30).first().get('elevation').getInfo()\n",
        "print('Mount Everest elevation (m):', elev)"
      ],
      "execution_count": 51,
      "outputs": [
        {
          "output_type": "stream",
          "text": [
            "Mount Everest elevation (m): 8729\n"
          ],
          "name": "stdout"
        }
      ]
    },
    {
      "cell_type": "code",
      "metadata": {
        "id": "h4jJah-SUYIe",
        "colab_type": "code",
        "colab": {
          "base_uri": "https://localhost:8080/",
          "height": 55
        },
        "outputId": "fc4baef5-4cff-4596-8e10-48e93a9e8adb"
      },
      "source": [
        "from google.colab import drive\n",
        "drive.mount('/content/drive')"
      ],
      "execution_count": 52,
      "outputs": [
        {
          "output_type": "stream",
          "text": [
            "Drive already mounted at /content/drive; to attempt to forcibly remount, call drive.mount(\"/content/drive\", force_remount=True).\n"
          ],
          "name": "stdout"
        }
      ]
    },
    {
      "cell_type": "markdown",
      "metadata": {
        "id": "G3PbSzj4VvWz",
        "colab_type": "text"
      },
      "source": [
        "# Read shapefile that is in Google Drive.\n",
        "In order to read the file you have to have\n",
        "`drive/My Drive/` in the path."
      ]
    },
    {
      "cell_type": "code",
      "metadata": {
        "id": "mvcuDeNKfg9l",
        "colab_type": "code",
        "colab": {}
      },
      "source": [
        "double_crop_shapefile = gpd.read_file(\"drive/My Drive/shapeFiles/double_dbl_2018/double_dbl_2018.shp\")"
      ],
      "execution_count": 0,
      "outputs": []
    },
    {
      "cell_type": "code",
      "metadata": {
        "id": "gX7D2SDWfqax",
        "colab_type": "code",
        "colab": {
          "base_uri": "https://localhost:8080/",
          "height": 284
        },
        "outputId": "f00bd99d-17b1-407e-a012-0f0f2ce9984e"
      },
      "source": [
        "double_crop_shapefile.head(2)"
      ],
      "execution_count": 54,
      "outputs": [
        {
          "output_type": "execute_result",
          "data": {
            "text/html": [
              "<div>\n",
              "<style scoped>\n",
              "    .dataframe tbody tr th:only-of-type {\n",
              "        vertical-align: middle;\n",
              "    }\n",
              "\n",
              "    .dataframe tbody tr th {\n",
              "        vertical-align: top;\n",
              "    }\n",
              "\n",
              "    .dataframe thead th {\n",
              "        text-align: right;\n",
              "    }\n",
              "</style>\n",
              "<table border=\"1\" class=\"dataframe\">\n",
              "  <thead>\n",
              "    <tr style=\"text-align: right;\">\n",
              "      <th></th>\n",
              "      <th>CropTyp</th>\n",
              "      <th>Acres</th>\n",
              "      <th>Irrigtn</th>\n",
              "      <th>IntlSrD</th>\n",
              "      <th>LstSrvD</th>\n",
              "      <th>DataSrc</th>\n",
              "      <th>Notes</th>\n",
              "      <th>TRS</th>\n",
              "      <th>County</th>\n",
              "      <th>RttnCrp</th>\n",
              "      <th>CovrCrp</th>\n",
              "      <th>ExctAcr</th>\n",
              "      <th>CropGrp</th>\n",
              "      <th>Shp_Lng</th>\n",
              "      <th>Shap_Ar</th>\n",
              "      <th>geometry</th>\n",
              "    </tr>\n",
              "  </thead>\n",
              "  <tbody>\n",
              "    <tr>\n",
              "      <th>0</th>\n",
              "      <td>Fallow, Tilled</td>\n",
              "      <td>8</td>\n",
              "      <td>Sprinkler</td>\n",
              "      <td>2003/06/25 00:00:00</td>\n",
              "      <td>2018/10/18 00:00:00</td>\n",
              "      <td>Conservation District</td>\n",
              "      <td>6/25/2003 Some apples are tore out 2015 buckwh...</td>\n",
              "      <td>T09R25E24</td>\n",
              "      <td>Benton</td>\n",
              "      <td>Wheat</td>\n",
              "      <td>None</td>\n",
              "      <td>7.518828</td>\n",
              "      <td>Other</td>\n",
              "      <td>720.962453</td>\n",
              "      <td>30427.616554</td>\n",
              "      <td>POLYGON ((-119.64070 46.24481, -119.64089 46.2...</td>\n",
              "    </tr>\n",
              "    <tr>\n",
              "      <th>1</th>\n",
              "      <td>Corn, Field</td>\n",
              "      <td>99</td>\n",
              "      <td>Center Pivot</td>\n",
              "      <td>2003/09/18 00:00:00</td>\n",
              "      <td>2016/12/15 00:00:00</td>\n",
              "      <td>Producer</td>\n",
              "      <td>double cropped green pea/sweet corn</td>\n",
              "      <td>T05R24E4</td>\n",
              "      <td>Benton</td>\n",
              "      <td>Corn, Sweet</td>\n",
              "      <td>None</td>\n",
              "      <td>98.544261</td>\n",
              "      <td>Cereal Grain</td>\n",
              "      <td>2274.181367</td>\n",
              "      <td>398794.473922</td>\n",
              "      <td>POLYGON ((-119.80741 45.94627, -119.80725 45.9...</td>\n",
              "    </tr>\n",
              "  </tbody>\n",
              "</table>\n",
              "</div>"
            ],
            "text/plain": [
              "          CropTyp  ...                                           geometry\n",
              "0  Fallow, Tilled  ...  POLYGON ((-119.64070 46.24481, -119.64089 46.2...\n",
              "1     Corn, Field  ...  POLYGON ((-119.80741 45.94627, -119.80725 45.9...\n",
              "\n",
              "[2 rows x 16 columns]"
            ]
          },
          "metadata": {
            "tags": []
          },
          "execution_count": 54
        }
      ]
    },
    {
      "cell_type": "code",
      "metadata": {
        "id": "hp8FjXOUVtyC",
        "colab_type": "code",
        "colab": {
          "base_uri": "https://localhost:8080/",
          "height": 122
        },
        "outputId": "e17ba4e5-7477-4bc5-ab7d-3e098221bd80"
      },
      "source": [
        "double_crop_shapefile.loc[0, 'geometry']"
      ],
      "execution_count": 55,
      "outputs": [
        {
          "output_type": "execute_result",
          "data": {
            "text/plain": [
              "<shapely.geometry.polygon.Polygon at 0x7fd7462a90f0>"
            ],
            "image/svg+xml": "<svg xmlns=\"http://www.w3.org/2000/svg\" xmlns:xlink=\"http://www.w3.org/1999/xlink\" width=\"100.0\" height=\"100.0\" viewBox=\"-119.64113958341247 46.243923803237784 0.003700333168822567 0.0022842029318255186\" preserveAspectRatio=\"xMinYMin meet\"><g transform=\"matrix(1,0,0,-1,0,92.49013180940739)\"><path fill-rule=\"evenodd\" fill=\"#66cc99\" stroke=\"#555555\" stroke-width=\"7.400666337645134e-05\" opacity=\"0.6\" d=\"M -119.64070346333354,46.24481372235483 L -119.64089177231152,46.24488458019852 L -119.64100253403585,46.24492625773868 L -119.64090252263983,46.24509979439763 L -119.64035881108829,46.246070956792984 L -119.63783305755544,46.24505154496256 L -119.63784770856947,46.24503421710987 L -119.63757629962026,46.24492301512146 L -119.63784687493145,46.24462749295479 L -119.6386649272333,46.24406085261441 L -119.63961656420007,46.24437708363979 L -119.64070346333354,46.24481372235483 z\" /></g></svg>"
          },
          "metadata": {
            "tags": []
          },
          "execution_count": 55
        }
      ]
    },
    {
      "cell_type": "code",
      "metadata": {
        "id": "Oc3Nzv-RYrCX",
        "colab_type": "code",
        "colab": {
          "base_uri": "https://localhost:8080/",
          "height": 267
        },
        "outputId": "8ea5ef95-5fd2-4a21-9316-0d9eaa2a4e52"
      },
      "source": [
        "double_crop_shapefile.plot(column='Shap_Ar', figsize=(8, 8));\n",
        "# double_crop_shapefile.plot(column='Shap_Ar', figsize=(100, 100));"
      ],
      "execution_count": 56,
      "outputs": [
        {
          "output_type": "display_data",
          "data": {
            "image/png": "[encoded data removed]",
            "text/plain": [
              "<Figure size 576x576 with 1 Axes>"
            ]
          },
          "metadata": {
            "tags": []
          }
        }
      ]
    },
    {
      "cell_type": "code",
      "metadata": {
        "id": "fELs9xOtZJpD",
        "colab_type": "code",
        "colab": {
          "base_uri": "https://localhost:8080/",
          "height": 314
        },
        "outputId": "e40c5ad1-f039-49dd-adf5-8113e6561a22"
      },
      "source": [
        "double_crop_shapefile_head = double_crop_shapefile.iloc[23:28, ]\n",
        "double_crop_shapefile_head = double_crop_shapefile.iloc[50:56, ]\n",
        "double_crop_shapefile_head.plot(column='Shap_Ar', figsize=(10, 10));"
      ],
      "execution_count": 57,
      "outputs": [
        {
          "output_type": "display_data",
          "data": {
            "image/png": "[encoded data removed]",
            "text/plain": [
              "<Figure size 720x720 with 1 Axes>"
            ]
          },
          "metadata": {
            "tags": []
          }
        }
      ]
    },
    {
      "cell_type": "markdown",
      "metadata": {
        "id": "lgbvwDIGqblQ",
        "colab_type": "text"
      },
      "source": [
        "# End of reading ShapeFile"
      ]
    },
    {
      "cell_type": "markdown",
      "metadata": {
        "id": "S_e_Ce3PqX1-",
        "colab_type": "text"
      },
      "source": [
        "# Start downloading images off EE."
      ]
    },
    {
      "cell_type": "code",
      "metadata": {
        "id": "QEjDvFMaqf1u",
        "colab_type": "code",
        "colab": {
          "base_uri": "https://localhost:8080/",
          "height": 277
        },
        "outputId": "48135b73-26a3-4b79-a028-1d4d10554b65"
      },
      "source": [
        "# Import a DEM and display a thumbnail of it.\n",
        "dem = ee.Image('USGS/SRTMGL1_003')\n",
        "Image(url=dem.updateMask(dem.gt(0))\n",
        "  .getThumbUrl({'min': 0, 'max': 4000, 'dimensions': 512,\n",
        "                'palette': ['006633', 'E5FFCC', '662A00', 'D8D8D8', 'F5F5F5']}))"
      ],
      "execution_count": 58,
      "outputs": [
        {
          "output_type": "execute_result",
          "data": {
            "text/html": [
              "<img src=\"https://earthengine.googleapis.com/v1alpha/projects/earthengine-legacy/thumbnails/a83efcc1cdfd60835e6ed06b44440762-7cb98666440910fd39c9eee15993d29a:getPixels\"/>"
            ],
            "text/plain": [
              "<IPython.core.display.Image object>"
            ]
          },
          "metadata": {
            "tags": []
          },
          "execution_count": 58
        }
      ]
    },
    {
      "cell_type": "markdown",
      "metadata": {
        "id": "UMwD5qAm3EC5",
        "colab_type": "text"
      },
      "source": [
        "# Define Functions"
      ]
    },
    {
      "cell_type": "code",
      "metadata": {
        "id": "o5Pn4Cp83DEP",
        "colab_type": "code",
        "colab": {}
      },
      "source": [
        "############################################################################\n",
        "def addTime(image):\n",
        "  time_added = image.addBands(image.metadata('system:time_start').divide(1000 * 60 * 60 * 24 * 365))\n",
        "  return (time_added)\n",
        "\n",
        "############################################################################\n",
        "##\n",
        "##    compute NDVI index\n",
        "##\n",
        "\n",
        "def compute_collection_NDVI(image_collection):\n",
        "  collection_NVDI = image_collection.map(compute_image_NDVI)\n",
        "  return (collection_NVDI)\n",
        "\n",
        "def compute_image_NDVI(an_image, ndvi_bands=['B8', 'B4']):\n",
        "  image_NDVI = an_image.normalizedDifference(ndvi_bands).rename('NDVI')\n",
        "  return (image_NDVI)\n",
        "\n",
        "############################################################################\n",
        "##\n",
        "##    add NDVI index to the image collection\n",
        "##\n",
        "\n",
        "def add_NDVI_to_image_collection(image_collection):\n",
        "  return (image_collection.map(add_NDVI_to_image_to_use_for_map)) # addNDVI\n",
        "\n",
        "def add_NDVI_to_image_to_use_for_map(image, ndvi_bands=['B8', 'B4']):\n",
        "  ndvi = image.normalizedDifference(ndvi_bands).rename('NDVI');\n",
        "  return image.addBands(ndvi)\n",
        "\n",
        "############################################################################\n",
        "##\n",
        "##    Convert shapely.geometry.polygon.Polygon to ee.geometry.Geometry\n",
        "##    so it can be used as boundaries to download images from Earth Engine\n",
        "##\n",
        "def convert_panda_geometry_to_json_type_4_filterBounds(shapely_polygon):\n",
        "  #\n",
        "  # input is of type: shapely.geometry.polygon.Polygon\n",
        "  # output is of type ee.geometry.Geometry\n",
        "  A = gpd.GeoSeries([shapely_polygon]).__geo_interface__\n",
        "\n",
        "  ee_geometry_Geometry = ee.Geometry.Polygon([A[\"features\"][0][\"geometry\"][\"coordinates\"][0]])\n",
        "  return(ee_geometry_Geometry)\n",
        "\n",
        "def convert_panda_geometry_to_json_type_4_filterBounds_list(shapely_polygon):\n",
        "  #\n",
        "  # input is of type: shapely.geometry.polygon.Polygon\n",
        "  # output is of type ee.geometry.Geometry\n",
        "  A = gpd.GeoSeries([shapely_polygon]).__geo_interface__\n",
        "\n",
        "  Listt = [list(row) for row in A[\"features\"][0][\"geometry\"][\"coordinates\"][0]]\n",
        "  ee_geometry_Geometry = ee.Geometry.Polygon(Listt)\n",
        "  return(ee_geometry_Geometry)"
      ],
      "execution_count": 0,
      "outputs": []
    },
    {
      "cell_type": "markdown",
      "metadata": {
        "id": "A6LGiPL4zWn5",
        "colab_type": "text"
      },
      "source": [
        "# Define some universal variables\n",
        "\n",
        "The band names of Sentinel-2A and their description is located at the following link: \n",
        "\n",
        "\n",
        "https://developers.google.com/earth-engine/datasets/catalog/COPERNICUS_S2_SR"
      ]
    },
    {
      "cell_type": "code",
      "metadata": {
        "id": "9o-EcUz6u6h3",
        "colab_type": "code",
        "colab": {}
      },
      "source": [
        "sentinel2A_all_bands = ['B1', 'B2', 'B3', 'B4', 'B5', 'B6', 'B7', \n",
        "                        'B8', 'B9', 'B10', 'B11', 'B12', \n",
        "                        'AOT', 'WVP', 'SCL', 'TCI_R', 'TCI_G', \n",
        "                        'TCI_B', 'MSK_CLDPRB', 'MSK_SNWPRB', \n",
        "                        'QA10', 'QA20', 'QA60']\n",
        "                        \n",
        "RGB_bands = ['B4', 'B3', 'B2']\n",
        "sentinel2A_some_bands = ['B4', 'B3', 'B2', 'SCL', 'AOT']\n",
        "\n",
        "# B8 is NIR and B4 is read\n",
        "NDVI_bands = ['B8', 'B4']"
      ],
      "execution_count": 0,
      "outputs": []
    },
    {
      "cell_type": "code",
      "metadata": {
        "id": "qTTu2DKR1k1R",
        "colab_type": "code",
        "colab": {}
      },
      "source": [
        "class Parameters:\n",
        "  def __init__(self, region_polygon, start_date, end_date, ndvi_bands= ['B8', 'B4']):\n",
        "    self.region_polygon = region_polygon\n",
        "    self.ndvi_bands = ndvi_bands\n",
        "    self.start_date = start_date\n",
        "    self.end_date = end_date"
      ],
      "execution_count": 0,
      "outputs": []
    },
    {
      "cell_type": "markdown",
      "metadata": {
        "id": "BHJ3PfMQ0x7E",
        "colab_type": "text"
      },
      "source": [
        "# Set up the image properties we want below.\n",
        "\n",
        "Example for downloading images of landsat:\n",
        "[Link to the example](https://stackoverflow.com/questions/39219705/how-to-download-images-using-google-earth-engines-python-api/41289973#41289973)\n"
      ]
    },
    {
      "cell_type": "markdown",
      "metadata": {
        "id": "vWwuACgk27lt",
        "colab_type": "text"
      },
      "source": [
        "# Load up Images of Sentinel and LandSat"
      ]
    },
    {
      "cell_type": "code",
      "metadata": {
        "id": "7fdo8nk41q3L",
        "colab_type": "code",
        "colab": {}
      },
      "source": [
        "# we need to work on the following to get the damn images\n",
        "sentinel_2A = ee.ImageCollection('COPERNICUS/S2')\n",
        "\n",
        "# Load a Sentinel 2 image and select NDVI bands.\n",
        "sentinel_2A_NDVI_bands = ee.Image('COPERNICUS/S2').select(NDVI_bands);\n",
        "\n",
        "# Load a landsat image and NDVI bands.\n",
        "landsat_NDVI_bands = ee.Image('LANDSAT/LC8_L1T_TOA/LC81230322014135LGN00').select(NDVI_bands);\n",
        "\n",
        "# Load a landsat image and select three RGB bands.\n",
        "landsat_RGB = ee.Image('LANDSAT/LC8_L1T_TOA/LC81230322014135LGN00').select(RGB_bands);"
      ],
      "execution_count": 0,
      "outputs": []
    },
    {
      "cell_type": "markdown",
      "metadata": {
        "id": "5w_W7sRYWrmv",
        "colab_type": "text"
      },
      "source": [
        "# Evolution of learning how to get from a GeoPanda data frame to a geometry that we can work with:\n",
        "\n",
        "```\n",
        "# type(double_crop_shapefile.loc[20, 'geometry'])\n",
        "# type(gpd.GeoSeries([double_crop_shapefile.loc[20, 'geometry']]).to_json())\n",
        "# A = gpd.GeoSeries([double_crop_shapefile.iloc[20, 15]]).__geo_interface__\n",
        "# type(A)\n",
        "# A.keys()\n",
        "# A[\"features\"][0].keys()\n",
        "# A[\"features\"][0][\"geometry\"].keys()\n",
        "# A[\"features\"][0][\"geometry\"][\"coordinates\"]\n",
        "# ee.Geometry.Polygon([A[\"features\"][0][\"geometry\"][\"coordinates\"][0]])\n",
        "\n",
        "shapely_polygon = double_crop_shapefile.iloc[20, 15]\n",
        "type(convert_panda_geometry_to_json_type_4_filterBounds(shapely_polygon))\n",
        "```"
      ]
    },
    {
      "cell_type": "markdown",
      "metadata": {
        "id": "Mq7eAVUw4UQX",
        "colab_type": "text"
      },
      "source": [
        "# Define parameters"
      ]
    },
    {
      "cell_type": "code",
      "metadata": {
        "id": "C8bBZUXFbE6r",
        "colab_type": "code",
        "colab": {
          "base_uri": "https://localhost:8080/",
          "height": 122
        },
        "outputId": "6285d68f-7137-4ed4-dd59-fb6823bb9c92"
      },
      "source": [
        "double_crop_shapefile.loc[1, 'geometry']"
      ],
      "execution_count": 63,
      "outputs": [
        {
          "output_type": "execute_result",
          "data": {
            "text/plain": [
              "<shapely.geometry.polygon.Polygon at 0x7fd7462a9390>"
            ],
            "image/svg+xml": "<svg xmlns=\"http://www.w3.org/2000/svg\" xmlns:xlink=\"http://www.w3.org/1999/xlink\" width=\"100.0\" height=\"100.0\" viewBox=\"-119.8145131372977 45.939611734265796 0.009080098514715473 0.007307931450391436\" preserveAspectRatio=\"xMinYMin meet\"><g transform=\"matrix(1,0,0,-1,0,91.88653139998198)\"><path fill-rule=\"evenodd\" fill=\"#66cc99\" stroke=\"#555555\" stroke-width=\"0.00018160197029430946\" opacity=\"0.6\" d=\"M -119.80740854831097,45.946271625867745 L -119.80725270563438,45.94619388741781 L -119.80709235359745,45.94612071788197 L -119.80692780908166,45.94605224964572 L -119.8067593219345,45.945988611985776 L -119.80658720692408,45.94592989948821 L -119.80641917164239,45.94583876266492 L -119.80625715933847,45.94574246655151 L -119.80610148344977,45.945641214639025 L -119.80595244459958,45.94553520314255 L -119.80581037154914,45.945424646445346 L -119.80576933872797,45.94522782850812 L -119.80578673630404,45.94239062620527 L -119.8057913363246,45.94175704472999 L -119.80579105013628,45.9416059444001 L -119.80578872619932,45.94152211674119 L -119.80578519645175,45.94140210047294 L -119.80578603954875,45.941280784840714 L -119.80578634969365,45.941280326078754 L -119.80582827005364,45.94109250203773 L -119.80597557027312,45.94097934556713 L -119.80613017768442,45.940871042861126 L -119.8062917734452,45.94076782226649 L -119.80646000916452,45.94066990385149 L -119.8066345262917,45.94057749592632 L -119.80681496766536,45.94049079961278 L -119.80700093265084,45.94040998697585 L -119.80719203737452,45.94033523108466 L -119.80738786960113,45.940266704836446 L -119.80758801899263,45.940204533456054 L -119.80779207483306,45.940148872759494 L -119.8079995729886,45.94009981975525 L -119.80821008917054,45.94005748249552 L -119.80842318759152,45.94002196086741 L -119.80863839028788,45.93999332481177 L -119.80885526325622,45.939971635544296 L -119.80907334186408,45.93995692890398 L -119.80929215098412,45.939949255065166 L -119.80943473486492,45.939948034210786 L -119.80964187389606,45.93995158462858 L -119.80984860522275,45.939961424049784 L -119.8100545176603,45.939977541869105 L -119.81025922875337,45.93999989886799 L -119.81046234443873,45.9400284557598 L -119.8106634952757,45.94006316351368 L -119.81086227088298,45.94010394675936 L -119.81105833169754,45.940150738658545 L -119.81125128187547,45.94020343514313 L -119.81144075241133,45.94026195120524 L -119.81162638765157,45.940326165031344 L -119.81180600732785,45.940395215814725 L -119.81198120296308,45.940469611724474 L -119.81215163203902,45.940549210337835 L -119.81232978452748,45.94064073221666 L -119.81250163250665,45.94073793690918 L -119.81266682273547,45.94084060995824 L -119.81282498904538,45.94094853862857 L -119.81297579143148,45.94106147975367 L -119.81311888727794,45.941179191951015 L -119.81325400380837,45.94130141716764 L -119.81338081412107,45.941427893422606 L -119.81349905842971,45.941558353743844 L -119.8136084747415,45.9416925005539 L -119.81370882916774,45.941830057139065 L -119.81379991386098,45.94197072624837 L -119.8138815082842,45.94211419345732 L -119.81395345882767,45.94226015464295 L -119.81401560954318,45.94240828587187 L -119.8140678068206,45.9425582821172 L -119.81410994779861,45.942709801768366 L -119.81414194473905,45.94286253119601 L -119.81416372184378,45.943016129848395 L -119.81417524565525,45.943170274522956 L -119.8141768373527,45.94330850196235 L -119.81417016304717,45.94344665226821 L -119.81415523856636,45.94358448530535 L -119.81412953036227,45.943734561342644 L -119.81409403373974,45.94388365666071 L -119.81404886061652,45.944031477715356 L -119.81399407931298,45.94417771090138 L -119.8139297981204,45.94432204375341 L -119.81385616754436,45.94446419195202 L -119.81377332415644,45.9446038512969 L -119.81368145340532,45.94474072867945 L -119.81358074556809,45.94487455801091 L -119.81347140299519,45.94500503638503 L -119.81335366486046,45.94513190790439 L -119.81322774727792,45.94525490483389 L -119.8130939421773,45.94537378239163 L -119.81295250565674,45.94548827398387 L -119.81280374353449,45.94559816010511 L -119.81264796057269,45.94570320324873 L -119.81248549355884,45.945803184098 L -119.81231664552169,45.94589790202593 L -119.81214180332636,45.945987156916225 L -119.81196131235237,45.946070766396275 L -119.81179126047772,45.94614228636486 L -119.81161708438422,45.946208786522476 L -119.8114390628579,45.946270150681926 L -119.81124466923181,45.94633002383661 L -119.81104664105374,45.94638378418277 L -119.8108453616204,45.94643131437197 L -119.8106412293606,45.94647252504234 L -119.81043468129626,45.946507335167645 L -119.81022610015172,45.94653567419019 L -119.81001590981167,45.94655748080357 L -119.80980453513715,45.94657271890312 L -119.80959239707705,45.94658135596232 L -119.80937991908205,45.9465833657712 L -119.80917633052938,45.94657908183762 L -119.80897320011003,45.94656871990254 L -119.8087708862057,45.94655229925401 L -119.80856977037705,45.946529842023594 L -119.80837020923828,45.94650140528282 L -119.8081725853075,45.94646703726672 L -119.80797725389279,45.94642679594356 L -119.80778455846524,45.946380757206335 L -119.80759488119352,45.946328996287335 L -119.80740854831097,45.946271625867745 z\" /></g></svg>"
          },
          "metadata": {
            "tags": []
          },
          "execution_count": 63
        }
      ]
    },
    {
      "cell_type": "markdown",
      "metadata": {
        "id": "MC6euwtud2Ae",
        "colab_type": "text"
      },
      "source": [
        "# process of learning why things were not working due to a mistake:\n",
        "\n",
        "```\n",
        "####################################\n",
        "A = gpd.GeoSeries([double_crop_shapefile.iloc[20, 15]]).__geo_interface__\n",
        "convert_panda_geometry_to_json_type_4_filterBounds(double_crop_shapefile.loc[20, 'geometry'])\n",
        "type(ee.Geometry.Polygon([A[\"features\"][0][\"geometry\"][\"coordinates\"][0]]))\n",
        "ee.Geometry.Polygon([A[\"features\"][0][\"geometry\"][\"coordinates\"][0]]) == convert_panda_geometry_to_json_type_4_filterBounds(double_crop_shapefile.loc[20, 'geometry'])\n",
        "\n",
        "####################################\n",
        "A = gpd.GeoSeries([double_crop_shapefile.loc[20, 'geometry']]).__geo_interface__\n",
        "B = A[\"features\"][0][\"geometry\"][\"coordinates\"][0]\n",
        "ee.Geometry.Polygon(B)\n",
        "ee.Geometry.Polygon([A[\"features\"][0][\"geometry\"][\"coordinates\"][0]]) == B\n",
        "```"
      ]
    },
    {
      "cell_type": "code",
      "metadata": {
        "id": "2VpQM0Yf3aab",
        "colab_type": "code",
        "colab": {}
      },
      "source": [
        "start_dt = '2018-03-1'\n",
        "end_dt = '2018-10-30'\n",
        "\n",
        "# convert geometry of a field to a format usable by filterBounds function in EE.\n",
        "a_double_field = convert_panda_geometry_to_json_type_4_filterBounds_list(double_crop_shapefile.loc[0, 'geometry'])\n",
        "\n",
        "'''\n",
        "col = ee.ImageCollection('LANDSAT/LC08/C01/T1')\\\n",
        "        .filterDate('2015-01-01','2015-04-30')\\\n",
        "        .filterBounds(region)\n",
        "'''\n",
        "\n",
        "a_double_crop_field_image_collection = ee.ImageCollection('COPERNICUS/S2').filter( # searches all sentinel 2 imagery pixels...\n",
        "                                                      ee.Filter.lt(\"CLOUDY_PIXEL_PERCENTAGE\", \n",
        "                                                                   10)).filterDate( start_dt,\n",
        "                                                                                    end_dt).filterBounds(a_double_field).select(NDVI_bands)\n",
        "\n",
        "# a_double_crop_field_image_collection"
      ],
      "execution_count": 0,
      "outputs": []
    },
    {
      "cell_type": "markdown",
      "metadata": {
        "id": "H6v88jXCmP58",
        "colab_type": "text"
      },
      "source": [
        "# Get fucking informations of the imageCollection"
      ]
    },
    {
      "cell_type": "code",
      "metadata": {
        "id": "dUwr66Uxj-8l",
        "colab_type": "code",
        "colab": {
          "base_uri": "https://localhost:8080/",
          "height": 35
        },
        "outputId": "8151e34d-a41a-4cfe-89a7-8ad9928605be"
      },
      "source": [
        "a_double_crop_field_image_collection.getInfo().keys()"
      ],
      "execution_count": 124,
      "outputs": [
        {
          "output_type": "execute_result",
          "data": {
            "text/plain": [
              "dict_keys(['type', 'bands', 'id', 'version', 'properties', 'features'])"
            ]
          },
          "metadata": {
            "tags": []
          },
          "execution_count": 124
        }
      ]
    },
    {
      "cell_type": "code",
      "metadata": {
        "id": "QnhapdPIka8r",
        "colab_type": "code",
        "colab": {
          "base_uri": "https://localhost:8080/",
          "height": 35
        },
        "outputId": "6ec15a3e-f8e0-43a2-9658-8522245b6162"
      },
      "source": [
        "a_double_crop_field_image_collection.getInfo()['features'][0].keys()"
      ],
      "execution_count": 127,
      "outputs": [
        {
          "output_type": "execute_result",
          "data": {
            "text/plain": [
              "dict_keys(['type', 'bands', 'id', 'version', 'properties'])"
            ]
          },
          "metadata": {
            "tags": []
          },
          "execution_count": 127
        }
      ]
    },
    {
      "cell_type": "code",
      "metadata": {
        "id": "HftHmaLPlOFp",
        "colab_type": "code",
        "colab": {
          "base_uri": "https://localhost:8080/",
          "height": 294
        },
        "outputId": "d47e93a9-3c4a-41d5-c100-67b88dc0b4ad"
      },
      "source": [
        "a_double_crop_field_image_collection.getInfo()['features'][0]['bands']"
      ],
      "execution_count": 128,
      "outputs": [
        {
          "output_type": "execute_result",
          "data": {
            "text/plain": [
              "[{'crs': 'EPSG:32610',\n",
              "  'crs_transform': [10, 0, 699960, 0, -10, 5200020],\n",
              "  'data_type': {'max': 65535,\n",
              "   'min': 0,\n",
              "   'precision': 'int',\n",
              "   'type': 'PixelType'},\n",
              "  'dimensions': [10980, 10980],\n",
              "  'id': 'B8'},\n",
              " {'crs': 'EPSG:32610',\n",
              "  'crs_transform': [10, 0, 699960, 0, -10, 5200020],\n",
              "  'data_type': {'max': 65535,\n",
              "   'min': 0,\n",
              "   'precision': 'int',\n",
              "   'type': 'PixelType'},\n",
              "  'dimensions': [10980, 10980],\n",
              "  'id': 'B4'}]"
            ]
          },
          "metadata": {
            "tags": []
          },
          "execution_count": 128
        }
      ]
    },
    {
      "cell_type": "markdown",
      "metadata": {
        "id": "jq7ZBBakQlNS",
        "colab_type": "text"
      },
      "source": [
        "# Get metadata of the image collection.\n",
        "\n",
        "[Link to the example](https://samapriya.github.io/gee-py/projects/collection_meta/) for getting metadata."
      ]
    },
    {
      "cell_type": "markdown",
      "metadata": {
        "id": "HL2gSTvpTjR6",
        "colab_type": "text"
      },
      "source": [
        "### Get Number of Images in the ImageCollection"
      ]
    },
    {
      "cell_type": "code",
      "metadata": {
        "id": "Q2f3TTM8Ji1Q",
        "colab_type": "code",
        "colab": {
          "base_uri": "https://localhost:8080/",
          "height": 52
        },
        "outputId": "acd2b58d-28ee-475c-e01f-5f340ab7b13c"
      },
      "source": [
        "count = a_double_crop_field_image_collection.size()\n",
        "print('Count: ', str(count.getInfo()) + '\\n')"
      ],
      "execution_count": 129,
      "outputs": [
        {
          "output_type": "stream",
          "text": [
            "Count:  45\n",
            "\n"
          ],
          "name": "stdout"
        }
      ]
    },
    {
      "cell_type": "code",
      "metadata": {
        "id": "DXvq-sktQKQx",
        "colab_type": "code",
        "colab": {
          "base_uri": "https://localhost:8080/",
          "height": 86
        },
        "outputId": "e4fba5a3-1b49-4893-e64e-2b663a4110c6"
      },
      "source": [
        "# Get the date range of images in the a_double_crop_field_image_collection.\n",
        "range = a_double_crop_field_image_collection.reduceColumns(ee.Reducer.minMax(), [\"system:time_start\"])\n",
        "\n",
        "# this shit is in milliseconds. We need to divide by 1000 otherwise, \n",
        "# conversion to readable will not make sense.\n",
        "#\n",
        "start_time_epoch = ee.Date(range.get('min')).getInfo()[\"value\"]/1000\n",
        "end_time_epoch = ee.Date(range.get('max')).getInfo()[\"value\"]/1000\n",
        "\n",
        "readable_start_time = time.strftime('%Y-%m-%d %H:%M:%S', time.localtime(start_time_epoch))\n",
        "readable_end_time = time.strftime('%Y-%m-%d %H:%M:%S', time.localtime(end_time_epoch))\n",
        "print('Epoch Date range: ', str(start_time_epoch), \" - \", str(end_time_epoch) +'\\n')\n",
        "print('Readable Date range: ', readable_start_time, \" - \", readable_end_time +'\\n')"
      ],
      "execution_count": 130,
      "outputs": [
        {
          "output_type": "stream",
          "text": [
            "Epoch Date range:  1520362440.04  -  1540234890.18\n",
            "\n",
            "Readable Date range:  2018-03-06 18:54:00  -  2018-10-22 19:01:30\n",
            "\n"
          ],
          "name": "stdout"
        }
      ]
    },
    {
      "cell_type": "markdown",
      "metadata": {
        "id": "a5_1GCPnk06h",
        "colab_type": "text"
      },
      "source": [
        "```\n",
        "eee_list = convert_panda_geometry_to_json_type_4_filterBounds_list(double_crop_shapefile.loc[0, 'geometry'])\n",
        "eee_tupe = convert_panda_geometry_to_json_type_4_filterBounds(double_crop_shapefile.loc[0, 'geometry'])\n",
        "print(double_crop_shapefile.loc[0, 'geometry'])\n",
        "```"
      ]
    },
    {
      "cell_type": "code",
      "metadata": {
        "id": "b3kVxQImoCVf",
        "colab_type": "code",
        "colab": {}
      },
      "source": [
        "a_double_crop_field_image_collection_NDVI1 = add_NDVI_to_image_collection(a_double_crop_field_image_collection)"
      ],
      "execution_count": 0,
      "outputs": []
    },
    {
      "cell_type": "code",
      "metadata": {
        "id": "uBRf2tV6dZse",
        "colab_type": "code",
        "colab": {
          "base_uri": "https://localhost:8080/",
          "height": 52
        },
        "outputId": "77c10084-c16e-495f-d747-6cbc512fa6bb"
      },
      "source": [
        "a_double_crop_field_image_collection_NDVI1\n",
        "count = a_double_crop_field_image_collection_NDVI1.size()\n",
        "print('Count: ', str(count.getInfo()) + '\\n')"
      ],
      "execution_count": 132,
      "outputs": [
        {
          "output_type": "stream",
          "text": [
            "Count:  45\n",
            "\n"
          ],
          "name": "stdout"
        }
      ]
    },
    {
      "cell_type": "code",
      "metadata": {
        "id": "DWBV81Jpda9J",
        "colab_type": "code",
        "colab": {}
      },
      "source": [
        "# a_double_crop_field_image_collection_NDVI1.getInfo()\n",
        "# sunStats = a_double_crop_field_image_collection_NDVI2.aggregate_stats('SUN_ELEVATION');\n",
        "# print('a_double_crop_field_image_collection_NDVI1 statistics: ', sunStats);"
      ],
      "execution_count": 0,
      "outputs": []
    },
    {
      "cell_type": "markdown",
      "metadata": {
        "id": "zJN3O3samDkc",
        "colab_type": "text"
      },
      "source": [
        "# Get the band names \n",
        "This is equivalent of an_image.bandNames() of the javascript."
      ]
    },
    {
      "cell_type": "code",
      "metadata": {
        "id": "7MgYrNyZlcrc",
        "colab_type": "code",
        "colab": {
          "base_uri": "https://localhost:8080/",
          "height": 35
        },
        "outputId": "ba36a1b2-2263-4478-d023-988a7336829b"
      },
      "source": [
        "# a_double_crop_field_image_collection_NDVI1.getInfo()['features'][0]['bands']\n",
        "a_double_crop_field_image_collection_NDVI1.first().bandNames().getInfo()"
      ],
      "execution_count": 171,
      "outputs": [
        {
          "output_type": "execute_result",
          "data": {
            "text/plain": [
              "['B8', 'B4', 'NDVI']"
            ]
          },
          "metadata": {
            "tags": []
          },
          "execution_count": 171
        }
      ]
    },
    {
      "cell_type": "code",
      "metadata": {
        "id": "j8NBiSTdgFE2",
        "colab_type": "code",
        "colab": {
          "base_uri": "https://localhost:8080/",
          "height": 35
        },
        "outputId": "1226592d-0ef9-4e00-9f7e-8d5c62e1630b"
      },
      "source": [
        "type(a_double_crop_field_image_collection_NDVI1.first().bandNames())"
      ],
      "execution_count": 183,
      "outputs": [
        {
          "output_type": "execute_result",
          "data": {
            "text/plain": [
              "ee.ee_list.List"
            ]
          },
          "metadata": {
            "tags": []
          },
          "execution_count": 183
        }
      ]
    },
    {
      "cell_type": "code",
      "metadata": {
        "id": "LhoXlx30gFCi",
        "colab_type": "code",
        "colab": {}
      },
      "source": [
        ""
      ],
      "execution_count": 0,
      "outputs": []
    },
    {
      "cell_type": "code",
      "metadata": {
        "id": "clRsBaDjgFAM",
        "colab_type": "code",
        "colab": {}
      },
      "source": [
        ""
      ],
      "execution_count": 0,
      "outputs": []
    },
    {
      "cell_type": "code",
      "metadata": {
        "id": "F2ZU9XV3gE-K",
        "colab_type": "code",
        "colab": {}
      },
      "source": [
        ""
      ],
      "execution_count": 0,
      "outputs": []
    },
    {
      "cell_type": "code",
      "metadata": {
        "id": "Topk1TxQgE7A",
        "colab_type": "code",
        "colab": {}
      },
      "source": [
        ""
      ],
      "execution_count": 0,
      "outputs": []
    },
    {
      "cell_type": "code",
      "metadata": {
        "id": "CgDZbXLndm_v",
        "colab_type": "code",
        "colab": {
          "base_uri": "https://localhost:8080/",
          "height": 235
        },
        "outputId": "ad5bb789-1406-42be-fb0c-c4286d3f027d"
      },
      "source": [
        "ee.Chart.image.doySeriesByYear({\n",
        "               imageCollection: a_double_crop_field_image_collection_NDVI1, \n",
        "               bandName: 'NDVI', \n",
        "               regionReducer: ee.Reducer.mean(), \n",
        "               scale: 500});"
      ],
      "execution_count": 83,
      "outputs": [
        {
          "output_type": "error",
          "ename": "AttributeError",
          "evalue": "ignored",
          "traceback": [
            "\u001b[0;31m---------------------------------------------------------------------------\u001b[0m",
            "\u001b[0;31mAttributeError\u001b[0m                            Traceback (most recent call last)",
            "\u001b[0;32m<ipython-input-83-071e21b6112f>\u001b[0m in \u001b[0;36m<module>\u001b[0;34m()\u001b[0m\n\u001b[0;32m----> 1\u001b[0;31m ee.Chart.image.doySeriesByYear({\n\u001b[0m\u001b[1;32m      2\u001b[0m                \u001b[0mimageCollection\u001b[0m\u001b[0;34m:\u001b[0m \u001b[0ma_double_crop_field_image_collection_NDVI1\u001b[0m\u001b[0;34m,\u001b[0m\u001b[0;34m\u001b[0m\u001b[0;34m\u001b[0m\u001b[0m\n\u001b[1;32m      3\u001b[0m                \u001b[0mbandName\u001b[0m\u001b[0;34m:\u001b[0m \u001b[0;34m'NDVI'\u001b[0m\u001b[0;34m,\u001b[0m\u001b[0;34m\u001b[0m\u001b[0;34m\u001b[0m\u001b[0m\n\u001b[1;32m      4\u001b[0m                \u001b[0mregionReducer\u001b[0m\u001b[0;34m:\u001b[0m \u001b[0mee\u001b[0m\u001b[0;34m.\u001b[0m\u001b[0mReducer\u001b[0m\u001b[0;34m.\u001b[0m\u001b[0mmean\u001b[0m\u001b[0;34m(\u001b[0m\u001b[0;34m)\u001b[0m\u001b[0;34m,\u001b[0m\u001b[0;34m\u001b[0m\u001b[0;34m\u001b[0m\u001b[0m\n\u001b[1;32m      5\u001b[0m                scale: 500});\n",
            "\u001b[0;31mAttributeError\u001b[0m: module 'ee' has no attribute 'Chart'"
          ]
        }
      ]
    },
    {
      "cell_type": "code",
      "metadata": {
        "id": "umQOtyYdI_yA",
        "colab_type": "code",
        "colab": {}
      },
      "source": [
        ""
      ],
      "execution_count": 0,
      "outputs": []
    }
  ]
}