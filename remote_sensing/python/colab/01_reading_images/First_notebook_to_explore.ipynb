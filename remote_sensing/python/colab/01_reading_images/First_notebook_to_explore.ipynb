{
 "cells": [
  {
   "cell_type": "code",
   "execution_count": null,
   "metadata": {
    "colab": {
     "base_uri": "https://localhost:8080/",
     "height": 175
    },
    "colab_type": "code",
    "executionInfo": {
     "elapsed": 18835,
     "status": "ok",
     "timestamp": 1579286049976,
     "user": {
      "displayName": "Hossein Noorazar",
      "photoUrl": "https://lh3.googleusercontent.com/a-/AAuE7mCD51X50VG0jXrChn3oUAWabpFgjnI_rX3bygPwilU=s64",
      "userId": "07953809792932992694"
     },
     "user_tz": 480
    },
    "id": "TT0CNCg8huP3",
    "outputId": "9bc707e9-aa22-4787-ef54-68bafcd14c6f"
   },
   "outputs": [],
   "source": [
    "# !pip install earthengine-api\n",
    "import ee\n",
    "ee.Authenticate()"
   ]
  },
  {
   "cell_type": "markdown",
   "metadata": {},
   "source": [
    "import numpy as np\n",
    "import pandas as pd\n",
    "\n",
    "import ee\n",
    "ee.Initialize()\n",
    "\n",
    "# Tensorflow setup.\n",
    "import tensorflow as tf\n",
    "\n",
    "tf.enable_eager_execution()\n",
    "print(tf.__version__)"
   ]
  },
  {
   "cell_type": "markdown",
   "metadata": {
    "colab_type": "text",
    "id": "PspzsIRvwcH4"
   },
   "source": [
    "# Source of some the code here is \n",
    "\n",
    "https://developers.google.com/earth-engine/python_install-colab"
   ]
  },
  {
   "cell_type": "code",
   "execution_count": 0,
   "metadata": {
    "colab": {},
    "colab_type": "code",
    "id": "giM0tGRdl2cl"
   },
   "outputs": [],
   "source": [
    "# Initialize the library.\n",
    "ee.Initialize()"
   ]
  },
  {
   "cell_type": "code",
   "execution_count": 0,
   "metadata": {
    "colab": {
     "base_uri": "https://localhost:8080/",
     "height": 64
    },
    "colab_type": "code",
    "executionInfo": {
     "elapsed": 5223,
     "status": "ok",
     "timestamp": 1579286060990,
     "user": {
      "displayName": "Hossein Noorazar",
      "photoUrl": "https://lh3.googleusercontent.com/a-/AAuE7mCD51X50VG0jXrChn3oUAWabpFgjnI_rX3bygPwilU=s64",
      "userId": "07953809792932992694"
     },
     "user_tz": 480
    },
    "id": "F0HljSBFpKvv",
    "outputId": "8b547a3f-f85e-44ec-9b3b-fb190f01a2df"
   },
   "outputs": [
    {
     "data": {
      "text/html": [
       "<p style=\"color: red;\">\n",
       "The default version of TensorFlow in Colab will soon switch to TensorFlow 2.x.<br>\n",
       "We recommend you <a href=\"https://www.tensorflow.org/guide/migrate\" target=\"_blank\">upgrade</a> now \n",
       "or ensure your notebook will continue to use TensorFlow 1.x via the <code>%tensorflow_version 1.x</code> magic:\n",
       "<a href=\"https://colab.research.google.com/notebooks/tensorflow_version.ipynb\" target=\"_blank\">more info</a>.</p>\n"
      ],
      "text/plain": [
       "<IPython.core.display.HTML object>"
      ]
     },
     "metadata": {
      "tags": []
     },
     "output_type": "display_data"
    }
   ],
   "source": [
    "import numpy as np\n",
    "import tensorflow as tp\n",
    "from IPython.display import Image\n",
    "import folium\n",
    "import matplotlib.pyplot as plt\n"
   ]
  },
  {
   "cell_type": "code",
   "execution_count": 0,
   "metadata": {
    "colab": {
     "base_uri": "https://localhost:8080/",
     "height": 35
    },
    "colab_type": "code",
    "executionInfo": {
     "elapsed": 1532,
     "status": "ok",
     "timestamp": 1579286062974,
     "user": {
      "displayName": "Hossein Noorazar",
      "photoUrl": "https://lh3.googleusercontent.com/a-/AAuE7mCD51X50VG0jXrChn3oUAWabpFgjnI_rX3bygPwilU=s64",
      "userId": "07953809792932992694"
     },
     "user_tz": 480
    },
    "id": "6aRE2_dKr8s1",
    "outputId": "36bfad7a-4153-4072-d3c2-88d6e4f5846c"
   },
   "outputs": [
    {
     "name": "stdout",
     "output_type": "stream",
     "text": [
      "Mount Everest elevation (m): 8729\n"
     ]
    }
   ],
   "source": [
    "# Test the API\n",
    "# Print the elevation of Mount Everest.\n",
    "dem = ee.Image('USGS/SRTMGL1_003')\n",
    "xy = ee.Geometry.Point([86.9250, 27.9881])\n",
    "elev = dem.sample(xy, 30).first().get('elevation').getInfo()\n",
    "print('Mount Everest elevation (m):', elev)"
   ]
  },
  {
   "cell_type": "code",
   "execution_count": 0,
   "metadata": {
    "colab": {
     "base_uri": "https://localhost:8080/",
     "height": 277
    },
    "colab_type": "code",
    "executionInfo": {
     "elapsed": 1271,
     "status": "ok",
     "timestamp": 1579286065740,
     "user": {
      "displayName": "Hossein Noorazar",
      "photoUrl": "https://lh3.googleusercontent.com/a-/AAuE7mCD51X50VG0jXrChn3oUAWabpFgjnI_rX3bygPwilU=s64",
      "userId": "07953809792932992694"
     },
     "user_tz": 480
    },
    "id": "UAaEW8eovNqn",
    "outputId": "ef0317ac-a10b-4376-b8e6-bcb04197dcad"
   },
   "outputs": [
    {
     "data": {
      "text/html": [
       "<img src=\"https://earthengine.googleapis.com/v1alpha/projects/earthengine-legacy/thumbnails/a83efcc1cdfd60835e6ed06b44440762-318dd9b8165c501e4b9a2447be23c6dc:getPixels\"/>"
      ],
      "text/plain": [
       "<IPython.core.display.Image object>"
      ]
     },
     "execution_count": 6,
     "metadata": {
      "tags": []
     },
     "output_type": "execute_result"
    }
   ],
   "source": [
    "# Import a DEM and display a thumbnail of it.\n",
    "dem = ee.Image('USGS/SRTMGL1_003')\n",
    "\n",
    "Image(url=dem.updateMask(dem.gt(0))\n",
    "  .getThumbUrl({'min': 0, 'max': 4000, 'dimensions': 512,\n",
    "                'palette': ['006633', 'E5FFCC', '662A00', 'D8D8D8', 'F5F5F5']}))"
   ]
  },
  {
   "cell_type": "code",
   "execution_count": null,
   "metadata": {
    "colab": {
     "base_uri": "https://localhost:8080/",
     "height": 836
    },
    "colab_type": "code",
    "executionInfo": {
     "elapsed": 1532,
     "status": "ok",
     "timestamp": 1579286099220,
     "user": {
      "displayName": "Hossein Noorazar",
      "photoUrl": "https://lh3.googleusercontent.com/a-/AAuE7mCD51X50VG0jXrChn3oUAWabpFgjnI_rX3bygPwilU=s64",
      "userId": "07953809792932992694"
     },
     "user_tz": 480
    },
    "id": "I51Of-SJv5as",
    "outputId": "63809215-3000-4991-83d4-0e1bda35f885"
   },
   "outputs": [],
   "source": [
    "# Import libraries.\n",
    "import ee\n",
    "import folium\n",
    "\n",
    "# Define a method for displaying Earth Engine image tiles to folium map.\n",
    "def add_ee_layer(self, ee_image_object, vis_params, name):\n",
    "  map_id_dict = ee.Image(ee_image_object).getMapId(vis_params)\n",
    "  folium.raster_layers.TileLayer(\n",
    "    tiles = map_id_dict['tile_fetcher'].url_format,\n",
    "    attr = \"Map Data © Google Earth Engine\",\n",
    "    name = name,\n",
    "    overlay = True,\n",
    "    control = True\n",
    "  ).add_to(self)\n",
    "\n",
    "# Add EE drawing method to folium.\n",
    "folium.Map.add_ee_layer = add_ee_layer\n",
    "\n",
    "# Fetch an elevation model.\n",
    "dem = ee.Image('USGS/SRTMGL1_003')\n",
    "# Set visualization parameters.\n",
    "vis_params = {\n",
    "  'min': 0,\n",
    "  'max': 4000,\n",
    "  'palette': ['006633', 'E5FFCC', '662A00', 'D8D8D8', 'F5F5F5']}\n",
    "\n",
    "# Create a folium map object.\n",
    "my_map = folium.Map(location=[20, 0], zoom_start=3, height=300)\n",
    "\n",
    "# Add the elevation model to the map object.\n",
    "my_map.add_ee_layer(dem.updateMask(dem.gt(0)), vis_params, 'DEM')\n",
    "\n",
    "# Add a layer control panel to the map.\n",
    "my_map.add_child(folium.LayerControl())\n",
    "\n",
    "# Display the map.\n",
    "display(my_map)"
   ]
  },
  {
   "cell_type": "code",
   "execution_count": 0,
   "metadata": {
    "colab": {
     "base_uri": "https://localhost:8080/",
     "height": 282
    },
    "colab_type": "code",
    "executionInfo": {
     "elapsed": 1260,
     "status": "ok",
     "timestamp": 1579286106917,
     "user": {
      "displayName": "Hossein Noorazar",
      "photoUrl": "https://lh3.googleusercontent.com/a-/AAuE7mCD51X50VG0jXrChn3oUAWabpFgjnI_rX3bygPwilU=s64",
      "userId": "07953809792932992694"
     },
     "user_tz": 480
    },
    "id": "YcBIpHxhv5UT",
    "outputId": "559a37d4-6737-4fb0-8f40-aa5ff42c5c7b"
   },
   "outputs": [
    {
     "data": {
      "image/png": "[encoded data removed]",
      "text/plain": [
       "<Figure size 432x288 with 1 Axes>"
      ]
     },
     "metadata": {
      "tags": []
     },
     "output_type": "display_data"
    }
   ],
   "source": [
    "# Fetch a Landsat image.\n",
    "img = ee.Image('LANDSAT/LT05/C01/T1_SR/LT05_034033_20000913')\n",
    "\n",
    "# Select Red and NIR bands, scale them, and sample 500 points.\n",
    "samp_fc = img.select(['B3','B4']).divide(10000).sample(scale=30, numPixels=500)\n",
    "\n",
    "# Arrange the sample as a list of lists.\n",
    "samp_dict = samp_fc.reduceColumns(ee.Reducer.toList().repeat(2), ['B3', 'B4'])\n",
    "samp_list = ee.List(samp_dict.get('list'))\n",
    "\n",
    "# Save server-side ee.List as a client-side Python list.\n",
    "samp_data = samp_list.getInfo()\n",
    "\n",
    "# Display a scatter plot of Red-NIR sample pairs using matplotlib.\n",
    "plt.scatter(samp_data[0], samp_data[1], alpha=0.2)\n",
    "plt.xlabel('Red', fontsize=12)\n",
    "plt.ylabel('NIR', fontsize=12)\n",
    "plt.show()"
   ]
  },
  {
   "cell_type": "markdown",
   "metadata": {
    "colab_type": "text",
    "id": "QIhz4Uwzghz0"
   },
   "source": [
    "# Functions\n",
    "1.   In this section we will define the functions we need\n",
    "\n"
   ]
  },
  {
   "cell_type": "code",
   "execution_count": 0,
   "metadata": {
    "colab": {},
    "colab_type": "code",
    "id": "hlvntD2ug8DE"
   },
   "outputs": [],
   "source": [
    "############################################################################\n",
    "#\n",
    "#    define an object of parameters for whatever you want to do\n",
    "#\n",
    "\n",
    "class Parameters:\n",
    "  def __init__(self, region_polygon, start_date, end_date, ndvi_bands= ['B4', 'B3']):\n",
    "    self.region_polygon = region_polygon\n",
    "    self.ndvi_bands = ndvi_bands\n",
    "    self.start_date = start_date\n",
    "    self.end_date = end_date\n",
    "\n",
    "############################################################################\n",
    "def addTime(image):\n",
    "  time_added = image.addBands(image.metadata('system:time_start').divide(1000 * 60 * 60 * 24 * 365))\n",
    "  return (time_added)\n",
    "\n",
    "############################################################################\n",
    "##\n",
    "##    compute NDVI index\n",
    "##\n",
    "\n",
    "def compute_collection_NDVI(image_collection):\n",
    "  collection_NVDI = image_collection.map(compute_image_NDVI)\n",
    "  return (collection_NVDI)\n",
    "\n",
    "def compute_image_NDVI(an_image, ndvi_bands=['B8', 'B4']):\n",
    "  image_NDVI = an_image.normalizedDifference(ndvi_bands).rename('NDVI')\n",
    "  return (image_NDVI)\n",
    "\n",
    "############################################################################\n",
    "##\n",
    "##    add NDVI index to the image collection\n",
    "##\n",
    "\n",
    "def add_NDVI_to_image_collection(image_collection):\n",
    "  return (image_collection.map(addNDVI))\n",
    "\n",
    "def add_NDVI_to_image_to_use_for_map(image, ndvi_bands=['B8', 'B4']):\n",
    "  ndvi = image.normalizedDifference(ndvi_bands).rename('NDVI');\n",
    "  return image.addBands(ndvi)\n",
    "\n"
   ]
  },
  {
   "cell_type": "code",
   "execution_count": 0,
   "metadata": {
    "colab": {},
    "colab_type": "code",
    "id": "oK2wl6zx94t-"
   },
   "outputs": [],
   "source": []
  },
  {
   "cell_type": "markdown",
   "metadata": {
    "colab_type": "text",
    "id": "ZUUcxTWjD5n7"
   },
   "source": [
    "# set up the image properties we want:\n",
    "  - sentinel 2 and its bands\n",
    "  - landsat and its bands (?)"
   ]
  },
  {
   "cell_type": "markdown",
   "metadata": {
    "colab_type": "text",
    "id": "fADIuBlfKcx-"
   },
   "source": [
    "# Example for downloading images of landsat:\n",
    "[Link to the example](https://stackoverflow.com/questions/39219705/how-to-download-images-using-google-earth-engines-python-api/41289973#41289973)\n",
    "\n",
    "  `llx = 116.2621`\n",
    "\n",
    "  `lly = 39.8412`\n",
    "  \n",
    "  `urx = 116.4849`\n",
    "\n",
    "  `ury = 40.01236`\n",
    "\n",
    "`geometry = ee.Geometry.Rectangle([116.2621, 39.8412, 116.4849, 40.01236])`\n",
    "`geometry = geometry['coordinates'][0]`\n",
    "\n",
    "`task_config = {\n",
    "    'description': 'imageToDriveExample',\n",
    "    'scale': 30,  \n",
    "    'region': geometry\n",
    "    }`\n",
    "\n",
    "`task = ee.batch.Export.image(landsat, 'exportExample', task_config)`\n",
    "\n",
    "`task.start()`"
   ]
  },
  {
   "cell_type": "code",
   "execution_count": 0,
   "metadata": {
    "colab": {},
    "colab_type": "code",
    "id": "4mO0QIatEJDM"
   },
   "outputs": [],
   "source": [
    "sentinel2A_all_bands = ['B1', 'B2', 'B3', 'B4', 'B5', 'B6', 'B7', 'B8', 'B9', 'B10', 'B11', 'B12', \n",
    "                        'AOT', 'WVP', 'SCL', 'TCI_R', 'TCI_G', \n",
    "                        'TCI_B', 'MSK_CLDPRB', 'MSK_SNWPRB', \n",
    "                        'QA10', 'QA20', 'QA60']\n",
    "                        \n",
    "RGB_bands = ['B4', 'B3', 'B2']\n",
    "sentinel2A_some_bands = ['B4', 'B3', 'B2', 'SCL', 'AOT']"
   ]
  },
  {
   "cell_type": "code",
   "execution_count": 0,
   "metadata": {
    "colab": {},
    "colab_type": "code",
    "id": "iOC6D9f4D0n2"
   },
   "outputs": [],
   "source": [
    "# Load a Sentinel 2 image and select three bands.\n",
    "sentinel_2A = ee.Image('COPERNICUS/S2').select(sentinel2A_some_bands);"
   ]
  },
  {
   "cell_type": "code",
   "execution_count": 0,
   "metadata": {
    "colab": {},
    "colab_type": "code",
    "id": "n2-sVtjcD02n"
   },
   "outputs": [],
   "source": [
    "# Load a landsat image and select three bands.\n",
    "landsat = ee.Image('LANDSAT/LC8_L1T_TOA/LC81230322014135LGN00').select(RGB_bands);"
   ]
  },
  {
   "cell_type": "code",
   "execution_count": 0,
   "metadata": {
    "colab": {},
    "colab_type": "code",
    "id": "3TTonXB-g6oZ"
   },
   "outputs": [],
   "source": [
    "DDD = [[-119.79749473988022, 45.90439345934826],\n",
    "       [-119.79766640125717, 45.90370660669838],\n",
    "       [-119.79762348591294, 45.90254192408789],\n",
    "       [-119.79697975574936, 45.901496675301104],\n",
    "       [-119.79577812611069, 45.90072019203491],\n",
    "       [-119.79423317371811, 45.90024235078123],\n",
    "       [-119.7924307292601, 45.90012288982523],\n",
    "       [-119.79075703083481, 45.900630597113086],\n",
    "       [-119.78946957050766, 45.90152653982524],\n",
    "       [-119.78882584034409, 45.90275097148382],\n",
    "       [-119.78869709431137, 45.90391564970881],\n",
    "       [-119.789169163098, 45.904811539409366],\n",
    "       [-119.78985580860581, 45.90531920382207],\n",
    "       [-119.79110035358872, 45.9058567257871],\n",
    "       [-119.7920874065062, 45.90624493285829],\n",
    "       [-119.79346069752182, 45.906334518719945],\n",
    "       [-119.7946623271605, 45.90615534685204],\n",
    "       [-119.79586395679917, 45.90567755237708],\n",
    "       [ -119.79697975574936, 45.90496085295384], \n",
    "      [-119.79749473988022, 45.90439345934826]\n",
    "]\n",
    "\n",
    "\n",
    "DDD = [\n",
    "       [-119.6407034633335, 46.24481372235483],\n",
    "       [-119.6408917723115, 46.24488458019852],\n",
    "       [-119.6410025340358, 46.24492625773868],\n",
    "       [-119.6409025226398, 46.24509979439763],\n",
    "       [-119.6403588110883, 46.24607095679298],\n",
    "       [-119.6378330575554, 46.24505154496256],\n",
    "       [-119.6378477085695, 46.24503421710987],\n",
    "       [-119.6375762996203, 46.24492301512146],\n",
    "       [-119.6378468749315, 46.24462749295479],\n",
    "       [-119.6386649272333, 46.24406085261441], \n",
    "       [-119.6396165642001, 46.24437708363979], \n",
    "       [-119.6407034633335, 46.24481372235483]\n",
    "]"
   ]
  },
  {
   "cell_type": "code",
   "execution_count": 0,
   "metadata": {
    "colab": {},
    "colab_type": "code",
    "id": "hAcz8kb-uegF"
   },
   "outputs": [],
   "source": [
    "a_double_crop_field_polygon = ee.Geometry.Polygon(DDD)"
   ]
  },
  {
   "cell_type": "code",
   "execution_count": 0,
   "metadata": {
    "colab": {},
    "colab_type": "code",
    "id": "x1qnsCLKlW7s"
   },
   "outputs": [],
   "source": [
    "# a_double_crop_field_polygon[\"coordinates\"][0]"
   ]
  },
  {
   "cell_type": "code",
   "execution_count": 0,
   "metadata": {
    "colab": {
     "base_uri": "https://localhost:8080/",
     "height": 35
    },
    "colab_type": "code",
    "executionInfo": {
     "elapsed": 412,
     "status": "ok",
     "timestamp": 1579123267028,
     "user": {
      "displayName": "Hossein Noorazar",
      "photoUrl": "https://lh3.googleusercontent.com/a-/AAuE7mCD51X50VG0jXrChn3oUAWabpFgjnI_rX3bygPwilU=s64",
      "userId": "07953809792932992694"
     },
     "user_tz": 480
    },
    "id": "FAPKTxDhl-RL",
    "outputId": "ccda7782-2e4b-43c5-c727-5876aa14c93d"
   },
   "outputs": [
    {
     "data": {
      "text/plain": [
       "12"
      ]
     },
     "execution_count": 25,
     "metadata": {
      "tags": []
     },
     "output_type": "execute_result"
    }
   ],
   "source": [
    "len(a_double_crop_field_polygon[\"coordinates\"][0])"
   ]
  },
  {
   "cell_type": "code",
   "execution_count": 0,
   "metadata": {
    "colab": {},
    "colab_type": "code",
    "id": "yqJOUto6gz4r"
   },
   "outputs": [],
   "source": [
    "# print(a_double_crop_field_polygon)"
   ]
  },
  {
   "cell_type": "code",
   "execution_count": 0,
   "metadata": {
    "colab": {},
    "colab_type": "code",
    "id": "8x-ZdFiqL6jq"
   },
   "outputs": [],
   "source": [
    "# we need to work on the following to get the damn images\n",
    "a_double_crop_field_image_collection = ee.ImageCollection('COPERNICUS/S2')"
   ]
  },
  {
   "cell_type": "code",
   "execution_count": 0,
   "metadata": {
    "colab": {
     "base_uri": "https://localhost:8080/",
     "height": 35
    },
    "colab_type": "code",
    "executionInfo": {
     "elapsed": 448,
     "status": "ok",
     "timestamp": 1579123280988,
     "user": {
      "displayName": "Hossein Noorazar",
      "photoUrl": "https://lh3.googleusercontent.com/a-/AAuE7mCD51X50VG0jXrChn3oUAWabpFgjnI_rX3bygPwilU=s64",
      "userId": "07953809792932992694"
     },
     "user_tz": 480
    },
    "id": "bV-rfqYcC-Z4",
    "outputId": "94cf6eb6-a3e0-4945-b75e-9c9edab6b294"
   },
   "outputs": [
    {
     "data": {
      "text/plain": [
       "<ee.imagecollection.ImageCollection at 0x7fdb89102208>"
      ]
     },
     "execution_count": 28,
     "metadata": {
      "tags": []
     },
     "output_type": "execute_result"
    }
   ],
   "source": [
    "start_date = '2018-03-1'\n",
    "end_date = '2018-10-30'\n",
    "a_double_crop_field_image_collection = ee.ImageCollection('COPERNICUS/S2').filter( # searches all sentinel 2 imagery pixels...\n",
    "                                                      ee.Filter.lt(\"CLOUDY_PIXEL_PERCENTAGE\", \n",
    "                                                                   10)).filterDate( start_date,\n",
    "                                                                                    end_date).filterBounds(\n",
    "                                                                                                  a_double_crop_field_polygon)\n",
    "\n",
    "a_double_crop_field_image_collection"
   ]
  },
  {
   "cell_type": "code",
   "execution_count": 0,
   "metadata": {
    "colab": {
     "base_uri": "https://localhost:8080/",
     "height": 52
    },
    "colab_type": "code",
    "executionInfo": {
     "elapsed": 953,
     "status": "ok",
     "timestamp": 1579123282761,
     "user": {
      "displayName": "Hossein Noorazar",
      "photoUrl": "https://lh3.googleusercontent.com/a-/AAuE7mCD51X50VG0jXrChn3oUAWabpFgjnI_rX3bygPwilU=s64",
      "userId": "07953809792932992694"
     },
     "user_tz": 480
    },
    "id": "Er8CmXdggupG",
    "outputId": "7257298e-37b4-4fdd-e3d4-65ce19e6d357"
   },
   "outputs": [
    {
     "name": "stdout",
     "output_type": "stream",
     "text": [
      "Count:  45\n",
      "\n"
     ]
    }
   ],
   "source": [
    "count = a_double_crop_field_image_collection.size()\n",
    "print('Count: ', str(count.getInfo())+'\\n')"
   ]
  },
  {
   "cell_type": "code",
   "execution_count": 0,
   "metadata": {
    "colab": {
     "base_uri": "https://localhost:8080/",
     "height": 484
    },
    "colab_type": "code",
    "executionInfo": {
     "elapsed": 7958,
     "status": "ok",
     "timestamp": 1579122906108,
     "user": {
      "displayName": "Hossein Noorazar",
      "photoUrl": "https://lh3.googleusercontent.com/a-/AAuE7mCD51X50VG0jXrChn3oUAWabpFgjnI_rX3bygPwilU=s64",
      "userId": "07953809792932992694"
     },
     "user_tz": 480
    },
    "id": "Ej0SW3TFlBF8",
    "outputId": "6f1fbfc6-a2be-466f-f94d-13f51f094b48"
   },
   "outputs": [
    {
     "name": "stdout",
     "output_type": "stream",
     "text": [
      "Collecting geetools\n",
      "\u001b[?25l  Downloading https://files.pythonhosted.org/packages/7b/2a/e70f2cddfc6e2372edcee29579f182d32fa4a03f8eafd38b74e97f7f7226/geetools-0.4.13.tar.gz (73kB)\n",
      "\u001b[K     |████████████████████████████████| 81kB 2.9MB/s \n",
      "\u001b[?25hRequirement already satisfied: requests in /usr/local/lib/python3.6/dist-packages (from geetools) (2.21.0)\n",
      "Requirement already satisfied: Pillow in /usr/local/lib/python3.6/dist-packages (from geetools) (6.2.2)\n",
      "Collecting pyshp\n",
      "\u001b[?25l  Downloading https://files.pythonhosted.org/packages/27/16/3bf15aa864fb77845fab8007eda22c2bd67bd6c1fd13496df452c8c43621/pyshp-2.1.0.tar.gz (215kB)\n",
      "\u001b[K     |████████████████████████████████| 225kB 10.1MB/s \n",
      "\u001b[?25hRequirement already satisfied: pandas in /usr/local/lib/python3.6/dist-packages (from geetools) (0.25.3)\n",
      "Requirement already satisfied: urllib3<1.25,>=1.21.1 in /usr/local/lib/python3.6/dist-packages (from requests->geetools) (1.24.3)\n",
      "Requirement already satisfied: idna<2.9,>=2.5 in /usr/local/lib/python3.6/dist-packages (from requests->geetools) (2.8)\n",
      "Requirement already satisfied: certifi>=2017.4.17 in /usr/local/lib/python3.6/dist-packages (from requests->geetools) (2019.11.28)\n",
      "Requirement already satisfied: chardet<3.1.0,>=3.0.2 in /usr/local/lib/python3.6/dist-packages (from requests->geetools) (3.0.4)\n",
      "Requirement already satisfied: numpy>=1.13.3 in /usr/local/lib/python3.6/dist-packages (from pandas->geetools) (1.17.5)\n",
      "Requirement already satisfied: python-dateutil>=2.6.1 in /usr/local/lib/python3.6/dist-packages (from pandas->geetools) (2.6.1)\n",
      "Requirement already satisfied: pytz>=2017.2 in /usr/local/lib/python3.6/dist-packages (from pandas->geetools) (2018.9)\n",
      "Requirement already satisfied: six>=1.5 in /usr/local/lib/python3.6/dist-packages (from python-dateutil>=2.6.1->pandas->geetools) (1.12.0)\n",
      "Building wheels for collected packages: geetools, pyshp\n",
      "  Building wheel for geetools (setup.py) ... \u001b[?25l\u001b[?25hdone\n",
      "  Created wheel for geetools: filename=geetools-0.4.13-cp36-none-any.whl size=96146 sha256=0d9d2cac83964279c29ddde642e7922f84c21bab8e19224d424eb5155432c008\n",
      "  Stored in directory: /root/.cache/pip/wheels/02/89/a3/1cceb1525740f73dd5caa9e09cb8821f1113881ca84832fee6\n",
      "  Building wheel for pyshp (setup.py) ... \u001b[?25l\u001b[?25hdone\n",
      "  Created wheel for pyshp: filename=pyshp-2.1.0-cp36-none-any.whl size=32607 sha256=7f9e184f3d09ea72a91eaffebca9d10f7cf7bf68989ea3ae8f33a321b780147f\n",
      "  Stored in directory: /root/.cache/pip/wheels/a6/0c/de/321b5192ad416b328975a2f0385f72c64db4656501eba7cc1a\n",
      "Successfully built geetools pyshp\n",
      "Installing collected packages: pyshp, geetools\n",
      "Successfully installed geetools-0.4.13 pyshp-2.1.0\n"
     ]
    }
   ],
   "source": [
    "!pip install geetools\n",
    "from geetools import batch"
   ]
  },
  {
   "cell_type": "code",
   "execution_count": 0,
   "metadata": {
    "colab": {
     "base_uri": "https://localhost:8080/",
     "height": 165
    },
    "colab_type": "code",
    "executionInfo": {
     "elapsed": 674,
     "status": "error",
     "timestamp": 1579046490667,
     "user": {
      "displayName": "Hossein Noorazar",
      "photoUrl": "https://lh3.googleusercontent.com/a-/AAuE7mCD51X50VG0jXrChn3oUAWabpFgjnI_rX3bygPwilU=s64",
      "userId": "07953809792932992694"
     },
     "user_tz": 480
    },
    "id": "AT-K8FU-lP2f",
    "outputId": "c9d0c35b-0116-43ee-a272-ed98d59e969c"
   },
   "outputs": [
    {
     "ename": "AttributeError",
     "evalue": "ignored",
     "output_type": "error",
     "traceback": [
      "\u001b[0;31m---------------------------------------------------------------------------\u001b[0m",
      "\u001b[0;31mAttributeError\u001b[0m                            Traceback (most recent call last)",
      "\u001b[0;32m<ipython-input-19-ab3432414633>\u001b[0m in \u001b[0;36m<module>\u001b[0;34m()\u001b[0m\n\u001b[0;32m----> 1\u001b[0;31m \u001b[0mtasklist\u001b[0m \u001b[0;34m=\u001b[0m \u001b[0mbatch\u001b[0m\u001b[0;34m.\u001b[0m\u001b[0mImageCollection\u001b[0m\u001b[0;34m.\u001b[0m\u001b[0mtoDrive\u001b[0m\u001b[0;34m(\u001b[0m\u001b[0ma_double_crop_field_image_collection\u001b[0m\u001b[0;34m,\u001b[0m \u001b[0mfolder\u001b[0m\u001b[0;34m=\u001b[0m\u001b[0;34m'Sentinel_Images_off_EE'\u001b[0m\u001b[0;34m,\u001b[0m \u001b[0mscale\u001b[0m\u001b[0;34m=\u001b[0m\u001b[0;36m10\u001b[0m\u001b[0;34m)\u001b[0m\u001b[0;34m\u001b[0m\u001b[0;34m\u001b[0m\u001b[0m\n\u001b[0m",
      "\u001b[0;31mAttributeError\u001b[0m: module 'geetools.batch' has no attribute 'ImageCollection'"
     ]
    }
   ],
   "source": [
    "tasklist = batch.ImageCollection.toDrive(a_double_crop_field_image_collection, folder='Sentinel_Images_off_EE', scale=10)"
   ]
  },
  {
   "cell_type": "code",
   "execution_count": 0,
   "metadata": {
    "colab": {},
    "colab_type": "code",
    "id": "OT7RkBHojU3u"
   },
   "outputs": [],
   "source": []
  },
  {
   "cell_type": "code",
   "execution_count": 0,
   "metadata": {
    "colab": {},
    "colab_type": "code",
    "id": "DlLrIcwowBUL"
   },
   "outputs": [],
   "source": []
  },
  {
   "cell_type": "code",
   "execution_count": 0,
   "metadata": {
    "colab": {
     "base_uri": "https://localhost:8080/",
     "height": 55
    },
    "colab_type": "code",
    "executionInfo": {
     "elapsed": 824,
     "status": "ok",
     "timestamp": 1579046511104,
     "user": {
      "displayName": "Hossein Noorazar",
      "photoUrl": "https://lh3.googleusercontent.com/a-/AAuE7mCD51X50VG0jXrChn3oUAWabpFgjnI_rX3bygPwilU=s64",
      "userId": "07953809792932992694"
     },
     "user_tz": 480
    },
    "id": "rvnixPPpj3q6",
    "outputId": "a51f163e-1995-4e0d-876b-ab540c5033fb"
   },
   "outputs": [
    {
     "data": {
      "text/plain": [
       "\"\\n# \\n# Matt Pruet from Java\\n\\nExport.table.toDrive({\\n\\n  collection: a_double_crop_field_image_collection,\\n\\n  description: 'a_double_crop_field_image_collection',\\n\\n  fileFormat: 'CSV'\\n\\n});\\n\""
      ]
     },
     "execution_count": 20,
     "metadata": {
      "tags": []
     },
     "output_type": "execute_result"
    }
   ],
   "source": [
    "# Export to drive\n",
    "\"\"\"\n",
    "# \n",
    "# Matt Pruet from Java\n",
    "\n",
    "Export.table.toDrive({\n",
    "\n",
    "  collection: a_double_crop_field_image_collection,\n",
    "\n",
    "  description: 'a_double_crop_field_image_collection',\n",
    "\n",
    "  fileFormat: 'CSV'\n",
    "\n",
    "});\n",
    "\"\"\""
   ]
  },
  {
   "cell_type": "code",
   "execution_count": 0,
   "metadata": {
    "colab": {
     "base_uri": "https://localhost:8080/",
     "height": 55
    },
    "colab_type": "code",
    "executionInfo": {
     "elapsed": 2032,
     "status": "ok",
     "timestamp": 1579046512655,
     "user": {
      "displayName": "Hossein Noorazar",
      "photoUrl": "https://lh3.googleusercontent.com/a-/AAuE7mCD51X50VG0jXrChn3oUAWabpFgjnI_rX3bygPwilU=s64",
      "userId": "07953809792932992694"
     },
     "user_tz": 480
    },
    "id": "t-KNk7XlGF-l",
    "outputId": "e98cc046-c073-44f3-be85-58e1c329da8c"
   },
   "outputs": [
    {
     "name": "stdout",
     "output_type": "stream",
     "text": [
      "[{'type': 'Image', 'bands': [{'id': 'B1', 'data_type': {'type': 'PixelType', 'precision': 'int', 'min': 0, 'max': 65535}, 'dimensions': [1830, 1830], 'crs': 'EPSG:32610', 'crs_transform': [60, 0, 699960, 0, -60, 5100000]}, {'id': 'B2', 'data_type': {'type': 'PixelType', 'precision': 'int', 'min': 0, 'max': 65535}, 'dimensions': [10980, 10980], 'crs': 'EPSG:32610', 'crs_transform': [10, 0, 699960, 0, -10, 5100000]}, {'id': 'B3', 'data_type': {'type': 'PixelType', 'precision': 'int', 'min': 0, 'max': 65535}, 'dimensions': [10980, 10980], 'crs': 'EPSG:32610', 'crs_transform': [10, 0, 699960, 0, -10, 5100000]}, {'id': 'B4', 'data_type': {'type': 'PixelType', 'precision': 'int', 'min': 0, 'max': 65535}, 'dimensions': [10980, 10980], 'crs': 'EPSG:32610', 'crs_transform': [10, 0, 699960, 0, -10, 5100000]}, {'id': 'B5', 'data_type': {'type': 'PixelType', 'precision': 'int', 'min': 0, 'max': 65535}, 'dimensions': [5490, 5490], 'crs': 'EPSG:32610', 'crs_transform': [20, 0, 699960, 0, -20, 5100000]}, {'id': 'B6', 'data_type': {'type': 'PixelType', 'precision': 'int', 'min': 0, 'max': 65535}, 'dimensions': [5490, 5490], 'crs': 'EPSG:32610', 'crs_transform': [20, 0, 699960, 0, -20, 5100000]}, {'id': 'B7', 'data_type': {'type': 'PixelType', 'precision': 'int', 'min': 0, 'max': 65535}, 'dimensions': [5490, 5490], 'crs': 'EPSG:32610', 'crs_transform': [20, 0, 699960, 0, -20, 5100000]}, {'id': 'B8', 'data_type': {'type': 'PixelType', 'precision': 'int', 'min': 0, 'max': 65535}, 'dimensions': [10980, 10980], 'crs': 'EPSG:32610', 'crs_transform': [10, 0, 699960, 0, -10, 5100000]}, {'id': 'B8A', 'data_type': {'type': 'PixelType', 'precision': 'int', 'min': 0, 'max': 65535}, 'dimensions': [5490, 5490], 'crs': 'EPSG:32610', 'crs_transform': [20, 0, 699960, 0, -20, 5100000]}, {'id': 'B9', 'data_type': {'type': 'PixelType', 'precision': 'int', 'min': 0, 'max': 65535}, 'dimensions': [1830, 1830], 'crs': 'EPSG:32610', 'crs_transform': [60, 0, 699960, 0, -60, 5100000]}, {'id': 'B10', 'data_type': {'type': 'PixelType', 'precision': 'int', 'min': 0, 'max': 65535}, 'dimensions': [1830, 1830], 'crs': 'EPSG:32610', 'crs_transform': [60, 0, 699960, 0, -60, 5100000]}, {'id': 'B11', 'data_type': {'type': 'PixelType', 'precision': 'int', 'min': 0, 'max': 65535}, 'dimensions': [5490, 5490], 'crs': 'EPSG:32610', 'crs_transform': [20, 0, 699960, 0, -20, 5100000]}, {'id': 'B12', 'data_type': {'type': 'PixelType', 'precision': 'int', 'min': 0, 'max': 65535}, 'dimensions': [5490, 5490], 'crs': 'EPSG:32610', 'crs_transform': [20, 0, 699960, 0, -20, 5100000]}, {'id': 'QA10', 'data_type': {'type': 'PixelType', 'precision': 'int', 'min': 0, 'max': 65535}, 'dimensions': [10980, 10980], 'crs': 'EPSG:32610', 'crs_transform': [10, 0, 699960, 0, -10, 5100000]}, {'id': 'QA20', 'data_type': {'type': 'PixelType', 'precision': 'int', 'min': 0, 'max': 4294967295}, 'dimensions': [5490, 5490], 'crs': 'EPSG:32610', 'crs_transform': [20, 0, 699960, 0, -20, 5100000]}, {'id': 'QA60', 'data_type': {'type': 'PixelType', 'precision': 'int', 'min': 0, 'max': 65535}, 'dimensions': [1830, 1830], 'crs': 'EPSG:32610', 'crs_transform': [60, 0, 699960, 0, -60, 5100000]}], 'id': 'COPERNICUS/S2/20180306T185231_20180306T185400_T10TGR', 'version': 1525641859902246, 'properties': {'DATATAKE_IDENTIFIER': 'GS2A_20180306T185231_014124_N02.06', 'SPACECRAFT_NAME': 'Sentinel-2A', 'MEAN_INCIDENCE_AZIMUTH_ANGLE_B8A': 110.698575558, 'MEAN_SOLAR_AZIMUTH_ANGLE': 158.590671239, 'system:footprint': {'type': 'LinearRing', 'coordinates': [[-120.41657559562707, 46.024390200286305], [-120.41658038301405, 46.024375534127586], [-120.43928743721263, 45.53081825011564], [-120.4614124704672, 45.03721706870636], [-120.46136252938089, 45.03717450025587], [-120.46132063552159, 45.037127844657405], [-120.46129986027638, 45.037124568011976], [-119.07021360813172, 44.99768606286748], [-119.07015260429186, 44.99772060211089], [-119.07008590370228, 44.9977494437377], [-119.07008087409673, 44.997764086998416], [-119.05309684508028, 45.24423985198358], [-119.03589250308471, 45.490692325555585], [-119.01846403670267, 45.737128992612746], [-119.00080765759417, 45.98354973136844], [-119.00085718442995, 45.98359296543167], [-119.0008985995177, 45.98364018673813], [-119.0009196715337, 45.983643762846285], [-120.4164469916696, 46.02445500956255], [-120.41650836718318, 46.02441982843817], [-120.41657559562707, 46.024390200286305]]}, 'SOLAR_IRRADIANCE_B12': 85.25, 'SOLAR_IRRADIANCE_B10': 367.15, 'SOLAR_IRRADIANCE_B11': 245.59, 'GENERATION_TIME': 1520375359000, 'quality_check': 'PASSED', 'SOLAR_IRRADIANCE_B8A': 955.32, 'CLOUD_COVERAGE_ASSESSMENT': 0.0036, 'system:time_end': 1520362440040, 'system:time_start': 1520362440040, 'DATASTRIP_ID': 'S2A_OPER_MSI_L1C_DS_SGS__20180306T222919_S20180306T185400_N02.06', 'PROCESSING_BASELINE': '02.06', 'SENSING_ORBIT_NUMBER': 113, 'SENSING_ORBIT_DIRECTION': 'DESCENDING', 'GRANULE_ID': 'L1C_T10TGR_A014124_20180306T185400', 'REFLECTANCE_CONVERSION_CORRECTION': 1.01800363954, 'MEAN_INCIDENCE_AZIMUTH_ANGLE_B8': 114.779862486, 'DATATAKE_TYPE': 'INS-NOBS', 'MEAN_INCIDENCE_AZIMUTH_ANGLE_B9': 110.307238445, 'MEAN_INCIDENCE_AZIMUTH_ANGLE_B6': 111.39955017, 'MEAN_INCIDENCE_AZIMUTH_ANGLE_B7': 111.022356465, 'MEAN_INCIDENCE_AZIMUTH_ANGLE_B4': 112.440788923, 'MEAN_INCIDENCE_ZENITH_ANGLE_B1': 4.24481699772, 'MEAN_INCIDENCE_AZIMUTH_ANGLE_B5': 111.898525724, 'MEAN_INCIDENCE_AZIMUTH_ANGLE_B2': 116.034090613, 'MEAN_INCIDENCE_AZIMUTH_ANGLE_B3': 113.781820246, 'MEAN_INCIDENCE_ZENITH_ANGLE_B5': 3.95720993323, 'MEAN_INCIDENCE_AZIMUTH_ANGLE_B1': 110.540843738, 'MEAN_INCIDENCE_ZENITH_ANGLE_B4': 3.89534479138, 'MEAN_INCIDENCE_ZENITH_ANGLE_B3': 3.8002954406, 'MEAN_INCIDENCE_ZENITH_ANGLE_B2': 3.70915426102, 'MEAN_INCIDENCE_ZENITH_ANGLE_B9': 4.32525319133, 'MEAN_INCIDENCE_ZENITH_ANGLE_B8': 3.75183708598, 'MEAN_INCIDENCE_ZENITH_ANGLE_B7': 4.09583501958, 'MEAN_INCIDENCE_ZENITH_ANGLE_B6': 4.02649500011, 'MEAN_SOLAR_ZENITH_ANGLE': 53.2088309023, 'MEAN_INCIDENCE_ZENITH_ANGLE_B8A': 4.16822304028, 'MGRS_TILE': '10TGR', 'CLOUDY_PIXEL_PERCENTAGE': 0.0036, 'PRODUCT_ID': 'S2A_MSIL1C_20180306T185231_N0206_R113_T10TGR_20180306T222919', 'MEAN_INCIDENCE_ZENITH_ANGLE_B10': 3.8856797186, 'SOLAR_IRRADIANCE_B9': 812.92, 'DEGRADED_MSI_DATA_PERCENTAGE': 0, 'MEAN_INCIDENCE_ZENITH_ANGLE_B11': 4.03206210547, 'MEAN_INCIDENCE_ZENITH_ANGLE_B12': 4.20079354155, 'SOLAR_IRRADIANCE_B6': 1287.61, 'MEAN_INCIDENCE_AZIMUTH_ANGLE_B10': 112.401896201, 'SOLAR_IRRADIANCE_B5': 1424.64, 'MEAN_INCIDENCE_AZIMUTH_ANGLE_B11': 110.899514312, 'SOLAR_IRRADIANCE_B8': 1041.63, 'MEAN_INCIDENCE_AZIMUTH_ANGLE_B12': 110.066367635, 'SOLAR_IRRADIANCE_B7': 1162.08, 'SOLAR_IRRADIANCE_B2': 1959.72, 'SOLAR_IRRADIANCE_B1': 1884.69, 'SOLAR_IRRADIANCE_B4': 1512.06, 'SOLAR_IRRADIANCE_B3': 1823.24, 'system:asset_size': 1316832369, 'system:index': '20180306T185231_20180306T185400_T10TGR'}}, {'type': 'Image', 'bands': [{'id': 'B1', 'data_type': {'type': 'PixelType', 'precision': 'int', 'min': 0, 'max': 65535}, 'dimensions': [1830, 1830], 'crs': 'EPSG:32610', 'crs_transform': [60, 0, 699960, 0, -60, 5100000]}, {'id': 'B2', 'data_type': {'type': 'PixelType', 'precision': 'int', 'min': 0, 'max': 65535}, 'dimensions': [10980, 10980], 'crs': 'EPSG:32610', 'crs_transform': [10, 0, 699960, 0, -10, 5100000]}, {'id': 'B3', 'data_type': {'type': 'PixelType', 'precision': 'int', 'min': 0, 'max': 65535}, 'dimensions': [10980, 10980], 'crs': 'EPSG:32610', 'crs_transform': [10, 0, 699960, 0, -10, 5100000]}, {'id': 'B4', 'data_type': {'type': 'PixelType', 'precision': 'int', 'min': 0, 'max': 65535}, 'dimensions': [10980, 10980], 'crs': 'EPSG:32610', 'crs_transform': [10, 0, 699960, 0, -10, 5100000]}, {'id': 'B5', 'data_type': {'type': 'PixelType', 'precision': 'int', 'min': 0, 'max': 65535}, 'dimensions': [5490, 5490], 'crs': 'EPSG:32610', 'crs_transform': [20, 0, 699960, 0, -20, 5100000]}, {'id': 'B6', 'data_type': {'type': 'PixelType', 'precision': 'int', 'min': 0, 'max': 65535}, 'dimensions': [5490, 5490], 'crs': 'EPSG:32610', 'crs_transform': [20, 0, 699960, 0, -20, 5100000]}, {'id': 'B7', 'data_type': {'type': 'PixelType', 'precision': 'int', 'min': 0, 'max': 65535}, 'dimensions': [5490, 5490], 'crs': 'EPSG:32610', 'crs_transform': [20, 0, 699960, 0, -20, 5100000]}, {'id': 'B8', 'data_type': {'type': 'PixelType', 'precision': 'int', 'min': 0, 'max': 65535}, 'dimensions': [10980, 10980], 'crs': 'EPSG:32610', 'crs_transform': [10, 0, 699960, 0, -10, 5100000]}, {'id': 'B8A', 'data_type': {'type': 'PixelType', 'precision': 'int', 'min': 0, 'max': 65535}, 'dimensions': [5490, 5490], 'crs': 'EPSG:32610', 'crs_transform': [20, 0, 699960, 0, -20, 5100000]}, {'id': 'B9', 'data_type': {'type': 'PixelType', 'precision': 'int', 'min': 0, 'max': 65535}, 'dimensions': [1830, 1830], 'crs': 'EPSG:32610', 'crs_transform': [60, 0, 699960, 0, -60, 5100000]}, {'id': 'B10', 'data_type': {'type': 'PixelType', 'precision': 'int', 'min': 0, 'max': 65535}, 'dimensions': [1830, 1830], 'crs': 'EPSG:32610', 'crs_transform': [60, 0, 699960, 0, -60, 5100000]}, {'id': 'B11', 'data_type': {'type': 'PixelType', 'precision': 'int', 'min': 0, 'max': 65535}, 'dimensions': [5490, 5490], 'crs': 'EPSG:32610', 'crs_transform': [20, 0, 699960, 0, -20, 5100000]}, {'id': 'B12', 'data_type': {'type': 'PixelType', 'precision': 'int', 'min': 0, 'max': 65535}, 'dimensions': [5490, 5490], 'crs': 'EPSG:32610', 'crs_transform': [20, 0, 699960, 0, -20, 5100000]}, {'id': 'QA10', 'data_type': {'type': 'PixelType', 'precision': 'int', 'min': 0, 'max': 65535}, 'dimensions': [10980, 10980], 'crs': 'EPSG:32610', 'crs_transform': [10, 0, 699960, 0, -10, 5100000]}, {'id': 'QA20', 'data_type': {'type': 'PixelType', 'precision': 'int', 'min': 0, 'max': 4294967295}, 'dimensions': [5490, 5490], 'crs': 'EPSG:32610', 'crs_transform': [20, 0, 699960, 0, -20, 5100000]}, {'id': 'QA60', 'data_type': {'type': 'PixelType', 'precision': 'int', 'min': 0, 'max': 65535}, 'dimensions': [1830, 1830], 'crs': 'EPSG:32610', 'crs_transform': [60, 0, 699960, 0, -60, 5100000]}], 'id': 'COPERNICUS/S2/20180311T185149_20180311T190028_T10TGR', 'version': 1521101384260067, 'properties': {'DATATAKE_IDENTIFIER': 'GS2B_20180311T185149_005287_N02.06', 'SPACECRAFT_NAME': 'Sentinel-2B', 'MEAN_INCIDENCE_AZIMUTH_ANGLE_B8A': 109.892497185, 'MEAN_SOLAR_AZIMUTH_ANGLE': 158.308963345, 'system:footprint': {'type': 'LinearRing', 'coordinates': [[-120.41657559562707, 46.024390200286305], [-120.41658038301405, 46.024375534127586], [-120.43928743721263, 45.53081825011564], [-120.4614124704672, 45.03721706870636], [-120.46136252938089, 45.03717450025587], [-120.46132063552159, 45.037127844657405], [-120.46129986027638, 45.037124568011976], [-119.07021360813172, 44.99768606286748], [-119.07015260429186, 44.99772060211089], [-119.07008590370228, 44.9977494437377], [-119.07008087409673, 44.997764086998416], [-119.05309684508028, 45.24423985198358], [-119.03589250308471, 45.490692325555585], [-119.01846403670267, 45.737128992612746], [-119.00080765759417, 45.98354973136844], [-119.00085718442995, 45.98359296543167], [-119.0008985995177, 45.98364018673813], [-119.0009196715337, 45.983643762846285], [-120.4164469916696, 46.02445500956255], [-120.41650836718318, 46.02441982843817], [-120.41657559562707, 46.024390200286305]]}, 'SOLAR_IRRADIANCE_B12': 87.75, 'SOLAR_IRRADIANCE_B10': 365.41, 'SOLAR_IRRADIANCE_B11': 247.08, 'GENERATION_TIME': 1520806576000, 'quality_check': 'PASSED', 'SOLAR_IRRADIANCE_B8A': 953.93, 'CLOUD_COVERAGE_ASSESSMENT': 1.6566, 'system:time_end': 1520794828370, 'system:time_start': 1520794828370, 'DATASTRIP_ID': 'S2B_OPER_MSI_L1C_DS_MTI__20180311T221616_S20180311T190028_N02.06', 'PROCESSING_BASELINE': '02.06', 'SENSING_ORBIT_NUMBER': 113, 'SENSING_ORBIT_DIRECTION': 'DESCENDING', 'GRANULE_ID': 'L1C_T10TGR_A005287_20180311T190028', 'REFLECTANCE_CONVERSION_CORRECTION': 1.01543972162, 'MEAN_INCIDENCE_AZIMUTH_ANGLE_B8': 114.374126988, 'DATATAKE_TYPE': 'INS-NOBS', 'MEAN_INCIDENCE_AZIMUTH_ANGLE_B9': 109.426313859, 'MEAN_INCIDENCE_AZIMUTH_ANGLE_B6': 110.736336567, 'MEAN_INCIDENCE_AZIMUTH_ANGLE_B7': 110.257213857, 'MEAN_INCIDENCE_AZIMUTH_ANGLE_B4': 111.839436798, 'MEAN_INCIDENCE_ZENITH_ANGLE_B1': 4.32341958651, 'MEAN_INCIDENCE_AZIMUTH_ANGLE_B5': 111.246906654, 'MEAN_INCIDENCE_AZIMUTH_ANGLE_B2': 115.742607977, 'MEAN_INCIDENCE_AZIMUTH_ANGLE_B3': 113.319053444, 'MEAN_INCIDENCE_ZENITH_ANGLE_B5': 4.04722199512, 'MEAN_INCIDENCE_AZIMUTH_ANGLE_B1': 109.695404343, 'MEAN_INCIDENCE_ZENITH_ANGLE_B4': 3.98681728316, 'MEAN_INCIDENCE_ZENITH_ANGLE_B3': 3.88747830187, 'MEAN_INCIDENCE_ZENITH_ANGLE_B2': 3.80687773049, 'MEAN_INCIDENCE_ZENITH_ANGLE_B9': 4.40291696209, 'MEAN_INCIDENCE_ZENITH_ANGLE_B8': 3.84765135327, 'MEAN_INCIDENCE_ZENITH_ANGLE_B7': 4.17631934519, 'MEAN_INCIDENCE_ZENITH_ANGLE_B6': 4.11148820523, 'MEAN_SOLAR_ZENITH_ANGLE': 51.2451911038, 'MEAN_INCIDENCE_ZENITH_ANGLE_B8A': 4.24758084514, 'MGRS_TILE': '10TGR', 'CLOUDY_PIXEL_PERCENTAGE': 1.6566, 'PRODUCT_ID': 'S2B_MSIL1C_20180311T185149_N0206_R113_T10TGR_20180311T221616', 'MEAN_INCIDENCE_ZENITH_ANGLE_B10': 3.956832555, 'SOLAR_IRRADIANCE_B9': 817.58, 'DEGRADED_MSI_DATA_PERCENTAGE': 0, 'MEAN_INCIDENCE_ZENITH_ANGLE_B11': 4.1019559497, 'MEAN_INCIDENCE_ZENITH_ANGLE_B12': 4.26793968229, 'SOLAR_IRRADIANCE_B6': 1291.13, 'MEAN_INCIDENCE_AZIMUTH_ANGLE_B10': 112.358710473, 'SOLAR_IRRADIANCE_B5': 1425.78, 'MEAN_INCIDENCE_AZIMUTH_ANGLE_B11': 110.905747309, 'SOLAR_IRRADIANCE_B8': 1041.28, 'MEAN_INCIDENCE_AZIMUTH_ANGLE_B12': 109.978351192, 'SOLAR_IRRADIANCE_B7': 1175.57, 'SOLAR_IRRADIANCE_B2': 1959.77, 'SOLAR_IRRADIANCE_B1': 1874.3, 'SOLAR_IRRADIANCE_B4': 1512.79, 'SOLAR_IRRADIANCE_B3': 1824.93, 'system:asset_size': 1282534094, 'system:index': '20180311T185149_20180311T190028_T10TGR'}}, {'type': 'Image', 'bands': [{'id': 'B1', 'data_type': {'type': 'PixelType', 'precision': 'int', 'min': 0, 'max': 65535}, 'dimensions': [1830, 1830], 'crs': 'EPSG:32610', 'crs_transform': [60, 0, 699960, 0, -60, 5100000]}, {'id': 'B2', 'data_type': {'type': 'PixelType', 'precision': 'int', 'min': 0, 'max': 65535}, 'dimensions': [10980, 10980], 'crs': 'EPSG:32610', 'crs_transform': [10, 0, 699960, 0, -10, 5100000]}, {'id': 'B3', 'data_type': {'type': 'PixelType', 'precision': 'int', 'min': 0, 'max': 65535}, 'dimensions': [10980, 10980], 'crs': 'EPSG:32610', 'crs_transform': [10, 0, 699960, 0, -10, 5100000]}, {'id': 'B4', 'data_type': {'type': 'PixelType', 'precision': 'int', 'min': 0, 'max': 65535}, 'dimensions': [10980, 10980], 'crs': 'EPSG:32610', 'crs_transform': [10, 0, 699960, 0, -10, 5100000]}, {'id': 'B5', 'data_type': {'type': 'PixelType', 'precision': 'int', 'min': 0, 'max': 65535}, 'dimensions': [5490, 5490], 'crs': 'EPSG:32610', 'crs_transform': [20, 0, 699960, 0, -20, 5100000]}, {'id': 'B6', 'data_type': {'type': 'PixelType', 'precision': 'int', 'min': 0, 'max': 65535}, 'dimensions': [5490, 5490], 'crs': 'EPSG:32610', 'crs_transform': [20, 0, 699960, 0, -20, 5100000]}, {'id': 'B7', 'data_type': {'type': 'PixelType', 'precision': 'int', 'min': 0, 'max': 65535}, 'dimensions': [5490, 5490], 'crs': 'EPSG:32610', 'crs_transform': [20, 0, 699960, 0, -20, 5100000]}, {'id': 'B8', 'data_type': {'type': 'PixelType', 'precision': 'int', 'min': 0, 'max': 65535}, 'dimensions': [10980, 10980], 'crs': 'EPSG:32610', 'crs_transform': [10, 0, 699960, 0, -10, 5100000]}, {'id': 'B8A', 'data_type': {'type': 'PixelType', 'precision': 'int', 'min': 0, 'max': 65535}, 'dimensions': [5490, 5490], 'crs': 'EPSG:32610', 'crs_transform': [20, 0, 699960, 0, -20, 5100000]}, {'id': 'B9', 'data_type': {'type': 'PixelType', 'precision': 'int', 'min': 0, 'max': 65535}, 'dimensions': [1830, 1830], 'crs': 'EPSG:32610', 'crs_transform': [60, 0, 699960, 0, -60, 5100000]}, {'id': 'B10', 'data_type': {'type': 'PixelType', 'precision': 'int', 'min': 0, 'max': 65535}, 'dimensions': [1830, 1830], 'crs': 'EPSG:32610', 'crs_transform': [60, 0, 699960, 0, -60, 5100000]}, {'id': 'B11', 'data_type': {'type': 'PixelType', 'precision': 'int', 'min': 0, 'max': 65535}, 'dimensions': [5490, 5490], 'crs': 'EPSG:32610', 'crs_transform': [20, 0, 699960, 0, -20, 5100000]}, {'id': 'B12', 'data_type': {'type': 'PixelType', 'precision': 'int', 'min': 0, 'max': 65535}, 'dimensions': [5490, 5490], 'crs': 'EPSG:32610', 'crs_transform': [20, 0, 699960, 0, -20, 5100000]}, {'id': 'QA10', 'data_type': {'type': 'PixelType', 'precision': 'int', 'min': 0, 'max': 65535}, 'dimensions': [10980, 10980], 'crs': 'EPSG:32610', 'crs_transform': [10, 0, 699960, 0, -10, 5100000]}, {'id': 'QA20', 'data_type': {'type': 'PixelType', 'precision': 'int', 'min': 0, 'max': 4294967295}, 'dimensions': [5490, 5490], 'crs': 'EPSG:32610', 'crs_transform': [20, 0, 699960, 0, -20, 5100000]}, {'id': 'QA60', 'data_type': {'type': 'PixelType', 'precision': 'int', 'min': 0, 'max': 65535}, 'dimensions': [1830, 1830], 'crs': 'EPSG:32610', 'crs_transform': [60, 0, 699960, 0, -60, 5100000]}], 'id': 'COPERNICUS/S2/20180319T190101_20180319T190740_T10TGR', 'version': 1521695438289785, 'properties': {'DATATAKE_IDENTIFIER': 'GS2A_20180319T190101_014310_N02.06', 'SPACECRAFT_NAME': 'Sentinel-2A', 'MEAN_INCIDENCE_AZIMUTH_ANGLE_B8A': 287.594415617, 'MEAN_SOLAR_AZIMUTH_ANGLE': 161.226802968, 'system:footprint': {'type': 'LinearRing', 'coordinates': [[-119.78760833480571, 45.34283724286549], [-119.77933905445795, 45.362587563599355], [-119.71202906904973, 45.52341393820904], [-119.58723072992423, 45.820030596570845], [-119.54527295391517, 45.91958005422407], [-119.51431299725435, 45.99370833299632], [-119.513063311853, 45.99710107420544], [-119.51285930570138, 46.00034451876062], [-119.51295374985169, 46.00043743616873], [-120.4164469916696, 46.02445500956255], [-120.41657973002735, 46.02438834831809], [-120.43928743721263, 45.53081825011564], [-120.4614124704672, 45.03721706870636], [-120.46131800742988, 45.0371249413214], [-119.92211828546608, 45.02385557837599], [-119.92074195428368, 45.024577262881195], [-119.84355862111553, 45.20883436639152], [-119.78760833480571, 45.34283724286549]]}, 'SOLAR_IRRADIANCE_B12': 85.25, 'SOLAR_IRRADIANCE_B10': 367.15, 'SOLAR_IRRADIANCE_B11': 245.59, 'GENERATION_TIME': 1521498978000, 'quality_check': 'PASSED', 'SOLAR_IRRADIANCE_B8A': 955.32, 'CLOUD_COVERAGE_ASSESSMENT': 2.0555, 'system:time_end': 1521486460320, 'system:time_start': 1521486460320, 'DATASTRIP_ID': 'S2A_OPER_MSI_L1C_DS_SGS__20180319T223618_S20180319T190740_N02.06', 'PROCESSING_BASELINE': '02.06', 'SENSING_ORBIT_NUMBER': 13, 'SENSING_ORBIT_DIRECTION': 'DESCENDING', 'GRANULE_ID': 'L1C_T10TGR_A014310_20180319T190740', 'REFLECTANCE_CONVERSION_CORRECTION': 1.01112315424, 'MEAN_INCIDENCE_AZIMUTH_ANGLE_B8': 286.919221877, 'DATATAKE_TYPE': 'INS-NOBS', 'MEAN_INCIDENCE_AZIMUTH_ANGLE_B9': 287.758354297, 'MEAN_INCIDENCE_AZIMUTH_ANGLE_B6': 287.373977579, 'MEAN_INCIDENCE_AZIMUTH_ANGLE_B7': 287.464547768, 'MEAN_INCIDENCE_AZIMUTH_ANGLE_B4': 287.18320323, 'MEAN_INCIDENCE_ZENITH_ANGLE_B1': 9.62159584039, 'MEAN_INCIDENCE_AZIMUTH_ANGLE_B5': 287.271467571, 'MEAN_INCIDENCE_AZIMUTH_ANGLE_B2': 286.827199196, 'MEAN_INCIDENCE_AZIMUTH_ANGLE_B3': 287.011572861, 'MEAN_INCIDENCE_ZENITH_ANGLE_B5': 9.52827988242, 'MEAN_INCIDENCE_AZIMUTH_ANGLE_B1': 287.624113256, 'MEAN_INCIDENCE_ZENITH_ANGLE_B4': 9.51031894051, 'MEAN_INCIDENCE_ZENITH_ANGLE_B3': 9.48273606733, 'MEAN_INCIDENCE_ZENITH_ANGLE_B2': 9.46099518451, 'MEAN_INCIDENCE_ZENITH_ANGLE_B9': 9.65909835569, 'MEAN_INCIDENCE_ZENITH_ANGLE_B8': 9.47078432982, 'MEAN_INCIDENCE_ZENITH_ANGLE_B7': 9.57071065553, 'MEAN_INCIDENCE_ZENITH_ANGLE_B6': 9.54848099606, 'MEAN_SOLAR_ZENITH_ANGLE': 47.4326839492, 'MEAN_INCIDENCE_ZENITH_ANGLE_B8A': 9.60338242167, 'MGRS_TILE': '10TGR', 'CLOUDY_PIXEL_PERCENTAGE': 2.0555, 'PRODUCT_ID': 'S2A_MSIL1C_20180319T190101_N0206_R013_T10TGR_20180319T223618', 'MEAN_INCIDENCE_ZENITH_ANGLE_B10': 9.55149266445, 'SOLAR_IRRADIANCE_B9': 812.92, 'DEGRADED_MSI_DATA_PERCENTAGE': 0, 'MEAN_INCIDENCE_ZENITH_ANGLE_B11': 9.619739646, 'MEAN_INCIDENCE_ZENITH_ANGLE_B12': 9.6750824456, 'SOLAR_IRRADIANCE_B6': 1287.61, 'MEAN_INCIDENCE_AZIMUTH_ANGLE_B10': 287.250762789, 'SOLAR_IRRADIANCE_B5': 1424.64, 'MEAN_INCIDENCE_AZIMUTH_ANGLE_B11': 287.613728641, 'SOLAR_IRRADIANCE_B8': 1041.63, 'MEAN_INCIDENCE_AZIMUTH_ANGLE_B12': 287.910234963, 'SOLAR_IRRADIANCE_B7': 1162.08, 'SOLAR_IRRADIANCE_B2': 1959.72, 'SOLAR_IRRADIANCE_B1': 1884.69, 'SOLAR_IRRADIANCE_B4': 1512.06, 'SOLAR_IRRADIANCE_B3': 1823.24, 'system:asset_size': 641825677, 'system:index': '20180319T190101_20180319T190740_T10TGR'}}, {'type': 'Image', 'bands': [{'id': 'B1', 'data_type': {'type': 'PixelType', 'precision': 'int', 'min': 0, 'max': 65535}, 'dimensions': [1830, 1830], 'crs': 'EPSG:32610', 'crs_transform': [60, 0, 699960, 0, -60, 5100000]}, {'id': 'B2', 'data_type': {'type': 'PixelType', 'precision': 'int', 'min': 0, 'max': 65535}, 'dimensions': [10980, 10980], 'crs': 'EPSG:32610', 'crs_transform': [10, 0, 699960, 0, -10, 5100000]}, {'id': 'B3', 'data_type': {'type': 'PixelType', 'precision': 'int', 'min': 0, 'max': 65535}, 'dimensions': [10980, 10980], 'crs': 'EPSG:32610', 'crs_transform': [10, 0, 699960, 0, -10, 5100000]}, {'id': 'B4', 'data_type': {'type': 'PixelType', 'precision': 'int', 'min': 0, 'max': 65535}, 'dimensions': [10980, 10980], 'crs': 'EPSG:32610', 'crs_transform': [10, 0, 699960, 0, -10, 5100000]}, {'id': 'B5', 'data_type': {'type': 'PixelType', 'precision': 'int', 'min': 0, 'max': 65535}, 'dimensions': [5490, 5490], 'crs': 'EPSG:32610', 'crs_transform': [20, 0, 699960, 0, -20, 5100000]}, {'id': 'B6', 'data_type': {'type': 'PixelType', 'precision': 'int', 'min': 0, 'max': 65535}, 'dimensions': [5490, 5490], 'crs': 'EPSG:32610', 'crs_transform': [20, 0, 699960, 0, -20, 5100000]}, {'id': 'B7', 'data_type': {'type': 'PixelType', 'precision': 'int', 'min': 0, 'max': 65535}, 'dimensions': [5490, 5490], 'crs': 'EPSG:32610', 'crs_transform': [20, 0, 699960, 0, -20, 5100000]}, {'id': 'B8', 'data_type': {'type': 'PixelType', 'precision': 'int', 'min': 0, 'max': 65535}, 'dimensions': [10980, 10980], 'crs': 'EPSG:32610', 'crs_transform': [10, 0, 699960, 0, -10, 5100000]}, {'id': 'B8A', 'data_type': {'type': 'PixelType', 'precision': 'int', 'min': 0, 'max': 65535}, 'dimensions': [5490, 5490], 'crs': 'EPSG:32610', 'crs_transform': [20, 0, 699960, 0, -20, 5100000]}, {'id': 'B9', 'data_type': {'type': 'PixelType', 'precision': 'int', 'min': 0, 'max': 65535}, 'dimensions': [1830, 1830], 'crs': 'EPSG:32610', 'crs_transform': [60, 0, 699960, 0, -60, 5100000]}, {'id': 'B10', 'data_type': {'type': 'PixelType', 'precision': 'int', 'min': 0, 'max': 65535}, 'dimensions': [1830, 1830], 'crs': 'EPSG:32610', 'crs_transform': [60, 0, 699960, 0, -60, 5100000]}, {'id': 'B11', 'data_type': {'type': 'PixelType', 'precision': 'int', 'min': 0, 'max': 65535}, 'dimensions': [5490, 5490], 'crs': 'EPSG:32610', 'crs_transform': [20, 0, 699960, 0, -20, 5100000]}, {'id': 'B12', 'data_type': {'type': 'PixelType', 'precision': 'int', 'min': 0, 'max': 65535}, 'dimensions': [5490, 5490], 'crs': 'EPSG:32610', 'crs_transform': [20, 0, 699960, 0, -20, 5100000]}, {'id': 'QA10', 'data_type': {'type': 'PixelType', 'precision': 'int', 'min': 0, 'max': 65535}, 'dimensions': [10980, 10980], 'crs': 'EPSG:32610', 'crs_transform': [10, 0, 699960, 0, -10, 5100000]}, {'id': 'QA20', 'data_type': {'type': 'PixelType', 'precision': 'int', 'min': 0, 'max': 4294967295}, 'dimensions': [5490, 5490], 'crs': 'EPSG:32610', 'crs_transform': [20, 0, 699960, 0, -20, 5100000]}, {'id': 'QA60', 'data_type': {'type': 'PixelType', 'precision': 'int', 'min': 0, 'max': 65535}, 'dimensions': [1830, 1830], 'crs': 'EPSG:32610', 'crs_transform': [60, 0, 699960, 0, -60, 5100000]}], 'id': 'COPERNICUS/S2/20180420T184919_20180420T185552_T10TGR', 'version': 1524340081328273, 'properties': {'DATATAKE_IDENTIFIER': 'GS2B_20180420T184919_005859_N02.06', 'SPACECRAFT_NAME': 'Sentinel-2B', 'MEAN_INCIDENCE_AZIMUTH_ANGLE_B8A': 110.962615299, 'MEAN_SOLAR_AZIMUTH_ANGLE': 156.166912985, 'system:footprint': {'type': 'LinearRing', 'coordinates': [[-120.41657559562707, 46.024390200286305], [-120.41658038301405, 46.024375534127586], [-120.43928743721263, 45.53081825011564], [-120.4614124704672, 45.03721706870636], [-120.46136252938089, 45.03717450025587], [-120.46132063552159, 45.037127844657405], [-120.46129986027638, 45.037124568011976], [-119.07021360813172, 44.99768606286748], [-119.07015260429186, 44.99772060211089], [-119.07008590370228, 44.9977494437377], [-119.07008087409673, 44.997764086998416], [-119.05309684508028, 45.24423985198358], [-119.03589250308471, 45.490692325555585], [-119.01846403670267, 45.737128992612746], [-119.00080765759417, 45.98354973136844], [-119.00085718442995, 45.98359296543167], [-119.0008985995177, 45.98364018673813], [-119.0009196715337, 45.983643762846285], [-120.4164469916696, 46.02445500956255], [-120.41650836718318, 46.02441982843817], [-120.41657559562707, 46.024390200286305]]}, 'SOLAR_IRRADIANCE_B12': 87.75, 'SOLAR_IRRADIANCE_B10': 365.41, 'SOLAR_IRRADIANCE_B11': 247.08, 'GENERATION_TIME': 1524262051000, 'quality_check': 'PASSED', 'SOLAR_IRRADIANCE_B8A': 953.93, 'CLOUD_COVERAGE_ASSESSMENT': 0, 'system:time_end': 1524250552310, 'system:time_start': 1524250552310, 'DATASTRIP_ID': 'S2B_OPER_MSI_L1C_DS_MPS__20180420T220731_S20180420T185552_N02.06', 'PROCESSING_BASELINE': '02.06', 'SENSING_ORBIT_NUMBER': 113, 'SENSING_ORBIT_DIRECTION': 'DESCENDING', 'GRANULE_ID': 'L1C_T10TGR_A005859_20180420T185552', 'REFLECTANCE_CONVERSION_CORRECTION': 0.992922338916, 'MEAN_INCIDENCE_AZIMUTH_ANGLE_B8': 115.497288323, 'DATATAKE_TYPE': 'INS-NOBS', 'MEAN_INCIDENCE_AZIMUTH_ANGLE_B9': 110.354062841, 'MEAN_INCIDENCE_AZIMUTH_ANGLE_B6': 111.761800348, 'MEAN_INCIDENCE_AZIMUTH_ANGLE_B7': 111.335518977, 'MEAN_INCIDENCE_AZIMUTH_ANGLE_B4': 112.862137158, 'MEAN_INCIDENCE_ZENITH_ANGLE_B1': 4.27264713061, 'MEAN_INCIDENCE_AZIMUTH_ANGLE_B5': 112.248219771, 'MEAN_INCIDENCE_AZIMUTH_ANGLE_B2': 116.898094953, 'MEAN_INCIDENCE_AZIMUTH_ANGLE_B3': 114.387321553, 'MEAN_INCIDENCE_ZENITH_ANGLE_B5': 3.98715294551, 'MEAN_INCIDENCE_AZIMUTH_ANGLE_B1': 110.635815829, 'MEAN_INCIDENCE_ZENITH_ANGLE_B4': 3.92586724507, 'MEAN_INCIDENCE_ZENITH_ANGLE_B3': 3.82496141702, 'MEAN_INCIDENCE_ZENITH_ANGLE_B2': 3.73568020891, 'MEAN_INCIDENCE_ZENITH_ANGLE_B9': 4.35298642478, 'MEAN_INCIDENCE_ZENITH_ANGLE_B8': 3.77729602301, 'MEAN_INCIDENCE_ZENITH_ANGLE_B7': 4.12125872053, 'MEAN_INCIDENCE_ZENITH_ANGLE_B6': 4.0523346481, 'MEAN_SOLAR_ZENITH_ANGLE': 35.8577028861, 'MEAN_INCIDENCE_ZENITH_ANGLE_B8A': 4.1934352107, 'MGRS_TILE': '10TGR', 'CLOUDY_PIXEL_PERCENTAGE': 0, 'PRODUCT_ID': 'S2B_MSIL1C_20180420T184919_N0206_R113_T10TGR_20180420T220731', 'MEAN_INCIDENCE_ZENITH_ANGLE_B10': 3.89847853686, 'SOLAR_IRRADIANCE_B9': 817.58, 'DEGRADED_MSI_DATA_PERCENTAGE': 0, 'MEAN_INCIDENCE_ZENITH_ANGLE_B11': 4.04615249411, 'MEAN_INCIDENCE_ZENITH_ANGLE_B12': 4.2142755692, 'SOLAR_IRRADIANCE_B6': 1291.13, 'MEAN_INCIDENCE_AZIMUTH_ANGLE_B10': 113.480516503, 'SOLAR_IRRADIANCE_B5': 1425.78, 'MEAN_INCIDENCE_AZIMUTH_ANGLE_B11': 111.901803027, 'SOLAR_IRRADIANCE_B8': 1041.28, 'MEAN_INCIDENCE_AZIMUTH_ANGLE_B12': 110.992264665, 'SOLAR_IRRADIANCE_B7': 1175.57, 'SOLAR_IRRADIANCE_B2': 1959.77, 'SOLAR_IRRADIANCE_B1': 1874.3, 'SOLAR_IRRADIANCE_B4': 1512.79, 'SOLAR_IRRADIANCE_B3': 1824.93, 'system:asset_size': 1241659329, 'system:index': '20180420T184919_20180420T185552_T10TGR'}}, {'type': 'Image', 'bands': [{'id': 'B1', 'data_type': {'type': 'PixelType', 'precision': 'int', 'min': 0, 'max': 65535}, 'dimensions': [1830, 1830], 'crs': 'EPSG:32610', 'crs_transform': [60, 0, 699960, 0, -60, 5100000]}, {'id': 'B2', 'data_type': {'type': 'PixelType', 'precision': 'int', 'min': 0, 'max': 65535}, 'dimensions': [10980, 10980], 'crs': 'EPSG:32610', 'crs_transform': [10, 0, 699960, 0, -10, 5100000]}, {'id': 'B3', 'data_type': {'type': 'PixelType', 'precision': 'int', 'min': 0, 'max': 65535}, 'dimensions': [10980, 10980], 'crs': 'EPSG:32610', 'crs_transform': [10, 0, 699960, 0, -10, 5100000]}, {'id': 'B4', 'data_type': {'type': 'PixelType', 'precision': 'int', 'min': 0, 'max': 65535}, 'dimensions': [10980, 10980], 'crs': 'EPSG:32610', 'crs_transform': [10, 0, 699960, 0, -10, 5100000]}, {'id': 'B5', 'data_type': {'type': 'PixelType', 'precision': 'int', 'min': 0, 'max': 65535}, 'dimensions': [5490, 5490], 'crs': 'EPSG:32610', 'crs_transform': [20, 0, 699960, 0, -20, 5100000]}, {'id': 'B6', 'data_type': {'type': 'PixelType', 'precision': 'int', 'min': 0, 'max': 65535}, 'dimensions': [5490, 5490], 'crs': 'EPSG:32610', 'crs_transform': [20, 0, 699960, 0, -20, 5100000]}, {'id': 'B7', 'data_type': {'type': 'PixelType', 'precision': 'int', 'min': 0, 'max': 65535}, 'dimensions': [5490, 5490], 'crs': 'EPSG:32610', 'crs_transform': [20, 0, 699960, 0, -20, 5100000]}, {'id': 'B8', 'data_type': {'type': 'PixelType', 'precision': 'int', 'min': 0, 'max': 65535}, 'dimensions': [10980, 10980], 'crs': 'EPSG:32610', 'crs_transform': [10, 0, 699960, 0, -10, 5100000]}, {'id': 'B8A', 'data_type': {'type': 'PixelType', 'precision': 'int', 'min': 0, 'max': 65535}, 'dimensions': [5490, 5490], 'crs': 'EPSG:32610', 'crs_transform': [20, 0, 699960, 0, -20, 5100000]}, {'id': 'B9', 'data_type': {'type': 'PixelType', 'precision': 'int', 'min': 0, 'max': 65535}, 'dimensions': [1830, 1830], 'crs': 'EPSG:32610', 'crs_transform': [60, 0, 699960, 0, -60, 5100000]}, {'id': 'B10', 'data_type': {'type': 'PixelType', 'precision': 'int', 'min': 0, 'max': 65535}, 'dimensions': [1830, 1830], 'crs': 'EPSG:32610', 'crs_transform': [60, 0, 699960, 0, -60, 5100000]}, {'id': 'B11', 'data_type': {'type': 'PixelType', 'precision': 'int', 'min': 0, 'max': 65535}, 'dimensions': [5490, 5490], 'crs': 'EPSG:32610', 'crs_transform': [20, 0, 699960, 0, -20, 5100000]}, {'id': 'B12', 'data_type': {'type': 'PixelType', 'precision': 'int', 'min': 0, 'max': 65535}, 'dimensions': [5490, 5490], 'crs': 'EPSG:32610', 'crs_transform': [20, 0, 699960, 0, -20, 5100000]}, {'id': 'QA10', 'data_type': {'type': 'PixelType', 'precision': 'int', 'min': 0, 'max': 65535}, 'dimensions': [10980, 10980], 'crs': 'EPSG:32610', 'crs_transform': [10, 0, 699960, 0, -10, 5100000]}, {'id': 'QA20', 'data_type': {'type': 'PixelType', 'precision': 'int', 'min': 0, 'max': 4294967295}, 'dimensions': [5490, 5490], 'crs': 'EPSG:32610', 'crs_transform': [20, 0, 699960, 0, -20, 5100000]}, {'id': 'QA60', 'data_type': {'type': 'PixelType', 'precision': 'int', 'min': 0, 'max': 65535}, 'dimensions': [1830, 1830], 'crs': 'EPSG:32610', 'crs_transform': [60, 0, 699960, 0, -60, 5100000]}], 'id': 'COPERNICUS/S2/20180423T185919_20180423T191040_T10TGR', 'version': 1525216303614190.0, 'properties': {'DATATAKE_IDENTIFIER': 'GS2B_20180423T185919_005902_N02.06', 'SPACECRAFT_NAME': 'Sentinel-2B', 'MEAN_INCIDENCE_AZIMUTH_ANGLE_B8A': 286.888385254, 'MEAN_SOLAR_AZIMUTH_ANGLE': 160.024411565, 'system:footprint': {'type': 'LinearRing', 'coordinates': [[-120.41650836718318, 46.02441982843817], [-120.41657973002735, 46.02438834831809], [-120.43928743721263, 45.53081825011564], [-120.4614124704672, 45.03721706870636], [-120.46136252938089, 45.03717450025587], [-120.46131800742988, 45.0371249413214], [-119.92621891743995, 45.02396613091745], [-119.92617127931712, 45.02399363423299], [-119.92611117822644, 45.024002984224246], [-119.92609582129201, 45.02402267697858], [-119.92469126339867, 45.026509365548115], [-119.81040318314066, 45.300629219216624], [-119.77499105550619, 45.3851485252167], [-119.71271016271506, 45.533695102412096], [-119.54778137105424, 45.9248763625686], [-119.52050150562523, 45.98975611487987], [-119.51741207580322, 45.99777336278392], [-119.51724221408558, 46.0004783349457], [-119.5172921550382, 46.000521364414446], [-119.5173365709349, 46.000571275955274], [-120.4164469916696, 46.02445500956255], [-120.41650836718318, 46.02441982843817]]}, 'SOLAR_IRRADIANCE_B12': 87.75, 'SOLAR_IRRADIANCE_B10': 365.41, 'SOLAR_IRRADIANCE_B11': 247.08, 'GENERATION_TIME': 1524516950000, 'quality_check': 'PASSED', 'SOLAR_IRRADIANCE_B8A': 953.93, 'CLOUD_COVERAGE_ASSESSMENT': 0.1023, 'system:time_end': 1524510640940, 'system:time_start': 1524510640940, 'DATASTRIP_ID': 'S2B_OPER_MSI_L1C_DS_SGS__20180423T205550_S20180423T191040_N02.06', 'PROCESSING_BASELINE': '02.06', 'SENSING_ORBIT_NUMBER': 13, 'SENSING_ORBIT_DIRECTION': 'DESCENDING', 'GRANULE_ID': 'L1C_T10TGR_A005902_20180423T191040', 'REFLECTANCE_CONVERSION_CORRECTION': 0.991261554226, 'MEAN_INCIDENCE_AZIMUTH_ANGLE_B8': 286.225181799, 'DATATAKE_TYPE': 'INS-NOBS', 'MEAN_INCIDENCE_AZIMUTH_ANGLE_B9': 287.058274865, 'MEAN_INCIDENCE_AZIMUTH_ANGLE_B6': 286.689889056, 'MEAN_INCIDENCE_AZIMUTH_ANGLE_B7': 286.784014082, 'MEAN_INCIDENCE_AZIMUTH_ANGLE_B4': 286.495561016, 'MEAN_INCIDENCE_ZENITH_ANGLE_B1': 9.63230628687, 'MEAN_INCIDENCE_AZIMUTH_ANGLE_B5': 286.585347464, 'MEAN_INCIDENCE_AZIMUTH_ANGLE_B2': 286.133216929, 'MEAN_INCIDENCE_AZIMUTH_ANGLE_B3': 286.320144204, 'MEAN_INCIDENCE_ZENITH_ANGLE_B5': 9.5398330973, 'MEAN_INCIDENCE_AZIMUTH_ANGLE_B1': 286.95150405, 'MEAN_INCIDENCE_ZENITH_ANGLE_B4': 9.52206152093, 'MEAN_INCIDENCE_ZENITH_ANGLE_B3': 9.49487309344, 'MEAN_INCIDENCE_ZENITH_ANGLE_B2': 9.47359937184, 'MEAN_INCIDENCE_ZENITH_ANGLE_B9': 9.66128919363, 'MEAN_INCIDENCE_ZENITH_ANGLE_B8': 9.48316611057, 'MEAN_INCIDENCE_ZENITH_ANGLE_B7': 9.58180211275, 'MEAN_INCIDENCE_ZENITH_ANGLE_B6': 9.5597350259, 'MEAN_SOLAR_ZENITH_ANGLE': 34.1937587183, 'MEAN_INCIDENCE_ZENITH_ANGLE_B8A': 9.60587614324, 'MGRS_TILE': '10TGR', 'CLOUDY_PIXEL_PERCENTAGE': 0.1023, 'PRODUCT_ID': 'S2B_MSIL1C_20180423T185919_N0206_R013_T10TGR_20180423T205550', 'MEAN_INCIDENCE_ZENITH_ANGLE_B10': 9.51334339647, 'SOLAR_IRRADIANCE_B9': 817.58, 'DEGRADED_MSI_DATA_PERCENTAGE': 0, 'MEAN_INCIDENCE_ZENITH_ANGLE_B11': 9.55647665097, 'MEAN_INCIDENCE_ZENITH_ANGLE_B12': 9.61148808259, 'SOLAR_IRRADIANCE_B6': 1291.13, 'MEAN_INCIDENCE_AZIMUTH_ANGLE_B10': 286.361771259, 'SOLAR_IRRADIANCE_B5': 1425.78, 'MEAN_INCIDENCE_AZIMUTH_ANGLE_B11': 286.609346651, 'SOLAR_IRRADIANCE_B8': 1041.28, 'MEAN_INCIDENCE_AZIMUTH_ANGLE_B12': 286.846319183, 'SOLAR_IRRADIANCE_B7': 1175.57, 'SOLAR_IRRADIANCE_B2': 1959.77, 'SOLAR_IRRADIANCE_B1': 1874.3, 'SOLAR_IRRADIANCE_B4': 1512.79, 'SOLAR_IRRADIANCE_B3': 1824.93, 'system:asset_size': 620258249, 'system:index': '20180423T185919_20180423T191040_T10TGR'}}, {'type': 'Image', 'bands': [{'id': 'B1', 'data_type': {'type': 'PixelType', 'precision': 'int', 'min': 0, 'max': 65535}, 'dimensions': [1830, 1830], 'crs': 'EPSG:32610', 'crs_transform': [60, 0, 699960, 0, -60, 5100000]}, {'id': 'B2', 'data_type': {'type': 'PixelType', 'precision': 'int', 'min': 0, 'max': 65535}, 'dimensions': [10980, 10980], 'crs': 'EPSG:32610', 'crs_transform': [10, 0, 699960, 0, -10, 5100000]}, {'id': 'B3', 'data_type': {'type': 'PixelType', 'precision': 'int', 'min': 0, 'max': 65535}, 'dimensions': [10980, 10980], 'crs': 'EPSG:32610', 'crs_transform': [10, 0, 699960, 0, -10, 5100000]}, {'id': 'B4', 'data_type': {'type': 'PixelType', 'precision': 'int', 'min': 0, 'max': 65535}, 'dimensions': [10980, 10980], 'crs': 'EPSG:32610', 'crs_transform': [10, 0, 699960, 0, -10, 5100000]}, {'id': 'B5', 'data_type': {'type': 'PixelType', 'precision': 'int', 'min': 0, 'max': 65535}, 'dimensions': [5490, 5490], 'crs': 'EPSG:32610', 'crs_transform': [20, 0, 699960, 0, -20, 5100000]}, {'id': 'B6', 'data_type': {'type': 'PixelType', 'precision': 'int', 'min': 0, 'max': 65535}, 'dimensions': [5490, 5490], 'crs': 'EPSG:32610', 'crs_transform': [20, 0, 699960, 0, -20, 5100000]}, {'id': 'B7', 'data_type': {'type': 'PixelType', 'precision': 'int', 'min': 0, 'max': 65535}, 'dimensions': [5490, 5490], 'crs': 'EPSG:32610', 'crs_transform': [20, 0, 699960, 0, -20, 5100000]}, {'id': 'B8', 'data_type': {'type': 'PixelType', 'precision': 'int', 'min': 0, 'max': 65535}, 'dimensions': [10980, 10980], 'crs': 'EPSG:32610', 'crs_transform': [10, 0, 699960, 0, -10, 5100000]}, {'id': 'B8A', 'data_type': {'type': 'PixelType', 'precision': 'int', 'min': 0, 'max': 65535}, 'dimensions': [5490, 5490], 'crs': 'EPSG:32610', 'crs_transform': [20, 0, 699960, 0, -20, 5100000]}, {'id': 'B9', 'data_type': {'type': 'PixelType', 'precision': 'int', 'min': 0, 'max': 65535}, 'dimensions': [1830, 1830], 'crs': 'EPSG:32610', 'crs_transform': [60, 0, 699960, 0, -60, 5100000]}, {'id': 'B10', 'data_type': {'type': 'PixelType', 'precision': 'int', 'min': 0, 'max': 65535}, 'dimensions': [1830, 1830], 'crs': 'EPSG:32610', 'crs_transform': [60, 0, 699960, 0, -60, 5100000]}, {'id': 'B11', 'data_type': {'type': 'PixelType', 'precision': 'int', 'min': 0, 'max': 65535}, 'dimensions': [5490, 5490], 'crs': 'EPSG:32610', 'crs_transform': [20, 0, 699960, 0, -20, 5100000]}, {'id': 'B12', 'data_type': {'type': 'PixelType', 'precision': 'int', 'min': 0, 'max': 65535}, 'dimensions': [5490, 5490], 'crs': 'EPSG:32610', 'crs_transform': [20, 0, 699960, 0, -20, 5100000]}, {'id': 'QA10', 'data_type': {'type': 'PixelType', 'precision': 'int', 'min': 0, 'max': 65535}, 'dimensions': [10980, 10980], 'crs': 'EPSG:32610', 'crs_transform': [10, 0, 699960, 0, -10, 5100000]}, {'id': 'QA20', 'data_type': {'type': 'PixelType', 'precision': 'int', 'min': 0, 'max': 4294967295}, 'dimensions': [5490, 5490], 'crs': 'EPSG:32610', 'crs_transform': [20, 0, 699960, 0, -20, 5100000]}, {'id': 'QA60', 'data_type': {'type': 'PixelType', 'precision': 'int', 'min': 0, 'max': 65535}, 'dimensions': [1830, 1830], 'crs': 'EPSG:32610', 'crs_transform': [60, 0, 699960, 0, -60, 5100000]}], 'id': 'COPERNICUS/S2/20180513T185919_20180513T190431_T10TGR', 'version': 1526501591875011, 'properties': {'DATATAKE_IDENTIFIER': 'GS2B_20180513T185919_006188_N02.06', 'SPACECRAFT_NAME': 'Sentinel-2B', 'MEAN_INCIDENCE_AZIMUTH_ANGLE_B8A': 287.191725047, 'MEAN_SOLAR_AZIMUTH_ANGLE': 157.973045262, 'system:footprint': {'type': 'LinearRing', 'coordinates': [[-120.4614124704672, 45.03721706870636], [-120.46131800742988, 45.0371249413214], [-119.92232670551803, 45.02386120995749], [-119.9208886626966, 45.02640674043733], [-119.89027214588451, 45.099395599409405], [-119.84340929924075, 45.211530791672075], [-119.757886779093, 45.416168979128976], [-119.71339132172777, 45.52201283340215], [-119.6477845729084, 45.6776269769986], [-119.62231186965855, 45.738083984460964], [-119.53944195221817, 45.93452501991311], [-119.51972027380212, 45.981631016644215], [-119.51360511247994, 45.99674786092734], [-119.51234518412252, 46.00031728243441], [-119.51243063656175, 46.00042147556099], [-120.4164469916696, 46.02445500956255], [-120.41657973002735, 46.02438834831809], [-120.43928743721263, 45.53081825011564], [-120.4614124704672, 45.03721706870636]]}, 'SOLAR_IRRADIANCE_B12': 87.75, 'SOLAR_IRRADIANCE_B10': 365.41, 'SOLAR_IRRADIANCE_B11': 247.08, 'GENERATION_TIME': 1526250036000, 'quality_check': 'PASSED', 'SOLAR_IRRADIANCE_B8A': 953.93, 'CLOUD_COVERAGE_ASSESSMENT': 0.0351, 'system:time_end': 1526238271940, 'system:time_start': 1526238271940, 'DATASTRIP_ID': 'S2B_OPER_MSI_L1C_DS_MPS__20180513T222036_S20180513T190431_N02.06', 'PROCESSING_BASELINE': '02.06', 'SENSING_ORBIT_NUMBER': 13, 'SENSING_ORBIT_DIRECTION': 'DESCENDING', 'GRANULE_ID': 'L1C_T10TGR_A006188_20180513T190431', 'REFLECTANCE_CONVERSION_CORRECTION': 0.981103637446, 'MEAN_INCIDENCE_AZIMUTH_ANGLE_B8': 286.304085439, 'DATATAKE_TYPE': 'INS-NOBS', 'MEAN_INCIDENCE_AZIMUTH_ANGLE_B9': 287.410903709, 'MEAN_INCIDENCE_AZIMUTH_ANGLE_B6': 286.96428101, 'MEAN_INCIDENCE_AZIMUTH_ANGLE_B7': 287.063092339, 'MEAN_INCIDENCE_AZIMUTH_ANGLE_B4': 286.644794064, 'MEAN_INCIDENCE_ZENITH_ANGLE_B1': 9.6771564282, 'MEAN_INCIDENCE_AZIMUTH_ANGLE_B5': 286.79506042, 'MEAN_INCIDENCE_AZIMUTH_ANGLE_B2': 286.195584954, 'MEAN_INCIDENCE_AZIMUTH_ANGLE_B3': 286.415603124, 'MEAN_INCIDENCE_ZENITH_ANGLE_B5': 9.57706193555, 'MEAN_INCIDENCE_AZIMUTH_ANGLE_B1': 287.279511024, 'MEAN_INCIDENCE_ZENITH_ANGLE_B4': 9.54303856182, 'MEAN_INCIDENCE_ZENITH_ANGLE_B3': 9.49733168968, 'MEAN_INCIDENCE_ZENITH_ANGLE_B2': 9.47613390889, 'MEAN_INCIDENCE_ZENITH_ANGLE_B9': 9.70601165463, 'MEAN_INCIDENCE_ZENITH_ANGLE_B8': 9.48566312504, 'MEAN_INCIDENCE_ZENITH_ANGLE_B7': 9.62691503409, 'MEAN_INCIDENCE_ZENITH_ANGLE_B6': 9.60318198031, 'MEAN_SOLAR_ZENITH_ANGLE': 28.4685559684, 'MEAN_INCIDENCE_ZENITH_ANGLE_B8A': 9.65088169226, 'MGRS_TILE': '10TGR', 'CLOUDY_PIXEL_PERCENTAGE': 0.0351, 'PRODUCT_ID': 'S2B_MSIL1C_20180513T185919_N0206_R013_T10TGR_20180513T222036', 'MEAN_INCIDENCE_ZENITH_ANGLE_B10': 9.51572248156, 'SOLAR_IRRADIANCE_B9': 817.58, 'DEGRADED_MSI_DATA_PERCENTAGE': 0, 'MEAN_INCIDENCE_ZENITH_ANGLE_B11': 9.59989056289, 'MEAN_INCIDENCE_ZENITH_ANGLE_B12': 9.65641129697, 'SOLAR_IRRADIANCE_B6': 1291.13, 'MEAN_INCIDENCE_AZIMUTH_ANGLE_B10': 286.478878569, 'SOLAR_IRRADIANCE_B5': 1425.78, 'MEAN_INCIDENCE_AZIMUTH_ANGLE_B11': 286.879979897, 'SOLAR_IRRADIANCE_B8': 1041.28, 'MEAN_INCIDENCE_AZIMUTH_ANGLE_B12': 287.155422902, 'SOLAR_IRRADIANCE_B7': 1175.57, 'SOLAR_IRRADIANCE_B2': 1959.77, 'SOLAR_IRRADIANCE_B1': 1874.3, 'SOLAR_IRRADIANCE_B4': 1512.79, 'SOLAR_IRRADIANCE_B3': 1824.93, 'system:asset_size': 622233813, 'system:index': '20180513T185919_20180513T190431_T10TGR'}}, {'type': 'Image', 'bands': [{'id': 'B1', 'data_type': {'type': 'PixelType', 'precision': 'int', 'min': 0, 'max': 65535}, 'dimensions': [1830, 1830], 'crs': 'EPSG:32610', 'crs_transform': [60, 0, 699960, 0, -60, 5100000]}, {'id': 'B2', 'data_type': {'type': 'PixelType', 'precision': 'int', 'min': 0, 'max': 65535}, 'dimensions': [10980, 10980], 'crs': 'EPSG:32610', 'crs_transform': [10, 0, 699960, 0, -10, 5100000]}, {'id': 'B3', 'data_type': {'type': 'PixelType', 'precision': 'int', 'min': 0, 'max': 65535}, 'dimensions': [10980, 10980], 'crs': 'EPSG:32610', 'crs_transform': [10, 0, 699960, 0, -10, 5100000]}, {'id': 'B4', 'data_type': {'type': 'PixelType', 'precision': 'int', 'min': 0, 'max': 65535}, 'dimensions': [10980, 10980], 'crs': 'EPSG:32610', 'crs_transform': [10, 0, 699960, 0, -10, 5100000]}, {'id': 'B5', 'data_type': {'type': 'PixelType', 'precision': 'int', 'min': 0, 'max': 65535}, 'dimensions': [5490, 5490], 'crs': 'EPSG:32610', 'crs_transform': [20, 0, 699960, 0, -20, 5100000]}, {'id': 'B6', 'data_type': {'type': 'PixelType', 'precision': 'int', 'min': 0, 'max': 65535}, 'dimensions': [5490, 5490], 'crs': 'EPSG:32610', 'crs_transform': [20, 0, 699960, 0, -20, 5100000]}, {'id': 'B7', 'data_type': {'type': 'PixelType', 'precision': 'int', 'min': 0, 'max': 65535}, 'dimensions': [5490, 5490], 'crs': 'EPSG:32610', 'crs_transform': [20, 0, 699960, 0, -20, 5100000]}, {'id': 'B8', 'data_type': {'type': 'PixelType', 'precision': 'int', 'min': 0, 'max': 65535}, 'dimensions': [10980, 10980], 'crs': 'EPSG:32610', 'crs_transform': [10, 0, 699960, 0, -10, 5100000]}, {'id': 'B8A', 'data_type': {'type': 'PixelType', 'precision': 'int', 'min': 0, 'max': 65535}, 'dimensions': [5490, 5490], 'crs': 'EPSG:32610', 'crs_transform': [20, 0, 699960, 0, -20, 5100000]}, {'id': 'B9', 'data_type': {'type': 'PixelType', 'precision': 'int', 'min': 0, 'max': 65535}, 'dimensions': [1830, 1830], 'crs': 'EPSG:32610', 'crs_transform': [60, 0, 699960, 0, -60, 5100000]}, {'id': 'B10', 'data_type': {'type': 'PixelType', 'precision': 'int', 'min': 0, 'max': 65535}, 'dimensions': [1830, 1830], 'crs': 'EPSG:32610', 'crs_transform': [60, 0, 699960, 0, -60, 5100000]}, {'id': 'B11', 'data_type': {'type': 'PixelType', 'precision': 'int', 'min': 0, 'max': 65535}, 'dimensions': [5490, 5490], 'crs': 'EPSG:32610', 'crs_transform': [20, 0, 699960, 0, -20, 5100000]}, {'id': 'B12', 'data_type': {'type': 'PixelType', 'precision': 'int', 'min': 0, 'max': 65535}, 'dimensions': [5490, 5490], 'crs': 'EPSG:32610', 'crs_transform': [20, 0, 699960, 0, -20, 5100000]}, {'id': 'QA10', 'data_type': {'type': 'PixelType', 'precision': 'int', 'min': 0, 'max': 65535}, 'dimensions': [10980, 10980], 'crs': 'EPSG:32610', 'crs_transform': [10, 0, 699960, 0, -10, 5100000]}, {'id': 'QA20', 'data_type': {'type': 'PixelType', 'precision': 'int', 'min': 0, 'max': 4294967295}, 'dimensions': [5490, 5490], 'crs': 'EPSG:32610', 'crs_transform': [20, 0, 699960, 0, -20, 5100000]}, {'id': 'QA60', 'data_type': {'type': 'PixelType', 'precision': 'int', 'min': 0, 'max': 65535}, 'dimensions': [1830, 1830], 'crs': 'EPSG:32610', 'crs_transform': [60, 0, 699960, 0, -60, 5100000]}], 'id': 'COPERNICUS/S2/20180515T184941_20180515T190003_T10TGR', 'version': 1526588396444213, 'properties': {'DATATAKE_IDENTIFIER': 'GS2A_20180515T184941_015125_N02.06', 'SPACECRAFT_NAME': 'Sentinel-2A', 'MEAN_INCIDENCE_AZIMUTH_ANGLE_B8A': 110.377045111, 'MEAN_SOLAR_AZIMUTH_ANGLE': 153.00191382, 'system:footprint': {'type': 'LinearRing', 'coordinates': [[-120.41657559562707, 46.024390200286305], [-120.41658038301405, 46.024375534127586], [-120.43928743721263, 45.53081825011564], [-120.4614124704672, 45.03721706870636], [-120.46136252938089, 45.03717450025587], [-120.46132063552159, 45.037127844657405], [-120.46129986027638, 45.037124568011976], [-119.07021360813172, 44.99768606286748], [-119.07015260429186, 44.99772060211089], [-119.07008590370228, 44.9977494437377], [-119.07008087409673, 44.997764086998416], [-119.05309684508028, 45.24423985198358], [-119.03589250308471, 45.490692325555585], [-119.01846403670267, 45.737128992612746], [-119.00080765759417, 45.98354973136844], [-119.00085718442995, 45.98359296543167], [-119.0008985995177, 45.98364018673813], [-119.0009196715337, 45.983643762846285], [-120.4164469916696, 46.02445500956255], [-120.41650836718318, 46.02441982843817], [-120.41657559562707, 46.024390200286305]]}, 'SOLAR_IRRADIANCE_B12': 85.25, 'SOLAR_IRRADIANCE_B10': 367.15, 'SOLAR_IRRADIANCE_B11': 245.59, 'GENERATION_TIME': 1526428919000, 'quality_check': 'PASSED', 'SOLAR_IRRADIANCE_B8A': 955.32, 'CLOUD_COVERAGE_ASSESSMENT': 4.1586, 'system:time_end': 1526410803210, 'system:time_start': 1526410803210, 'DATASTRIP_ID': 'S2A_OPER_MSI_L1C_DS_EPAE_20180516T000159_S20180515T190003_N02.06', 'PROCESSING_BASELINE': '02.06', 'SENSING_ORBIT_NUMBER': 113, 'SENSING_ORBIT_DIRECTION': 'DESCENDING', 'GRANULE_ID': 'L1C_T10TGR_A015125_20180515T190003', 'REFLECTANCE_CONVERSION_CORRECTION': 0.980201639697, 'MEAN_INCIDENCE_AZIMUTH_ANGLE_B8': 114.484047628, 'DATATAKE_TYPE': 'INS-NOBS', 'MEAN_INCIDENCE_AZIMUTH_ANGLE_B9': 109.990386498, 'MEAN_INCIDENCE_AZIMUTH_ANGLE_B6': 111.119640255, 'MEAN_INCIDENCE_AZIMUTH_ANGLE_B7': 110.740621413, 'MEAN_INCIDENCE_AZIMUTH_ANGLE_B4': 112.132557811, 'MEAN_INCIDENCE_ZENITH_ANGLE_B1': 4.26107443209, 'MEAN_INCIDENCE_AZIMUTH_ANGLE_B5': 111.587176216, 'MEAN_INCIDENCE_AZIMUTH_ANGLE_B2': 115.743282863, 'MEAN_INCIDENCE_AZIMUTH_ANGLE_B3': 113.480233356, 'MEAN_INCIDENCE_ZENITH_ANGLE_B5': 3.97772358351, 'MEAN_INCIDENCE_AZIMUTH_ANGLE_B1': 110.194525466, 'MEAN_INCIDENCE_ZENITH_ANGLE_B4': 3.91609936473, 'MEAN_INCIDENCE_ZENITH_ANGLE_B3': 3.81776919401, 'MEAN_INCIDENCE_ZENITH_ANGLE_B2': 3.72695171243, 'MEAN_INCIDENCE_ZENITH_ANGLE_B9': 4.33472503942, 'MEAN_INCIDENCE_ZENITH_ANGLE_B8': 3.76947698987, 'MEAN_INCIDENCE_ZENITH_ANGLE_B7': 4.11224062084, 'MEAN_INCIDENCE_ZENITH_ANGLE_B6': 4.04308911738, 'MEAN_SOLAR_ZENITH_ANGLE': 28.7364436142, 'MEAN_INCIDENCE_ZENITH_ANGLE_B8A': 4.18793039702, 'MGRS_TILE': '10TGR', 'CLOUDY_PIXEL_PERCENTAGE': 4.1586, 'PRODUCT_ID': 'S2A_MSIL1C_20180515T184941_N0206_R113_T10TGR_20180516T000159', 'MEAN_INCIDENCE_ZENITH_ANGLE_B10': 3.88094146278, 'SOLAR_IRRADIANCE_B9': 812.92, 'DEGRADED_MSI_DATA_PERCENTAGE': 0, 'MEAN_INCIDENCE_ZENITH_ANGLE_B11': 4.02745314448, 'MEAN_INCIDENCE_ZENITH_ANGLE_B12': 4.19633466171, 'SOLAR_IRRADIANCE_B6': 1287.61, 'MEAN_INCIDENCE_AZIMUTH_ANGLE_B10': 112.269630876, 'SOLAR_IRRADIANCE_B5': 1424.64, 'MEAN_INCIDENCE_AZIMUTH_ANGLE_B11': 110.782358839, 'SOLAR_IRRADIANCE_B8': 1041.63, 'MEAN_INCIDENCE_AZIMUTH_ANGLE_B12': 109.96312413, 'SOLAR_IRRADIANCE_B7': 1162.08, 'SOLAR_IRRADIANCE_B2': 1959.72, 'SOLAR_IRRADIANCE_B1': 1884.69, 'SOLAR_IRRADIANCE_B4': 1512.06, 'SOLAR_IRRADIANCE_B3': 1823.24, 'system:asset_size': 1259552698, 'system:index': '20180515T184941_20180515T190003_T10TGR'}}, {'type': 'Image', 'bands': [{'id': 'B1', 'data_type': {'type': 'PixelType', 'precision': 'int', 'min': 0, 'max': 65535}, 'dimensions': [1830, 1830], 'crs': 'EPSG:32610', 'crs_transform': [60, 0, 699960, 0, -60, 5100000]}, {'id': 'B2', 'data_type': {'type': 'PixelType', 'precision': 'int', 'min': 0, 'max': 65535}, 'dimensions': [10980, 10980], 'crs': 'EPSG:32610', 'crs_transform': [10, 0, 699960, 0, -10, 5100000]}, {'id': 'B3', 'data_type': {'type': 'PixelType', 'precision': 'int', 'min': 0, 'max': 65535}, 'dimensions': [10980, 10980], 'crs': 'EPSG:32610', 'crs_transform': [10, 0, 699960, 0, -10, 5100000]}, {'id': 'B4', 'data_type': {'type': 'PixelType', 'precision': 'int', 'min': 0, 'max': 65535}, 'dimensions': [10980, 10980], 'crs': 'EPSG:32610', 'crs_transform': [10, 0, 699960, 0, -10, 5100000]}, {'id': 'B5', 'data_type': {'type': 'PixelType', 'precision': 'int', 'min': 0, 'max': 65535}, 'dimensions': [5490, 5490], 'crs': 'EPSG:32610', 'crs_transform': [20, 0, 699960, 0, -20, 5100000]}, {'id': 'B6', 'data_type': {'type': 'PixelType', 'precision': 'int', 'min': 0, 'max': 65535}, 'dimensions': [5490, 5490], 'crs': 'EPSG:32610', 'crs_transform': [20, 0, 699960, 0, -20, 5100000]}, {'id': 'B7', 'data_type': {'type': 'PixelType', 'precision': 'int', 'min': 0, 'max': 65535}, 'dimensions': [5490, 5490], 'crs': 'EPSG:32610', 'crs_transform': [20, 0, 699960, 0, -20, 5100000]}, {'id': 'B8', 'data_type': {'type': 'PixelType', 'precision': 'int', 'min': 0, 'max': 65535}, 'dimensions': [10980, 10980], 'crs': 'EPSG:32610', 'crs_transform': [10, 0, 699960, 0, -10, 5100000]}, {'id': 'B8A', 'data_type': {'type': 'PixelType', 'precision': 'int', 'min': 0, 'max': 65535}, 'dimensions': [5490, 5490], 'crs': 'EPSG:32610', 'crs_transform': [20, 0, 699960, 0, -20, 5100000]}, {'id': 'B9', 'data_type': {'type': 'PixelType', 'precision': 'int', 'min': 0, 'max': 65535}, 'dimensions': [1830, 1830], 'crs': 'EPSG:32610', 'crs_transform': [60, 0, 699960, 0, -60, 5100000]}, {'id': 'B10', 'data_type': {'type': 'PixelType', 'precision': 'int', 'min': 0, 'max': 65535}, 'dimensions': [1830, 1830], 'crs': 'EPSG:32610', 'crs_transform': [60, 0, 699960, 0, -60, 5100000]}, {'id': 'B11', 'data_type': {'type': 'PixelType', 'precision': 'int', 'min': 0, 'max': 65535}, 'dimensions': [5490, 5490], 'crs': 'EPSG:32610', 'crs_transform': [20, 0, 699960, 0, -20, 5100000]}, {'id': 'B12', 'data_type': {'type': 'PixelType', 'precision': 'int', 'min': 0, 'max': 65535}, 'dimensions': [5490, 5490], 'crs': 'EPSG:32610', 'crs_transform': [20, 0, 699960, 0, -20, 5100000]}, {'id': 'QA10', 'data_type': {'type': 'PixelType', 'precision': 'int', 'min': 0, 'max': 65535}, 'dimensions': [10980, 10980], 'crs': 'EPSG:32610', 'crs_transform': [10, 0, 699960, 0, -10, 5100000]}, {'id': 'QA20', 'data_type': {'type': 'PixelType', 'precision': 'int', 'min': 0, 'max': 4294967295}, 'dimensions': [5490, 5490], 'crs': 'EPSG:32610', 'crs_transform': [20, 0, 699960, 0, -20, 5100000]}, {'id': 'QA60', 'data_type': {'type': 'PixelType', 'precision': 'int', 'min': 0, 'max': 65535}, 'dimensions': [1830, 1830], 'crs': 'EPSG:32610', 'crs_transform': [60, 0, 699960, 0, -60, 5100000]}], 'id': 'COPERNICUS/S2/20180523T185919_20180523T190713_T10TGR', 'version': 1527366590928462, 'properties': {'DATATAKE_IDENTIFIER': 'GS2B_20180523T185919_006331_N02.06', 'SPACECRAFT_NAME': 'Sentinel-2B', 'MEAN_INCIDENCE_AZIMUTH_ANGLE_B8A': 286.866304789, 'MEAN_SOLAR_AZIMUTH_ANGLE': 156.39380784, 'system:footprint': {'type': 'LinearRing', 'coordinates': [[-119.91722716501681, 45.02446350177144], [-119.91718750011249, 45.02449454938091], [-119.89529816239722, 45.07702806597097], [-119.77927830710344, 45.354664475616836], [-119.67986004631761, 45.59125254429568], [-119.54173585596294, 45.91839267910936], [-119.51748142832389, 45.97616190048329], [-119.50833252741677, 45.99839530283436], [-119.50821869595752, 46.00020267302491], [-119.50831312677789, 46.00029559536446], [-120.4164469916696, 46.02445500956255], [-120.41657973002735, 46.02438834831809], [-120.43928743721263, 45.53081825011564], [-120.4614124704672, 45.03721706870636], [-120.46131800742988, 45.0371249413214], [-119.91861398048135, 45.02376099376214], [-119.91855225676599, 45.023768701987656], [-119.91722716501681, 45.02446350177144]]}, 'SOLAR_IRRADIANCE_B12': 87.75, 'SOLAR_IRRADIANCE_B10': 365.41, 'SOLAR_IRRADIANCE_B11': 247.08, 'GENERATION_TIME': 1527115162000, 'quality_check': 'PASSED', 'SOLAR_IRRADIANCE_B8A': 953.93, 'CLOUD_COVERAGE_ASSESSMENT': 6.4101, 'system:time_end': 1527102433290, 'system:time_start': 1527102433290, 'DATASTRIP_ID': 'S2B_OPER_MSI_L1C_DS_SGS__20180523T223922_S20180523T190713_N02.06', 'PROCESSING_BASELINE': '02.06', 'SENSING_ORBIT_NUMBER': 13, 'SENSING_ORBIT_DIRECTION': 'DESCENDING', 'GRANULE_ID': 'L1C_T10TGR_A006331_20180523T190713', 'REFLECTANCE_CONVERSION_CORRECTION': 0.976831010961, 'MEAN_INCIDENCE_AZIMUTH_ANGLE_B8': 286.302907604, 'DATATAKE_TYPE': 'INS-NOBS', 'MEAN_INCIDENCE_AZIMUTH_ANGLE_B9': 287.208082434, 'MEAN_INCIDENCE_AZIMUTH_ANGLE_B6': 286.6999724, 'MEAN_INCIDENCE_AZIMUTH_ANGLE_B7': 286.765230962, 'MEAN_INCIDENCE_AZIMUTH_ANGLE_B4': 286.527237019, 'MEAN_INCIDENCE_ZENITH_ANGLE_B1': 9.65725094285, 'MEAN_INCIDENCE_AZIMUTH_ANGLE_B5': 286.596078992, 'MEAN_INCIDENCE_AZIMUTH_ANGLE_B2': 286.198506126, 'MEAN_INCIDENCE_AZIMUTH_ANGLE_B3': 286.379377583, 'MEAN_INCIDENCE_ZENITH_ANGLE_B5': 9.56770773396, 'MEAN_INCIDENCE_AZIMUTH_ANGLE_B1': 287.00853775, 'MEAN_INCIDENCE_ZENITH_ANGLE_B4': 9.55064120452, 'MEAN_INCIDENCE_ZENITH_ANGLE_B3': 9.52483025575, 'MEAN_INCIDENCE_ZENITH_ANGLE_B2': 9.50490619698, 'MEAN_INCIDENCE_ZENITH_ANGLE_B9': 9.68416684169, 'MEAN_INCIDENCE_ZENITH_ANGLE_B8': 9.51441814327, 'MEAN_INCIDENCE_ZENITH_ANGLE_B7': 9.60889454477, 'MEAN_INCIDENCE_ZENITH_ANGLE_B6': 9.58754136025, 'MEAN_SOLAR_ZENITH_ANGLE': 26.4260588873, 'MEAN_INCIDENCE_ZENITH_ANGLE_B8A': 9.63289240326, 'MGRS_TILE': '10TGR', 'CLOUDY_PIXEL_PERCENTAGE': 6.4101, 'PRODUCT_ID': 'S2B_MSIL1C_20180523T185919_N0206_R013_T10TGR_20180523T223922', 'MEAN_INCIDENCE_ZENITH_ANGLE_B10': 9.54058020933, 'SOLAR_IRRADIANCE_B9': 817.58, 'DEGRADED_MSI_DATA_PERCENTAGE': 0, 'MEAN_INCIDENCE_ZENITH_ANGLE_B11': 9.58429264167, 'MEAN_INCIDENCE_ZENITH_ANGLE_B12': 9.63849146224, 'SOLAR_IRRADIANCE_B6': 1291.13, 'MEAN_INCIDENCE_AZIMUTH_ANGLE_B10': 286.457912029, 'SOLAR_IRRADIANCE_B5': 1425.78, 'MEAN_INCIDENCE_AZIMUTH_ANGLE_B11': 286.619675216, 'SOLAR_IRRADIANCE_B8': 1041.28, 'MEAN_INCIDENCE_AZIMUTH_ANGLE_B12': 286.823607608, 'SOLAR_IRRADIANCE_B7': 1175.57, 'SOLAR_IRRADIANCE_B2': 1959.77, 'SOLAR_IRRADIANCE_B1': 1874.3, 'SOLAR_IRRADIANCE_B4': 1512.79, 'SOLAR_IRRADIANCE_B3': 1824.93, 'system:asset_size': 642816840, 'system:index': '20180523T185919_20180523T190713_T10TGR'}}, {'type': 'Image', 'bands': [{'id': 'B1', 'data_type': {'type': 'PixelType', 'precision': 'int', 'min': 0, 'max': 65535}, 'dimensions': [1830, 1830], 'crs': 'EPSG:32610', 'crs_transform': [60, 0, 699960, 0, -60, 5100000]}, {'id': 'B2', 'data_type': {'type': 'PixelType', 'precision': 'int', 'min': 0, 'max': 65535}, 'dimensions': [10980, 10980], 'crs': 'EPSG:32610', 'crs_transform': [10, 0, 699960, 0, -10, 5100000]}, {'id': 'B3', 'data_type': {'type': 'PixelType', 'precision': 'int', 'min': 0, 'max': 65535}, 'dimensions': [10980, 10980], 'crs': 'EPSG:32610', 'crs_transform': [10, 0, 699960, 0, -10, 5100000]}, {'id': 'B4', 'data_type': {'type': 'PixelType', 'precision': 'int', 'min': 0, 'max': 65535}, 'dimensions': [10980, 10980], 'crs': 'EPSG:32610', 'crs_transform': [10, 0, 699960, 0, -10, 5100000]}, {'id': 'B5', 'data_type': {'type': 'PixelType', 'precision': 'int', 'min': 0, 'max': 65535}, 'dimensions': [5490, 5490], 'crs': 'EPSG:32610', 'crs_transform': [20, 0, 699960, 0, -20, 5100000]}, {'id': 'B6', 'data_type': {'type': 'PixelType', 'precision': 'int', 'min': 0, 'max': 65535}, 'dimensions': [5490, 5490], 'crs': 'EPSG:32610', 'crs_transform': [20, 0, 699960, 0, -20, 5100000]}, {'id': 'B7', 'data_type': {'type': 'PixelType', 'precision': 'int', 'min': 0, 'max': 65535}, 'dimensions': [5490, 5490], 'crs': 'EPSG:32610', 'crs_transform': [20, 0, 699960, 0, -20, 5100000]}, {'id': 'B8', 'data_type': {'type': 'PixelType', 'precision': 'int', 'min': 0, 'max': 65535}, 'dimensions': [10980, 10980], 'crs': 'EPSG:32610', 'crs_transform': [10, 0, 699960, 0, -10, 5100000]}, {'id': 'B8A', 'data_type': {'type': 'PixelType', 'precision': 'int', 'min': 0, 'max': 65535}, 'dimensions': [5490, 5490], 'crs': 'EPSG:32610', 'crs_transform': [20, 0, 699960, 0, -20, 5100000]}, {'id': 'B9', 'data_type': {'type': 'PixelType', 'precision': 'int', 'min': 0, 'max': 65535}, 'dimensions': [1830, 1830], 'crs': 'EPSG:32610', 'crs_transform': [60, 0, 699960, 0, -60, 5100000]}, {'id': 'B10', 'data_type': {'type': 'PixelType', 'precision': 'int', 'min': 0, 'max': 65535}, 'dimensions': [1830, 1830], 'crs': 'EPSG:32610', 'crs_transform': [60, 0, 699960, 0, -60, 5100000]}, {'id': 'B11', 'data_type': {'type': 'PixelType', 'precision': 'int', 'min': 0, 'max': 65535}, 'dimensions': [5490, 5490], 'crs': 'EPSG:32610', 'crs_transform': [20, 0, 699960, 0, -20, 5100000]}, {'id': 'B12', 'data_type': {'type': 'PixelType', 'precision': 'int', 'min': 0, 'max': 65535}, 'dimensions': [5490, 5490], 'crs': 'EPSG:32610', 'crs_transform': [20, 0, 699960, 0, -20, 5100000]}, {'id': 'QA10', 'data_type': {'type': 'PixelType', 'precision': 'int', 'min': 0, 'max': 65535}, 'dimensions': [10980, 10980], 'crs': 'EPSG:32610', 'crs_transform': [10, 0, 699960, 0, -10, 5100000]}, {'id': 'QA20', 'data_type': {'type': 'PixelType', 'precision': 'int', 'min': 0, 'max': 4294967295}, 'dimensions': [5490, 5490], 'crs': 'EPSG:32610', 'crs_transform': [20, 0, 699960, 0, -20, 5100000]}, {'id': 'QA60', 'data_type': {'type': 'PixelType', 'precision': 'int', 'min': 0, 'max': 65535}, 'dimensions': [1830, 1830], 'crs': 'EPSG:32610', 'crs_transform': [60, 0, 699960, 0, -60, 5100000]}], 'id': 'COPERNICUS/S2/20180528T185921_20180528T190615_T10TGR', 'version': 1527621392008566, 'properties': {'DATATAKE_IDENTIFIER': 'GS2A_20180528T185921_015311_N02.06', 'SPACECRAFT_NAME': 'Sentinel-2A', 'MEAN_INCIDENCE_AZIMUTH_ANGLE_B8A': 287.562938878, 'MEAN_SOLAR_AZIMUTH_ANGLE': 155.552757184, 'system:footprint': {'type': 'LinearRing', 'coordinates': [[-120.4164469916696, 46.02445500956255], [-120.41657973002735, 46.02438834831809], [-120.43928743721263, 45.53081825011564], [-120.46141645677771, 45.03712712064199], [-119.92439165964859, 45.023916886545095], [-119.92327582313973, 45.024650218385005], [-119.92182438920317, 45.027875134277636], [-119.92037311021272, 45.0312575790687], [-119.90141676402203, 45.07665413902482], [-119.8132169978177, 45.28684526619338], [-119.7763802238246, 45.37420576182361], [-119.74888816653421, 45.43931670241085], [-119.70077028255116, 45.553873488716704], [-119.63988057285106, 45.69809722511323], [-119.5870328447865, 45.82326507641854], [-119.53387640252654, 45.9492977418084], [-119.51415490444347, 45.99622370609856], [-119.51290507878818, 45.99961648395377], [-119.51285362929742, 46.00043439969551], [-120.4164469916696, 46.02445500956255]]}, 'SOLAR_IRRADIANCE_B12': 85.25, 'SOLAR_IRRADIANCE_B10': 367.15, 'SOLAR_IRRADIANCE_B11': 245.59, 'GENERATION_TIME': 1527547144000, 'quality_check': 'PASSED', 'SOLAR_IRRADIANCE_B8A': 955.32, 'CLOUD_COVERAGE_ASSESSMENT': 0, 'system:time_end': 1527534375960, 'system:time_start': 1527534375960, 'DATASTRIP_ID': 'S2A_OPER_MSI_L1C_DS_SGS__20180528T223904_S20180528T190615_N02.06', 'PROCESSING_BASELINE': '02.06', 'SENSING_ORBIT_NUMBER': 13, 'SENSING_ORBIT_DIRECTION': 'DESCENDING', 'GRANULE_ID': 'L1C_T10TGR_A015311_20180528T190615', 'REFLECTANCE_CONVERSION_CORRECTION': 0.974949206117, 'MEAN_INCIDENCE_AZIMUTH_ANGLE_B8': 286.919184147, 'DATATAKE_TYPE': 'INS-NOBS', 'MEAN_INCIDENCE_AZIMUTH_ANGLE_B9': 287.721255918, 'MEAN_INCIDENCE_AZIMUTH_ANGLE_B6': 287.371286294, 'MEAN_INCIDENCE_AZIMUTH_ANGLE_B7': 287.461208552, 'MEAN_INCIDENCE_AZIMUTH_ANGLE_B4': 287.181713112, 'MEAN_INCIDENCE_ZENITH_ANGLE_B1': 9.6306258741, 'MEAN_INCIDENCE_AZIMUTH_ANGLE_B5': 287.269406666, 'MEAN_INCIDENCE_AZIMUTH_ANGLE_B2': 286.827593747, 'MEAN_INCIDENCE_AZIMUTH_ANGLE_B3': 287.011058087, 'MEAN_INCIDENCE_ZENITH_ANGLE_B5': 9.53753801048, 'MEAN_INCIDENCE_AZIMUTH_ANGLE_B1': 287.619488766, 'MEAN_INCIDENCE_ZENITH_ANGLE_B4': 9.51962242263, 'MEAN_INCIDENCE_ZENITH_ANGLE_B3': 9.49211037024, 'MEAN_INCIDENCE_ZENITH_ANGLE_B2': 9.47042568868, 'MEAN_INCIDENCE_ZENITH_ANGLE_B9': 9.65975953417, 'MEAN_INCIDENCE_ZENITH_ANGLE_B8': 9.48018939977, 'MEAN_INCIDENCE_ZENITH_ANGLE_B7': 9.57986353621, 'MEAN_INCIDENCE_ZENITH_ANGLE_B6': 9.55768870471, 'MEAN_SOLAR_ZENITH_ANGLE': 25.6367118717, 'MEAN_INCIDENCE_ZENITH_ANGLE_B8A': 9.60414592546, 'MGRS_TILE': '10TGR', 'CLOUDY_PIXEL_PERCENTAGE': 0, 'PRODUCT_ID': 'S2A_MSIL1C_20180528T185921_N0206_R013_T10TGR_20180528T223904', 'MEAN_INCIDENCE_ZENITH_ANGLE_B10': 9.52310005971, 'SOLAR_IRRADIANCE_B9': 812.92, 'DEGRADED_MSI_DATA_PERCENTAGE': 0, 'MEAN_INCIDENCE_ZENITH_ANGLE_B11': 9.57922476688, 'MEAN_INCIDENCE_ZENITH_ANGLE_B12': 9.65091097605, 'SOLAR_IRRADIANCE_B6': 1287.61, 'MEAN_INCIDENCE_AZIMUTH_ANGLE_B10': 287.133067256, 'SOLAR_IRRADIANCE_B5': 1424.64, 'MEAN_INCIDENCE_AZIMUTH_ANGLE_B11': 287.381310982, 'SOLAR_IRRADIANCE_B8': 1041.63, 'MEAN_INCIDENCE_AZIMUTH_ANGLE_B12': 287.678128533, 'SOLAR_IRRADIANCE_B7': 1162.08, 'SOLAR_IRRADIANCE_B2': 1959.72, 'SOLAR_IRRADIANCE_B1': 1884.69, 'SOLAR_IRRADIANCE_B4': 1512.06, 'SOLAR_IRRADIANCE_B3': 1823.24, 'system:asset_size': 624432273, 'system:index': '20180528T185921_20180528T190615_T10TGR'}}, {'type': 'Image', 'bands': [{'id': 'B1', 'data_type': {'type': 'PixelType', 'precision': 'int', 'min': 0, 'max': 65535}, 'dimensions': [1830, 1830], 'crs': 'EPSG:32610', 'crs_transform': [60, 0, 699960, 0, -60, 5100000]}, {'id': 'B2', 'data_type': {'type': 'PixelType', 'precision': 'int', 'min': 0, 'max': 65535}, 'dimensions': [10980, 10980], 'crs': 'EPSG:32610', 'crs_transform': [10, 0, 699960, 0, -10, 5100000]}, {'id': 'B3', 'data_type': {'type': 'PixelType', 'precision': 'int', 'min': 0, 'max': 65535}, 'dimensions': [10980, 10980], 'crs': 'EPSG:32610', 'crs_transform': [10, 0, 699960, 0, -10, 5100000]}, {'id': 'B4', 'data_type': {'type': 'PixelType', 'precision': 'int', 'min': 0, 'max': 65535}, 'dimensions': [10980, 10980], 'crs': 'EPSG:32610', 'crs_transform': [10, 0, 699960, 0, -10, 5100000]}, {'id': 'B5', 'data_type': {'type': 'PixelType', 'precision': 'int', 'min': 0, 'max': 65535}, 'dimensions': [5490, 5490], 'crs': 'EPSG:32610', 'crs_transform': [20, 0, 699960, 0, -20, 5100000]}, {'id': 'B6', 'data_type': {'type': 'PixelType', 'precision': 'int', 'min': 0, 'max': 65535}, 'dimensions': [5490, 5490], 'crs': 'EPSG:32610', 'crs_transform': [20, 0, 699960, 0, -20, 5100000]}, {'id': 'B7', 'data_type': {'type': 'PixelType', 'precision': 'int', 'min': 0, 'max': 65535}, 'dimensions': [5490, 5490], 'crs': 'EPSG:32610', 'crs_transform': [20, 0, 699960, 0, -20, 5100000]}, {'id': 'B8', 'data_type': {'type': 'PixelType', 'precision': 'int', 'min': 0, 'max': 65535}, 'dimensions': [10980, 10980], 'crs': 'EPSG:32610', 'crs_transform': [10, 0, 699960, 0, -10, 5100000]}, {'id': 'B8A', 'data_type': {'type': 'PixelType', 'precision': 'int', 'min': 0, 'max': 65535}, 'dimensions': [5490, 5490], 'crs': 'EPSG:32610', 'crs_transform': [20, 0, 699960, 0, -20, 5100000]}, {'id': 'B9', 'data_type': {'type': 'PixelType', 'precision': 'int', 'min': 0, 'max': 65535}, 'dimensions': [1830, 1830], 'crs': 'EPSG:32610', 'crs_transform': [60, 0, 699960, 0, -60, 5100000]}, {'id': 'B10', 'data_type': {'type': 'PixelType', 'precision': 'int', 'min': 0, 'max': 65535}, 'dimensions': [1830, 1830], 'crs': 'EPSG:32610', 'crs_transform': [60, 0, 699960, 0, -60, 5100000]}, {'id': 'B11', 'data_type': {'type': 'PixelType', 'precision': 'int', 'min': 0, 'max': 65535}, 'dimensions': [5490, 5490], 'crs': 'EPSG:32610', 'crs_transform': [20, 0, 699960, 0, -20, 5100000]}, {'id': 'B12', 'data_type': {'type': 'PixelType', 'precision': 'int', 'min': 0, 'max': 65535}, 'dimensions': [5490, 5490], 'crs': 'EPSG:32610', 'crs_transform': [20, 0, 699960, 0, -20, 5100000]}, {'id': 'QA10', 'data_type': {'type': 'PixelType', 'precision': 'int', 'min': 0, 'max': 65535}, 'dimensions': [10980, 10980], 'crs': 'EPSG:32610', 'crs_transform': [10, 0, 699960, 0, -10, 5100000]}, {'id': 'QA20', 'data_type': {'type': 'PixelType', 'precision': 'int', 'min': 0, 'max': 4294967295}, 'dimensions': [5490, 5490], 'crs': 'EPSG:32610', 'crs_transform': [20, 0, 699960, 0, -20, 5100000]}, {'id': 'QA60', 'data_type': {'type': 'PixelType', 'precision': 'int', 'min': 0, 'max': 65535}, 'dimensions': [1830, 1830], 'crs': 'EPSG:32610', 'crs_transform': [60, 0, 699960, 0, -60, 5100000]}], 'id': 'COPERNICUS/S2/20180602T185919_20180602T191046_T10TGR', 'version': 1535836301091863, 'properties': {'DATATAKE_IDENTIFIER': 'GS2B_20180602T185919_006474_N02.06', 'SPACECRAFT_NAME': 'Sentinel-2B', 'MEAN_INCIDENCE_AZIMUTH_ANGLE_B8A': 286.858770104, 'MEAN_SOLAR_AZIMUTH_ANGLE': 154.617627971, 'system:footprint': {'type': 'LinearRing', 'coordinates': [[-119.5070214996044, 46.00025324667218], [-119.50704258844999, 46.00025672920431], [-120.4164469916696, 46.02445500956255], [-120.41650836718318, 46.02441982843817], [-120.41657973002735, 46.02438834831809], [-120.43928743721263, 45.53081825011564], [-120.4614124704672, 45.03721706870636], [-120.46136252938089, 45.03717450025587], [-120.46131800742988, 45.0371249413214], [-119.91607907411925, 45.02369252485499], [-119.91603143251467, 45.02372002257916], [-119.9159713331652, 45.023729365555674], [-119.91595597248862, 45.02374905649069], [-119.9145509737933, 45.02623563613226], [-119.88827136297203, 45.089439192115755], [-119.84724457427805, 45.188232509362344], [-119.67714109395318, 45.59387381379585], [-119.54654593085475, 45.903236688712305], [-119.50710014022427, 45.997457275469095], [-119.50692970538287, 46.00016322992407], [-119.50697963218644, 46.000206265199076], [-119.5070214996044, 46.00025324667218]]}, 'SOLAR_IRRADIANCE_B12': 87.75, 'SOLAR_IRRADIANCE_B10': 365.41, 'SOLAR_IRRADIANCE_B11': 247.08, 'GENERATION_TIME': 1527977853000, 'quality_check': 'PASSED', 'SOLAR_IRRADIANCE_B8A': 953.93, 'CLOUD_COVERAGE_ASSESSMENT': 1.0083, 'system:time_end': 1527966646150, 'system:time_start': 1527966646150, 'DATASTRIP_ID': 'S2B_OPER_MSI_L1C_DS_MPS__20180602T221733_S20180602T191046_N02.06', 'PROCESSING_BASELINE': '02.06', 'SENSING_ORBIT_NUMBER': 13, 'SENSING_ORBIT_DIRECTION': 'DESCENDING', 'GRANULE_ID': 'L1C_T10TGR_A006474_20180602T191046', 'REFLECTANCE_CONVERSION_CORRECTION': 0.973254019378, 'MEAN_INCIDENCE_AZIMUTH_ANGLE_B8': 286.229015534, 'DATATAKE_TYPE': 'INS-NOBS', 'MEAN_INCIDENCE_AZIMUTH_ANGLE_B9': 287.022475269, 'MEAN_INCIDENCE_AZIMUTH_ANGLE_B6': 286.666343318, 'MEAN_INCIDENCE_AZIMUTH_ANGLE_B7': 286.757465836, 'MEAN_INCIDENCE_AZIMUTH_ANGLE_B4': 286.478035277, 'MEAN_INCIDENCE_ZENITH_ANGLE_B1': 9.65027487086, 'MEAN_INCIDENCE_AZIMUTH_ANGLE_B5': 286.564836027, 'MEAN_INCIDENCE_AZIMUTH_ANGLE_B2': 286.147679172, 'MEAN_INCIDENCE_AZIMUTH_ANGLE_B3': 286.308100819, 'MEAN_INCIDENCE_ZENITH_ANGLE_B5': 9.55799186881, 'MEAN_INCIDENCE_AZIMUTH_ANGLE_B1': 286.918857606, 'MEAN_INCIDENCE_ZENITH_ANGLE_B4': 9.54025913518, 'MEAN_INCIDENCE_ZENITH_ANGLE_B3': 9.51313224105, 'MEAN_INCIDENCE_ZENITH_ANGLE_B2': 9.49323450418, 'MEAN_INCIDENCE_ZENITH_ANGLE_B9': 9.67919869047, 'MEAN_INCIDENCE_ZENITH_ANGLE_B8': 9.50211680068, 'MEAN_INCIDENCE_ZENITH_ANGLE_B7': 9.59987095029, 'MEAN_INCIDENCE_ZENITH_ANGLE_B6': 9.57785037648, 'MEAN_SOLAR_ZENITH_ANGLE': 25.0233287676, 'MEAN_INCIDENCE_ZENITH_ANGLE_B8A': 9.62389360864, 'MGRS_TILE': '10TGR', 'CLOUDY_PIXEL_PERCENTAGE': 1.0083, 'PRODUCT_ID': 'S2B_MSIL1C_20180602T185919_N0206_R013_T10TGR_20180602T221733', 'MEAN_INCIDENCE_ZENITH_ANGLE_B10': 9.53156495581, 'SOLAR_IRRADIANCE_B9': 817.58, 'DEGRADED_MSI_DATA_PERCENTAGE': 0, 'MEAN_INCIDENCE_ZENITH_ANGLE_B11': 9.57460301553, 'MEAN_INCIDENCE_ZENITH_ANGLE_B12': 9.62949961108, 'SOLAR_IRRADIANCE_B6': 1291.13, 'MEAN_INCIDENCE_AZIMUTH_ANGLE_B10': 286.345956064, 'SOLAR_IRRADIANCE_B5': 1425.78, 'MEAN_INCIDENCE_AZIMUTH_ANGLE_B11': 286.586335804, 'SOLAR_IRRADIANCE_B8': 1041.28, 'MEAN_INCIDENCE_AZIMUTH_ANGLE_B12': 286.816081952, 'SOLAR_IRRADIANCE_B7': 1175.57, 'SOLAR_IRRADIANCE_B2': 1959.77, 'SOLAR_IRRADIANCE_B1': 1874.3, 'SOLAR_IRRADIANCE_B4': 1512.79, 'SOLAR_IRRADIANCE_B3': 1824.93, 'system:asset_size': 632090610, 'system:index': '20180602T185919_20180602T191046_T10TGR'}}]\n"
     ]
    }
   ],
   "source": [
    "list_of_images = a_double_crop_field_image_collection.toList(10)\n",
    "print (list_of_images.getInfo())"
   ]
  },
  {
   "cell_type": "code",
   "execution_count": 0,
   "metadata": {
    "colab": {
     "base_uri": "https://localhost:8080/",
     "height": 155
    },
    "colab_type": "code",
    "executionInfo": {
     "elapsed": 1720,
     "status": "ok",
     "timestamp": 1579046515654,
     "user": {
      "displayName": "Hossein Noorazar",
      "photoUrl": "https://lh3.googleusercontent.com/a-/AAuE7mCD51X50VG0jXrChn3oUAWabpFgjnI_rX3bygPwilU=s64",
      "userId": "07953809792932992694"
     },
     "user_tz": 480
    },
    "id": "FznPea7QV7Q_",
    "outputId": "a912b61d-2423-4abd-93f6-df7a5ba9f782"
   },
   "outputs": [
    {
     "data": {
      "text/plain": [
       "{'creation_timestamp_ms': 1579046515697,\n",
       " 'description': 'a_double_crop_field_RGB_SCL_AOT',\n",
       " 'id': 'CI7W4OFOI7FQNS6IK56RSB2C',\n",
       " 'name': 'projects/earthengine-legacy/operations/CI7W4OFOI7FQNS6IK56RSB2C',\n",
       " 'start_timestamp_ms': 0,\n",
       " 'state': 'READY',\n",
       " 'task_type': 'EXPORT_IMAGE',\n",
       " 'update_timestamp_ms': 1579046515697}"
      ]
     },
     "execution_count": 22,
     "metadata": {
      "tags": []
     },
     "output_type": "execute_result"
    }
   ],
   "source": [
    "# This will not work, since an image collection -collection in time- is being exported.\n",
    "# An image to be exported need to be single image. So, either a median should be taken over time, or\n",
    "# a single snapshot in time needs to be saved.\n",
    "\n",
    "myScale = 50\n",
    "\n",
    "task = ee.batch.Export.image.toDrive(image=a_double_crop_field_image_collection,\n",
    "                                     region = a_double_crop_field_polygon.getInfo()['coordinates'],\n",
    "                                     description='a_double_crop_field_RGB_SCL_AOT',\n",
    "                                     folder='Sentinel_Images_off_EE',\n",
    "                                     # fileNamePrefix='myFilePrefix',\n",
    "                                     # crs = myCRS\n",
    "                                     maxPixels= 1e9,\n",
    "                                     scale=myScale)\n",
    "task.start()\n",
    "task.status()"
   ]
  },
  {
   "cell_type": "code",
   "execution_count": 0,
   "metadata": {
    "colab": {},
    "colab_type": "code",
    "id": "qdY6FFwZDyBJ"
   },
   "outputs": [],
   "source": [
    "double_crop_NDVI = compute_collection_NDVI(a_double_crop_field_image_collection)"
   ]
  },
  {
   "cell_type": "markdown",
   "metadata": {
    "colab_type": "text",
    "id": "FLn63ww0SQnX"
   },
   "source": [
    "# information about image collection double_crop_NDVI"
   ]
  },
  {
   "cell_type": "code",
   "execution_count": 0,
   "metadata": {
    "colab": {
     "base_uri": "https://localhost:8080/",
     "height": 52
    },
    "colab_type": "code",
    "executionInfo": {
     "elapsed": 578,
     "status": "ok",
     "timestamp": 1579046573488,
     "user": {
      "displayName": "Hossein Noorazar",
      "photoUrl": "https://lh3.googleusercontent.com/a-/AAuE7mCD51X50VG0jXrChn3oUAWabpFgjnI_rX3bygPwilU=s64",
      "userId": "07953809792932992694"
     },
     "user_tz": 480
    },
    "id": "SVQ6MvWuSVPM",
    "outputId": "fef10924-228f-4164-9ed6-3f40bca26c0b"
   },
   "outputs": [
    {
     "name": "stdout",
     "output_type": "stream",
     "text": [
      "<class 'ee.ee_number.Number'>\n",
      "type of double_crop_NDVI is: <class 'ee.imagecollection.ImageCollection'>\n"
     ]
    }
   ],
   "source": [
    "print (type(double_crop_NDVI.size()))\n",
    "print (\"type of double_crop_NDVI is: \" + str(type(double_crop_NDVI)))\n",
    "# print (\"double_crop_NDVI collection size is \" + str(double_crop_NDVI.size()))"
   ]
  },
  {
   "cell_type": "code",
   "execution_count": 0,
   "metadata": {
    "colab": {},
    "colab_type": "code",
    "id": "S6cld6R1GgRD"
   },
   "outputs": [],
   "source": [
    "double_crop_NDVI_band = double_crop_NDVI.select(['NDVI'])\n",
    "\n",
    "# The following takes median over time. We want to take median over space.\n",
    "double_crop_NDVI_band_reduced = double_crop_NDVI_band.median()"
   ]
  },
  {
   "cell_type": "code",
   "execution_count": 0,
   "metadata": {
    "colab": {
     "base_uri": "https://localhost:8080/",
     "height": 69
    },
    "colab_type": "code",
    "executionInfo": {
     "elapsed": 968,
     "status": "ok",
     "timestamp": 1579046577842,
     "user": {
      "displayName": "Hossein Noorazar",
      "photoUrl": "https://lh3.googleusercontent.com/a-/AAuE7mCD51X50VG0jXrChn3oUAWabpFgjnI_rX3bygPwilU=s64",
      "userId": "07953809792932992694"
     },
     "user_tz": 480
    },
    "id": "efC0lUkCRnVq",
    "outputId": "b5a47227-dafb-4f55-cc72-e022f3700bc5"
   },
   "outputs": [
    {
     "name": "stdout",
     "output_type": "stream",
     "text": [
      "['NDVI']\n",
      "<class 'ee.image.Image'>\n",
      "<class 'ee.imagecollection.ImageCollection'>\n"
     ]
    }
   ],
   "source": [
    "bandNames = double_crop_NDVI_band_reduced.bandNames()\n",
    "\n",
    "print (bandNames.getInfo())\n",
    "print (type(double_crop_NDVI_band_reduced))\n",
    "print (type(double_crop_NDVI_band))"
   ]
  },
  {
   "cell_type": "code",
   "execution_count": 0,
   "metadata": {
    "colab": {
     "base_uri": "https://localhost:8080/",
     "height": 52
    },
    "colab_type": "code",
    "executionInfo": {
     "elapsed": 911,
     "status": "ok",
     "timestamp": 1579046580558,
     "user": {
      "displayName": "Hossein Noorazar",
      "photoUrl": "https://lh3.googleusercontent.com/a-/AAuE7mCD51X50VG0jXrChn3oUAWabpFgjnI_rX3bygPwilU=s64",
      "userId": "07953809792932992694"
     },
     "user_tz": 480
    },
    "id": "lbezlCYCXsxf",
    "outputId": "8eab6d9b-fdaa-4611-c15f-ba2e31c3415a"
   },
   "outputs": [
    {
     "name": "stdout",
     "output_type": "stream",
     "text": [
      "Count:  48\n",
      "\n"
     ]
    }
   ],
   "source": [
    "count = double_crop_NDVI_band.size()\n",
    "print('Count: ', str(count.getInfo())+'\\n')"
   ]
  },
  {
   "cell_type": "code",
   "execution_count": 0,
   "metadata": {
    "colab": {
     "base_uri": "https://localhost:8080/",
     "height": 34
    },
    "colab_type": "code",
    "executionInfo": {
     "elapsed": 704,
     "status": "ok",
     "timestamp": 1573521298771,
     "user": {
      "displayName": "Hossein Noorazar",
      "photoUrl": "https://lh3.googleusercontent.com/a-/AAuE7mCD51X50VG0jXrChn3oUAWabpFgjnI_rX3bygPwilU=s64",
      "userId": "07953809792932992694"
     },
     "user_tz": 480
    },
    "id": "ZXXfs5LbX35f",
    "outputId": "1a22bd5b-2018-4675-ae91-6a51d161982e"
   },
   "outputs": [
    {
     "data": {
      "text/plain": [
       "ee.imagecollection.ImageCollection"
      ]
     },
     "execution_count": 137,
     "metadata": {
      "tags": []
     },
     "output_type": "execute_result"
    }
   ],
   "source": [
    "type(double_crop_NDVI_band)"
   ]
  },
  {
   "cell_type": "code",
   "execution_count": 0,
   "metadata": {
    "colab": {
     "base_uri": "https://localhost:8080/",
     "height": 50
    },
    "colab_type": "code",
    "executionInfo": {
     "elapsed": 597,
     "status": "ok",
     "timestamp": 1573507609241,
     "user": {
      "displayName": "Hossein Noorazar",
      "photoUrl": "https://lh3.googleusercontent.com/a-/AAuE7mCD51X50VG0jXrChn3oUAWabpFgjnI_rX3bygPwilU=s64",
      "userId": "07953809792932992694"
     },
     "user_tz": 480
    },
    "id": "4vUkhbNYTiG0",
    "outputId": "4c0721ae-4ac1-4b91-d32a-3583c9e8c5dd"
   },
   "outputs": [
    {
     "name": "stdout",
     "output_type": "stream",
     "text": [
      "Count:  9\n",
      "\n"
     ]
    }
   ],
   "source": []
  },
  {
   "cell_type": "code",
   "execution_count": 0,
   "metadata": {
    "colab": {},
    "colab_type": "code",
    "id": "B2dJ45LcmLfR"
   },
   "outputs": [],
   "source": [
    "DDD = [[-119.79749473988022, 45.90439345934826],\n",
    "       [-119.79766640125717, 45.90370660669838],\n",
    "       [-119.79762348591294, 45.90254192408789],\n",
    "       [-119.79697975574936, 45.901496675301104],\n",
    "       [-119.79577812611069, 45.90072019203491],\n",
    "       [-119.79423317371811, 45.90024235078123],\n",
    "       [-119.7924307292601, 45.90012288982523],\n",
    "       [-119.79075703083481, 45.900630597113086],\n",
    "       [-119.78946957050766, 45.90152653982524],\n",
    "       [-119.78882584034409, 45.90275097148382],\n",
    "       [-119.78869709431137, 45.90391564970881],\n",
    "       [-119.789169163098, 45.904811539409366],\n",
    "       [-119.78985580860581, 45.90531920382207],\n",
    "       [-119.79110035358872, 45.9058567257871],\n",
    "       [-119.7920874065062, 45.90624493285829],\n",
    "       [-119.79346069752182, 45.906334518719945],\n",
    "       [-119.7946623271605, 45.90615534685204],\n",
    "       [-119.79586395679917, 45.90567755237708],\n",
    "       [ -119.79697975574936, 45.90496085295384], \n",
    "      [-119.79749473988022, 45.90439345934826]\n",
    "]"
   ]
  },
  {
   "cell_type": "code",
   "execution_count": 0,
   "metadata": {
    "colab": {
     "base_uri": "https://localhost:8080/",
     "height": 35
    },
    "colab_type": "code",
    "executionInfo": {
     "elapsed": 433,
     "status": "ok",
     "timestamp": 1579048186830,
     "user": {
      "displayName": "Hossein Noorazar",
      "photoUrl": "https://lh3.googleusercontent.com/a-/AAuE7mCD51X50VG0jXrChn3oUAWabpFgjnI_rX3bygPwilU=s64",
      "userId": "07953809792932992694"
     },
     "user_tz": 480
    },
    "id": "da_PLBN9mLky",
    "outputId": "b99b8701-3d23-425e-ddb0-18f0cb9f2e7c"
   },
   "outputs": [
    {
     "data": {
      "text/plain": [
       "list"
      ]
     },
     "execution_count": 44,
     "metadata": {
      "tags": []
     },
     "output_type": "execute_result"
    }
   ],
   "source": [
    "type(DDD[0])"
   ]
  },
  {
   "cell_type": "code",
   "execution_count": 0,
   "metadata": {
    "colab": {},
    "colab_type": "code",
    "id": "rukjqYDfmLiW"
   },
   "outputs": [],
   "source": []
  },
  {
   "cell_type": "code",
   "execution_count": 0,
   "metadata": {
    "colab": {},
    "colab_type": "code",
    "id": "4uFIu087XgQL"
   },
   "outputs": [],
   "source": [
    "# x = np.array([get_date(d['id']) for d in double_crop_NDVI]) # throws an error: 'ImageCollection' object is not iterable "
   ]
  }
 ],
 "metadata": {
  "colab": {
   "collapsed_sections": [],
   "name": "First_notebook_to_explore.ipynb",
   "provenance": []
  },
  "kernelspec": {
   "display_name": "Python 3",
   "language": "python",
   "name": "python3"
  },
  "language_info": {
   "codemirror_mode": {
    "name": "ipython",
    "version": 3
   },
   "file_extension": ".py",
   "mimetype": "text/x-python",
   "name": "python",
   "nbconvert_exporter": "python",
   "pygments_lexer": "ipython3",
   "version": "3.7.4"
  }
 },
 "nbformat": 4,
 "nbformat_minor": 1
}
