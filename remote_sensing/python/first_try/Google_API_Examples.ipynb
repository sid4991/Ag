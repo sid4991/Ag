{
 "cells": [
  {
   "cell_type": "markdown",
   "metadata": {},
   "source": [
    "#### [Create and render a feature collection from polygons.](https://github.com/google/earthengine-api/blob/master/python/examples/py/FeatureCollection/from_polygons.py)"
   ]
  },
  {
   "cell_type": "code",
   "execution_count": 1,
   "metadata": {},
   "outputs": [],
   "source": [
    "# This made a black screen to pop up and thigns were frozen for a while.\n",
    "import ee\n",
    "import ee.mapclient\n",
    "\n",
    "ee.Initialize()\n",
    "ee.mapclient.centerMap(-107, 41, 6)\n",
    "\n",
    "fc = ee.FeatureCollection([\n",
    "    ee.Feature(\n",
    "        ee.Geometry.Polygon(\n",
    "            [[-109.05, 41], [-109.05, 37], [-102.05, 37], [-102.05, 41]]),\n",
    "        {'name': 'Colorado', 'fill': 1}),\n",
    "    ee.Feature(\n",
    "        ee.Geometry.Polygon(\n",
    "            [[-114.05, 37.0], [-109.05, 37.0], [-109.05, 41.0],\n",
    "             [-111.05, 41.0], [-111.05, 42.0], [-114.05, 42.0]]),\n",
    "        {'name': 'Utah', 'fill': 2})\n",
    "    ])\n",
    "\n",
    "# Fill, then outline the polygons into a blank image.\n",
    "image1 = ee.Image(0).mask(0).toByte()\n",
    "image2 = image1.paint(fc, 'fill')  # Get color from property named 'fill'\n",
    "image3 = image2.paint(fc, 3, 5)    # Outline using color 3, width 5.\n",
    "\n",
    "ee.mapclient.addToMap(image3, {\n",
    "    'palette': ['000000', 'FF0000', '00FF00', '0000FF'],\n",
    "    'max': 3,\n",
    "    'opacity': 0.5\n",
    "})"
   ]
  },
  {
   "cell_type": "code",
   "execution_count": null,
   "metadata": {},
   "outputs": [],
   "source": []
  },
  {
   "cell_type": "code",
   "execution_count": null,
   "metadata": {},
   "outputs": [],
   "source": []
  }
 ],
 "metadata": {
  "kernelspec": {
   "display_name": "Python 3",
   "language": "python",
   "name": "python3"
  },
  "language_info": {
   "codemirror_mode": {
    "name": "ipython",
    "version": 3
   },
   "file_extension": ".py",
   "mimetype": "text/x-python",
   "name": "python",
   "nbconvert_exporter": "python",
   "pygments_lexer": "ipython3",
   "version": "3.7.3"
  }
 },
 "nbformat": 4,
 "nbformat_minor": 2
}
